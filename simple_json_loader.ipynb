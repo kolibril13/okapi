{
 "cells": [
  {
   "cell_type": "code",
   "execution_count": null,
   "metadata": {
    "vscode": {
     "languageId": "plaintext"
    }
   },
   "outputs": [],
   "source": [
    "import polars as pl\n",
    "import databpy as db\n",
    "import numpy as np\n",
    "from io import StringIO\n",
    "\n",
    "# Updated JSON data\n",
    "json_file = StringIO(\"\"\"\n",
    "{\n",
    "  \"Dino\": [\n",
    "    [55.3846, 97.1795, 0.0],\n",
    "    [51.5385, 96.0256, 0.0]\n",
    "  ],\n",
    "  \"Star\": [\n",
    "    [58.2136, 91.8819, 0.0],\n",
    "    [58.1961, 92.215, 0.0]\n",
    "  ],\n",
    "  \"Is_Visible\": [\n",
    "    [true],\n",
    "    [false]\n",
    "  ],\n",
    "  \"Intensity\": [\n",
    "    [10],\n",
    "    [20]\n",
    "  ],\n",
    "  \"My Strings\": [\n",
    "    [\"A\"],\n",
    "    [\"B\"]\n",
    "  ]\n",
    "}\n",
    "\"\"\")\n",
    "\n",
    "# Load data into Polars DataFrame\n",
    "df = pl.read_json(json_file)\n",
    "columns_to_explode = [col for col in df.columns if df[col].dtype == pl.List(pl.List)]\n",
    "df = df.explode(columns_to_explode)\n",
    "\n",
    "# Create Bob object\n",
    "vertices = np.zeros((len(df), 3), dtype=np.float32)\n",
    "bob = db.create_bob(vertices, name=\"DinoStar\")\n",
    "\n",
    "# Store named attributes\n",
    "for col in df.columns:\n",
    "    \n",
    "    # Skip columns that are string-typed\n",
    "    if df[col].dtype == pl.List(pl.Utf8):\n",
    "        print(f\"Skipping column '{col}' as it contains string data.\")\n",
    "        continue\n",
    "\n",
    "    data = df[col].to_numpy()\n",
    "    if df[col].dtype == pl.List:\n",
    "        data = np.vstack(data)\n",
    "    bob.store_named_attribute(data, col)\n",
    "\n",
    "# Check one of the named attributes\n",
    "bob.named_attribute(\"Dino\")"
   ]
  },
  {
   "cell_type": "code",
   "execution_count": null,
   "metadata": {
    "vscode": {
     "languageId": "plaintext"
    }
   },
   "outputs": [],
   "source": [
    "import polars as pl\n",
    "import databpy as db\n",
    "from io import StringIO\n",
    "\n",
    "json_file = StringIO(\"\"\"\n",
    "{\n",
    "  \"Dino\": [\n",
    "    [55.3846, 97.1795, 0.0],\n",
    "    [51.5385, 96.0256, 0.0]\n",
    "  ],\n",
    "  \"Star\": [\n",
    "    [58.2136, 91.8819, 0.0],\n",
    "    [58.1961, 92.215, 0.0]\n",
    "  ]\n",
    "}\n",
    "\"\"\")\n",
    "\n",
    "df = pl.read_json(json_file)\n",
    "columns_to_explode = [col for col in df.columns if df[col].dtype == pl.List(pl.List)]\n",
    "df = df.explode(columns_to_explode)\n",
    "\n",
    "vertices = np.zeros((len(df), 3), dtype=np.float32)\n",
    "bob = db.create_bob(vertices, name=\"DinoStar\")\n",
    "\n",
    "for col in df.columns:\n",
    "    data = np.vstack(df.get_column(col).to_numpy())\n",
    "    bob.store_named_attribute(data, col)\n",
    "\n",
    "bob.named_attribute(\"Dino\")"
   ]
  }
 ],
 "metadata": {
  "language_info": {
   "name": "python"
  }
 },
 "nbformat": 4,
 "nbformat_minor": 2
}
