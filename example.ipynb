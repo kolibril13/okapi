{
 "cells": [
  {
   "cell_type": "code",
   "execution_count": null,
   "id": "9cf5072a-d125-498e-ba94-0b22c5af7d83",
   "metadata": {},
   "outputs": [],
   "source": [
    "import anywidget\n",
    "import traitlets\n",
    "\n",
    "class Counter(anywidget.AnyWidget):\n",
    "    _esm =  \"widget.js\"\n",
    "    _css =  \"widget.css\"\n",
    "\n",
    "c = Counter()\n",
    "c\n"
   ]
  }
 ],
 "metadata": {
  "kernelspec": {
   "display_name": "Python 3 (ipykernel)",
   "language": "python",
   "name": "python3"
  },
  "language_info": {
   "codemirror_mode": {
    "name": "ipython",
    "version": 3
   },
   "file_extension": ".py",
   "mimetype": "text/x-python",
   "name": "python",
   "nbconvert_exporter": "python",
   "pygments_lexer": "ipython3",
   "version": "3.11.8"
  }
 },
 "nbformat": 4,
 "nbformat_minor": 5
}
