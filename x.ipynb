{
 "cells": [
  {
   "cell_type": "code",
   "execution_count": 25,
   "id": "d0eda316-15fe-414c-9014-47e791fda64d",
   "metadata": {},
   "outputs": [],
   "source": [
    "import anywidget\n",
    "import traitlets\n",
    "\n",
    "class CounterWidget(anywidget.AnyWidget):\n",
    "    _esm = \"\"\"\n",
    "    export function render(view) {\n",
    "      let getCount = () => view.model.get(\"count\");\n",
    "      let button = document.createElement(\"button\");\n",
    "      button.classList.add(\"counter-button\");\n",
    "      button.innerHTML = `couxxxsnt is ${getCount()}`;\n",
    "      button.addEventListener(\"click\", () => {\n",
    "        view.model.set(\"count\", getCount() + 1);\n",
    "        view.model.save_changes();\n",
    "      });\n",
    "      view.model.on(\"change:count\", () => {\n",
    "        button.innerHTML = `count issss ${getCount()}`;\n",
    "      });\n",
    "      view.el.appendChild(button);\n",
    "    }\n",
    "    \"\"\"\n",
    "    _css=\"\"\"\n",
    "    .counter-button { background-color: #ea580c; }\n",
    "    .counter-button:hover { background-color: green; }\n",
    "    \"\"\"\n",
    "    count = traitlets.Int(0).tag(sync=True)\n",
    "\n"
   ]
  },
  {
   "cell_type": "code",
   "execution_count": 26,
   "id": "b13a330c",
   "metadata": {},
   "outputs": [
    {
     "data": {
      "application/vnd.jupyter.widget-view+json": {
       "model_id": "83b32558d25b403798a881b5c44b48b7",
       "version_major": 2,
       "version_minor": 0
      },
      "text/plain": [
       "CounterWidget(count=42)"
      ]
     },
     "execution_count": 26,
     "metadata": {},
     "output_type": "execute_result"
    }
   ],
   "source": [
    "counter = CounterWidget()\n",
    "counter.count = 42\n",
    "counter"
   ]
  },
  {
   "cell_type": "code",
   "execution_count": 27,
   "id": "6fd2ec26",
   "metadata": {},
   "outputs": [
    {
     "data": {
      "application/vnd.jupyter.widget-view+json": {
       "model_id": "83b32558d25b403798a881b5c44b48b7",
       "version_major": 2,
       "version_minor": 0
      },
      "text/plain": [
       "CounterWidget(count=42)"
      ]
     },
     "execution_count": 27,
     "metadata": {},
     "output_type": "execute_result"
    }
   ],
   "source": [
    "counter"
   ]
  },
  {
   "cell_type": "code",
   "execution_count": null,
   "id": "a97f2942",
   "metadata": {},
   "outputs": [],
   "source": []
  }
 ],
 "metadata": {
  "kernelspec": {
   "display_name": "Python 3 (ipykernel)",
   "language": "python",
   "name": "python3"
  },
  "language_info": {
   "codemirror_mode": {
    "name": "ipython",
    "version": 3
   },
   "file_extension": ".py",
   "mimetype": "text/x-python",
   "name": "python",
   "nbconvert_exporter": "python",
   "pygments_lexer": "ipython3",
   "version": "3.11.2"
  }
 },
 "nbformat": 4,
 "nbformat_minor": 5
}
