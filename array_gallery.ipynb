{
 "cells": [
  {
   "cell_type": "markdown",
   "metadata": {},
   "source": [
    "# 2D Arrays"
   ]
  },
  {
   "cell_type": "code",
   "execution_count": null,
   "metadata": {},
   "outputs": [],
   "source": [
    "import json\n",
    "import os\n",
    "import shutil\n",
    "import time\n",
    "from base64 import b64decode\n",
    "from io import BytesIO\n",
    "from IPython import get_ipython\n",
    "from IPython.core.magic import register_cell_magic\n",
    "\n",
    "from pathlib import Path\n",
    "import matplotlib.pyplot as plt\n",
    "import numpy as np\n",
    "import PIL\n",
    "import seaborn as sns\n",
    "#%config InlineBackend.figure_format = 'svg'  \n",
    "\n",
    "@register_cell_magic\n",
    "def capture_png(line, cell):\n",
    "    get_ipython().run_cell_magic(\n",
    "        'capture',\n",
    "        ' --no-stderr --no-stdout result',\n",
    "        cell\n",
    "    )\n",
    "\n",
    "\n",
    "    out_paths = line.strip().split(' ')\n",
    "    for output in result.outputs:\n",
    "        display(output)\n",
    "        \n",
    "        data = output.data\n",
    "        if 'image/png' in data:\n",
    "            path = out_paths.pop(0)\n",
    "            path = path.split(\".png\")[0] + str(time.time_ns()) + \".png\"\n",
    "            if not path:\n",
    "                raise ValueError('Too few paths given!')\n",
    "            png_bytes = data['image/png']\n",
    "            if isinstance(png_bytes, str):\n",
    "                png_bytes = b64decode(png_bytes)\n",
    "            assert isinstance(png_bytes, bytes)\n",
    "            bytes_io = BytesIO(png_bytes)\n",
    "            image = PIL.Image.open(bytes_io)\n",
    "            image.save(path, 'png')\n",
    "            \n",
    "        code =cell\n",
    "\n",
    "        with open(\"imgs/array_gallery.json\", \"r\") as jsonFile:\n",
    "            data = json.load(jsonFile)\n",
    "\n",
    "        data[path[5:]] = code\n",
    "\n",
    "        with open(\"imgs/array_gallery.json\", \"w\") as jsonFile:\n",
    "            json.dump(data, jsonFile, indent=2)\n",
    "\n",
    "\n",
    "\n",
    "\n",
    "    \n",
    "def disp(x, sep='.0f', annot=False,  figsize=(5,5)): \n",
    "    plt.figure(figsize =figsize)\n",
    "    plt.axis(\"off\")\n",
    "    sns.heatmap(x,annot=annot,fmt=sep, cmap=\"YlGnBu\", cbar=False); # Change range with: vmin=0, vmax=1\n",
    "        \n",
    "temp_path = Path.cwd() / \"temp_images\"\n",
    "temp_path.mkdir(parents=False, exist_ok=True)"
   ]
  },
  {
   "cell_type": "code",
   "execution_count": null,
   "metadata": {},
   "outputs": [],
   "source": [
    "%%capture_png imgs/example.png\n",
    "#Checkboard\n",
    "pixX= 15\n",
    "pixY= 15\n",
    "array = [[(i+j)%2 for i in range(pixX)] for j in range(pixY)]\n",
    "disp(array)"
   ]
  },
  {
   "cell_type": "code",
   "execution_count": null,
   "metadata": {},
   "outputs": [],
   "source": [
    "%%capture_png imgs/example.png\n",
    "array=np.full((10,10),10)\n",
    "disp(array)"
   ]
  },
  {
   "cell_type": "code",
   "execution_count": null,
   "metadata": {},
   "outputs": [],
   "source": [
    "%%capture_png imgs/example.png\n",
    "#Linear diagonal\n",
    "array = [[i+j for i in range(pixX)] for j in range(pixY)]\n",
    "disp(array)"
   ]
  },
  {
   "cell_type": "code",
   "execution_count": null,
   "metadata": {},
   "outputs": [],
   "source": [
    "%%capture_png imgs/example.png\n",
    "# alternative with numpy\n",
    "array=np.fromfunction(lambda i, j: i + j, shape=(15, 15))\n",
    "disp(array)"
   ]
  },
  {
   "cell_type": "code",
   "execution_count": null,
   "metadata": {},
   "outputs": [],
   "source": [
    "%%capture_png imgs/example.png\n",
    "#Linear in axis1 direction\n",
    "array= [[i for i in range(pixX)] for j in range(pixY)]\n",
    "disp(array)"
   ]
  },
  {
   "cell_type": "code",
   "execution_count": null,
   "metadata": {},
   "outputs": [],
   "source": [
    "%%capture_png imgs/example.png\n",
    "#Linear counter hori\n",
    "array= [[i*pixY+j for i in range(pixX)] for j in range(pixY)]\n",
    "disp(array)"
   ]
  },
  {
   "cell_type": "code",
   "execution_count": null,
   "metadata": {},
   "outputs": [],
   "source": [
    "%%capture_png imgs/example.png\n",
    "#Random\n",
    "array = np.random.randint(0, 10, size=(15, 15))\n",
    "disp(array)"
   ]
  },
  {
   "cell_type": "code",
   "execution_count": null,
   "metadata": {},
   "outputs": [],
   "source": [
    "%%capture_png imgs/example.png\n",
    "# sinudial fromfunction\n",
    "array=np.fromfunction(lambda i, j: np.sin(j), (15, 15))\n",
    "disp(array, sep= \".1f\")"
   ]
  },
  {
   "cell_type": "code",
   "execution_count": null,
   "metadata": {},
   "outputs": [],
   "source": [
    "%%capture_png imgs/example.png\n",
    "x = np.linspace(0, 15, 15)\n",
    "y = np.linspace(0, 15, 15)\n",
    "xx, yy = np.meshgrid(x, y, sparse=False)\n",
    "disp(xx)"
   ]
  },
  {
   "cell_type": "code",
   "execution_count": null,
   "metadata": {},
   "outputs": [],
   "source": [
    "%%capture_png imgs/example.png\n",
    "x = np.linspace(0, 15, 15)\n",
    "y = np.linspace(0, 15, 15)\n",
    "xx, yy = np.meshgrid(x, y, sparse=False)\n",
    "disp(yy)"
   ]
  },
  {
   "cell_type": "code",
   "execution_count": null,
   "metadata": {},
   "outputs": [],
   "source": [
    "%%capture_png imgs/example.png\n",
    "x = np.linspace(0, 15, 15)\n",
    "y = np.linspace(0, 15, 15)\n",
    "xx, yy = np.meshgrid(x,y, sparse= False)\n",
    "array = xx+yy\n",
    "disp(array)"
   ]
  },
  {
   "cell_type": "code",
   "execution_count": null,
   "metadata": {},
   "outputs": [],
   "source": [
    "%%capture_png imgs/example.png\n",
    "x= np.arange(-pixX//2,pixX//2)\n",
    "y= np.arange(-pixY//2,pixY//2)\n",
    "xx, yy = np.meshgrid(x,y, sparse= False)\n",
    "array = xx+yy\n",
    "array[ array <= 0 ] = 0\n",
    "disp(array)"
   ]
  },
  {
   "cell_type": "code",
   "execution_count": null,
   "metadata": {},
   "outputs": [],
   "source": [
    "%%capture_png imgs/example.png\n",
    "#Linear increase from center in all directions\n",
    "pixX,pixY=(15,15)\n",
    "x, y = np.meshgrid(np.linspace(-1,1,pixX), np.linspace(-1,1,pixY),sparse=False)\n",
    "array = np.sqrt(x**2+y**2)\n",
    "disp(array, sep='.1f' )"
   ]
  },
  {
   "cell_type": "code",
   "execution_count": null,
   "metadata": {},
   "outputs": [],
   "source": [
    "%%capture_png imgs/example.png\n",
    "#Gaussian\n",
    "pixX,pixY=(15,15)\n",
    "x, y = np.meshgrid(np.linspace(-1,1,pixX), np.linspace(-1,1,pixY))\n",
    "d = np.sqrt(x**2+y**2)\n",
    "sigma, mu = 1.0, 0.0\n",
    "array = np.exp(-( (d-mu)**2 / ( 2.0 * sigma**2 ) ) )\n",
    "disp(array, sep='.1f' )"
   ]
  },
  {
   "cell_type": "code",
   "execution_count": null,
   "metadata": {},
   "outputs": [],
   "source": [
    "%%capture_png imgs/example.png\n",
    "# One Minus Gaussian and smaller sigma\n",
    "pixX,pixY=(15,15)\n",
    "x, y = np.meshgrid(np.linspace(-1,1,pixX), np.linspace(-1,1,pixY))\n",
    "d = np.sqrt(x**2+y**2)\n",
    "sigma, mu = 0.4, 0.0\n",
    "array = 1-np.exp(-( (d-mu)**2 / ( 2.0 * sigma**2 ) ) )\n",
    "disp(array, sep='.1f' )"
   ]
  },
  {
   "cell_type": "code",
   "execution_count": null,
   "metadata": {},
   "outputs": [],
   "source": [
    "%%capture_png imgs/example.png\n",
    "x, y = np.indices((31, 31))\n",
    "dx=15\n",
    "dy=15\n",
    "radius=13.5\n",
    "circ = (x-dx)**2 + (y-dy)**2 <= radius**2\n",
    "array = np.zeros(x.shape)\n",
    "array[circ]=1\n",
    "disp(array)"
   ]
  },
  {
   "cell_type": "code",
   "execution_count": null,
   "metadata": {},
   "outputs": [],
   "source": [
    "%%capture_png imgs/example.png\n",
    "# spiral  # code inspired from : https://stackoverflow.com/questions/36834505/creating-a-spiral-array-in-python\n",
    "pixX,pixY=(15,15)\n",
    "def spiral(width, height):\n",
    "    NORTH, S, W, E = (0, -1), (0, 1), (-1, 0), (1, 0) # directions\n",
    "    turn_right = {NORTH: E, E: S, S: W, W: NORTH} # old -> new direction\n",
    "\n",
    "    if width < 1 or height < 1:\n",
    "        raise ValueError\n",
    "    x, y = width // 2, height // 2 # start near the center\n",
    "    dx, dy = NORTH # initial direction\n",
    "    matrix = [[None] * width for _ in range(height)]\n",
    "    count = 0\n",
    "    while True:\n",
    "        count += 1\n",
    "        matrix[y][x] = count # visit\n",
    "        # try to turn right\n",
    "        new_dx, new_dy = turn_right[dx,dy]\n",
    "        new_x, new_y = x + new_dx, y + new_dy\n",
    "        if (0 <= new_x <= width and 0 <= new_y <= height and\n",
    "            matrix[new_y][new_x] is None): # can turn right\n",
    "            x, y = new_x, new_y\n",
    "            dx, dy = new_dx, new_dy\n",
    "        else: # try to move straight\n",
    "            x, y = x + dx, y + dy\n",
    "            if not (0 <= x < width and 0 <= y < height):\n",
    "                return matrix # nowhere to go\n",
    "num_pixels=19\n",
    "array=spiral(pixX, pixY)\n",
    "disp(array)"
   ]
  },
  {
   "cell_type": "code",
   "execution_count": null,
   "metadata": {},
   "outputs": [],
   "source": [
    "%%capture_png imgs/example.png\n",
    "# linear_step fromfunction with transition\n",
    "def linear_step_func(x,x0,x1):\n",
    "    y= np.piecewise(x, [\n",
    "        x < x0, \n",
    "       (x >= x0) & (x <= x1), \n",
    "        x > x1],\n",
    "            [0.,\n",
    "            lambda x: x/(x1-x0)+x0/(x0-x1), \n",
    "             1.]\n",
    "       )\n",
    "    return y\n",
    "array=np.fromfunction(lambda i, j: linear_step_func(j,3,12), (15, 15))\n",
    "disp(array,sep='.1f')"
   ]
  },
  {
   "cell_type": "code",
   "execution_count": null,
   "metadata": {
    "tags": []
   },
   "outputs": [],
   "source": [
    "%%capture_png imgs/example.png\n",
    "#from 4 regions\n",
    "region0 = np.zeros( (10,8) )\n",
    "region1 = np.ones( (10,7) )\n",
    "region_top= np.concatenate( [region0,region1] , axis=1)\n",
    "\n",
    "region2 = np.full( (5,5) , 2)\n",
    "region3 = np.full( (5,10) ,3)\n",
    "region_bottom = np.concatenate( [region2,region3] , axis=1)\n",
    "\n",
    "array= np.concatenate( [region_top,region_bottom] ,axis=0)\n",
    "disp(array)"
   ]
  },
  {
   "cell_type": "code",
   "execution_count": null,
   "metadata": {},
   "outputs": [],
   "source": [
    "%%capture_png imgs/example.png\n",
    "# prepare some coordinates\n",
    "x, y = np.indices((8, 8))\n",
    "\n",
    "cube1 = (x < 3) & (y < 3)\n",
    "cube2 = (x >= 5) & (y >= 5)\n",
    "link = np.sqrt(abs(x - y)) <= 1\n",
    "array = np.zeros(x.shape)\n",
    "array[link]=14\n",
    "array[cube1]=10\n",
    "array[cube2]=30\n",
    "disp(array)"
   ]
  },
  {
   "cell_type": "code",
   "execution_count": null,
   "metadata": {},
   "outputs": [],
   "source": [
    "from pathlib import Path\n",
    "\n",
    "base_directory = Path.cwd() /\"temp_images\"\n",
    "include_text = \"example\"\n",
    "suffix = \".png\"\n",
    "\n",
    "file_names = []\n",
    "for subp in base_directory.rglob(\"*\"): # using python assignment operator: x &= 3 equals x = x & 3\n",
    "    cond = True\n",
    "    cond &= include_text in subp.name\n",
    "    cond &= (suffix == subp.suffix)\n",
    "    if cond is True:\n",
    "        file_names.append(subp)\n",
    "file_names.sort()\n",
    "len(file_names)"
   ]
  },
  {
   "cell_type": "code",
   "execution_count": null,
   "metadata": {},
   "outputs": [],
   "source": [
    "# save here\n",
    "file_name = \"array_gallery\"\n",
    "base_directory = temp_path\n",
    "target_directory = Path.cwd() / \"imgs\"\n",
    "target_directory.mkdir(parents=True, exist_ok=True)\n",
    "\n",
    "prefix = file_name # delete files that where created in the past \n",
    "for file in target_directory.rglob(\"*\"):\n",
    "    if (prefix in file.name):\n",
    "        file.unlink() \n",
    "\n",
    "paths = sorted(Path(base_directory).iterdir(), key=os.path.getmtime)\n",
    "dest_names = list(name_snippet_pairs.keys())\n",
    "new_keys = []\n",
    "for num, (p,des) in enumerate(zip(paths,dest_names)):\n",
    "    to_path = target_directory /  f\"{file_name}_{num:03}_{des}\"   \n",
    "    shutil.copy(p,  to_path)\n",
    "    new_keys.append(to_path.name)\n",
    "new_name_snippet_pairs ={} \n",
    "new_values = list(name_snippet_pairs.values())\n",
    "\n",
    "for key, value in zip(new_keys,new_values):\n",
    "    if value.startswith(\"\\n\"):\n",
    "        value = value[1:]\n",
    "    if value.endswith(\"\\n\"):\n",
    "        value = value[:-1]\n",
    "    value += \"\\n\"\n",
    "    new_name_snippet_pairs[key]=value\n",
    "with open(f'imgs/{file_name}.json', 'w') as fp:\n",
    "    json.dump(new_name_snippet_pairs, fp,indent=2)\n",
    "display(new_name_snippet_pairs)\n",
    "!rm -r $base_directory\n",
    "!git add ."
   ]
  },
  {
   "cell_type": "code",
   "execution_count": null,
   "metadata": {},
   "outputs": [],
   "source": [
    "# %%capture_png final_output.png\n",
    "# import matplotlib.pyplot as plt\n",
    "# from mpl_toolkits.axes_grid1 import ImageGrid\n",
    "# import numpy as np\n",
    "\n",
    "# plt.rcParams['figure.dpi'] = 150\n",
    "# fig = plt.figure(figsize=(15., 12.), facecolor= \"#89CBEC\")\n",
    "# grid = ImageGrid(fig, 111,  \n",
    "#                  nrows_ncols=(4, 5),  \n",
    "#                  axes_pad=0.1, \n",
    "#                  )\n",
    "\n",
    "# for ax, im in zip(grid, file_names):\n",
    "#     im = plt.imread(im)\n",
    "#     ax.axis(\"off\")\n",
    "#     ax.imshow(im)\n",
    "\n",
    "# plt.show()"
   ]
  },
  {
   "cell_type": "code",
   "execution_count": null,
   "metadata": {},
   "outputs": [],
   "source": [
    "#shutil.rmtree(temp_path) # remove images folder"
   ]
  }
 ],
 "metadata": {
  "kernelspec": {
   "display_name": "Python 3",
   "language": "python",
   "name": "python3"
  },
  "language_info": {
   "codemirror_mode": {
    "name": "ipython",
    "version": 3
   },
   "file_extension": ".py",
   "mimetype": "text/x-python",
   "name": "python",
   "nbconvert_exporter": "python",
   "pygments_lexer": "ipython3",
   "version": "3.9.5"
  }
 },
 "nbformat": 4,
 "nbformat_minor": 4
}
