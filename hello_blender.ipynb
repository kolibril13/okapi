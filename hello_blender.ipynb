{
 "cells": [
  {
   "cell_type": "code",
   "execution_count": 1,
   "metadata": {},
   "outputs": [
    {
     "ename": "ModuleNotFoundError",
     "evalue": "No module named 'bpy'",
     "output_type": "error",
     "traceback": [
      "\u001b[0;31m---------------------------------------------------------------------------\u001b[0m",
      "\u001b[0;31mModuleNotFoundError\u001b[0m                       Traceback (most recent call last)",
      "Cell \u001b[0;32mIn[1], line 1\u001b[0m\n\u001b[0;32m----> 1\u001b[0m \u001b[38;5;28;01mimport\u001b[39;00m\u001b[38;5;250m \u001b[39m\u001b[38;5;21;01mbpy\u001b[39;00m\n\u001b[1;32m      4\u001b[0m \u001b[38;5;28;01mclass\u001b[39;00m\u001b[38;5;250m \u001b[39m\u001b[38;5;21;01mCurveTextImport\u001b[39;00m(bpy\u001b[38;5;241m.\u001b[39mtypes\u001b[38;5;241m.\u001b[39mOperator):\n\u001b[1;32m      5\u001b[0m     bl_idname \u001b[38;5;241m=\u001b[39m \u001b[38;5;124m\"\u001b[39m\u001b[38;5;124mcurve.text_import\u001b[39m\u001b[38;5;124m\"\u001b[39m\n",
      "\u001b[0;31mModuleNotFoundError\u001b[0m: No module named 'bpy'"
     ]
    }
   ],
   "source": [
    "import bpy\n",
    "\n",
    "\n",
    "class CurveTextImport(bpy.types.Operator):\n",
    "    bl_idname = \"curve.text_import\"\n",
    "    bl_label = \"Import a text file as text object\"\n",
    "    filepath: bpy.props.StringProperty(subtype='FILE_PATH', options={'SKIP_SAVE'})\n",
    "\n",
    "    @classmethod\n",
    "    def poll(cls, context):\n",
    "        return (context.area and context.area.type == \"VIEW_3D\")\n",
    "\n",
    "    def execute(self, context):\n",
    "        if not self.filepath or not self.filepath.endswith(\".txt\"):\n",
    "            return {'CANCELLED'}\n",
    "\n",
    "        with open(self.filepath) as file:\n",
    "            text_curve = bpy.data.curves.new(type=\"FONT\", name=\"Text\")\n",
    "            text_curve.body = ''.join(file.readlines())\n",
    "            text_object = bpy.data.objects.new(name=\"Text\", object_data=text_curve)\n",
    "            bpy.context.scene.collection.objects.link(text_object)\n",
    "        return {'FINISHED'}\n",
    "\n",
    "    def invoke(self, context, event):\n",
    "        if self.filepath:\n",
    "            return self.execute(context)\n",
    "        context.window_manager.fileselect_add(self)\n",
    "        return {'RUNNING_MODAL'}\n",
    "\n",
    "\n",
    "class CURVE_FH_text_import(bpy.types.FileHandler):\n",
    "    bl_idname = \"CURVE_FH_text_import\"\n",
    "    bl_label = \"File handler for curve text object import\"\n",
    "    bl_import_operator = \"curve.text_import\"\n",
    "    bl_file_extensions = \".txt\"\n",
    "\n",
    "    @classmethod\n",
    "    def poll_drop(cls, context):\n",
    "        return (context.area and context.area.type == 'VIEW_3D')\n",
    "\n",
    "\n",
    "bpy.utils.register_class(CurveTextImport)\n",
    "bpy.utils.register_class(CURVE_FH_text_import)\n"
   ]
  }
 ],
 "metadata": {
  "kernelspec": {
   "display_name": ".venv",
   "language": "python",
   "name": "python3"
  },
  "language_info": {
   "codemirror_mode": {
    "name": "ipython",
    "version": 3
   },
   "file_extension": ".py",
   "mimetype": "text/x-python",
   "name": "python",
   "nbconvert_exporter": "python",
   "pygments_lexer": "ipython3",
   "version": "3.12.6"
  }
 },
 "nbformat": 4,
 "nbformat_minor": 2
}
