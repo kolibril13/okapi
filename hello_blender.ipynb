{
 "cells": [
  {
   "cell_type": "code",
   "execution_count": null,
   "metadata": {
    "vscode": {
     "languageId": "plaintext"
    }
   },
   "outputs": [],
   "source": [
    "import bpy\n",
    "\n",
    "\n",
    "class CurveTextImport(bpy.types.Operator):\n",
    "    \"\"\" Test importer that creates a text object from a .txt file \"\"\"\n",
    "    bl_idname = \"curve.text_import\"\n",
    "    bl_label = \"Import a text file as text object\"\n",
    "\n",
    "    \"\"\"\n",
    "    This Operator supports import one .txt file at the time, we need the\n",
    "    following filepath property that the file handler will use to set file path data.\n",
    "    \"\"\"\n",
    "    filepath: bpy.props.StringProperty(subtype='FILE_PATH', options={'SKIP_SAVE'})\n",
    "\n",
    "    @classmethod\n",
    "    def poll(cls, context):\n",
    "        return (context.area and context.area.type == \"VIEW_3D\")\n",
    "\n",
    "    def execute(self, context):\n",
    "        \"\"\" Calls to this Operator can set unfiltered filepaths, ensure the file extension is .txt. \"\"\"\n",
    "        if not self.filepath or not self.filepath.endswith(\".txt\"):\n",
    "            return {'CANCELLED'}\n",
    "\n",
    "        with open(self.filepath) as file:\n",
    "            text_curve = bpy.data.curves.new(type=\"FONT\", name=\"Text\")\n",
    "            text_curve.body = ''.join(file.readlines())\n",
    "            text_object = bpy.data.objects.new(name=\"Text\", object_data=text_curve)\n",
    "            bpy.context.scene.collection.objects.link(text_object)\n",
    "        return {'FINISHED'}\n",
    "\n",
    "    \"\"\"\n",
    "    By default the file handler invokes the operator with the filepath property set.\n",
    "    In this example if this property is set the operator is executed, if not the\n",
    "    file select window is invoked.\n",
    "    This depends on setting ``options={'SKIP_SAVE'}`` to the property options to avoid\n",
    "    to reuse filepath data between operator calls.\n",
    "    \"\"\"\n",
    "\n",
    "    def invoke(self, context, event):\n",
    "        if self.filepath:\n",
    "            return self.execute(context)\n",
    "        context.window_manager.fileselect_add(self)\n",
    "        return {'RUNNING_MODAL'}\n",
    "\n",
    "\n",
    "class CURVE_FH_text_import(bpy.types.FileHandler):\n",
    "    bl_idname = \"CURVE_FH_text_import\"\n",
    "    bl_label = \"File handler for curve text object import\"\n",
    "    bl_import_operator = \"curve.text_import\"\n",
    "    bl_file_extensions = \".txt\"\n",
    "\n",
    "    @classmethod\n",
    "    def poll_drop(cls, context):\n",
    "        return (context.area and context.area.type == 'VIEW_3D')\n",
    "\n",
    "\n",
    "bpy.utils.register_class(CurveTextImport)\n",
    "bpy.utils.register_class(CURVE_FH_text_import)\n"
   ]
  }
 ],
 "metadata": {
  "language_info": {
   "name": "python"
  }
 },
 "nbformat": 4,
 "nbformat_minor": 2
}
