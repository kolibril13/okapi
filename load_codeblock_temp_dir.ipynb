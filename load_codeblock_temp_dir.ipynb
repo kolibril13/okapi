{
 "cells": [
  {
   "cell_type": "code",
   "execution_count": null,
   "metadata": {},
   "outputs": [],
   "source": []
  },
  {
   "cell_type": "code",
   "execution_count": 8,
   "metadata": {},
   "outputs": [
    {
     "ename": "ModuleNotFoundError",
     "evalue": "No module named 'bpy'",
     "output_type": "error",
     "traceback": [
      "\u001b[0;31m---------------------------------------------------------------------------\u001b[0m",
      "\u001b[0;31mModuleNotFoundError\u001b[0m                       Traceback (most recent call last)",
      "Cell \u001b[0;32mIn[8], line 4\u001b[0m\n\u001b[1;32m      2\u001b[0m \u001b[38;5;28;01mimport\u001b[39;00m\u001b[38;5;250m \u001b[39m\u001b[38;5;21;01mtypst\u001b[39;00m\n\u001b[1;32m      3\u001b[0m \u001b[38;5;28;01mimport\u001b[39;00m\u001b[38;5;250m \u001b[39m\u001b[38;5;21;01mtempfile\u001b[39;00m\n\u001b[0;32m----> 4\u001b[0m \u001b[38;5;28;01mimport\u001b[39;00m\u001b[38;5;250m \u001b[39m\u001b[38;5;21;01mbpy\u001b[39;00m\n\u001b[1;32m      6\u001b[0m temp_dir \u001b[38;5;241m=\u001b[39m Path(tempfile\u001b[38;5;241m.\u001b[39mgettempdir())\n\u001b[1;32m      7\u001b[0m typst_file \u001b[38;5;241m=\u001b[39m temp_dir \u001b[38;5;241m/\u001b[39m \u001b[38;5;124m\"\u001b[39m\u001b[38;5;124mhello.typ\u001b[39m\u001b[38;5;124m\"\u001b[39m\n",
      "\u001b[0;31mModuleNotFoundError\u001b[0m: No module named 'bpy'"
     ]
    }
   ],
   "source": [
    "from pathlib import Path\n",
    "import typst\n",
    "import tempfile\n",
    "import bpy\n",
    "\n",
    "temp_dir = Path(tempfile.gettempdir())\n",
    "typst_file = temp_dir / \"hello.typ\"\n",
    "svg_file = temp_dir / \"hello.svg\"\n",
    "\n",
    "file_content = \"\"\"\n",
    "#import \"@preview/codelst:2.0.1\": sourcecode\n",
    "#import \"@preview/tablex:0.0.8\": tablex\n",
    "\n",
    "#let sourcecode = sourcecode.with(frame: (code) => block(\n",
    "  radius: 10pt,\n",
    "  fill: luma(200),\n",
    "  stroke: luma(30),\n",
    "  inset: 4pt,\n",
    "  text(size: 20pt, code)\n",
    "))\n",
    "\n",
    "= Gitlab\n",
    "#sourcecode[```yaml\n",
    "default:\n",
    "  image: alpine:3.19.1\n",
    "------\n",
    "rules:\n",
    "  - if: $CI_COMMIT_BRANCH == \"main\"\n",
    "rules:\n",
    "  - changes:\n",
    "    - README.md\n",
    "```]\n",
    "\n",
    "== Python code\n",
    "\n",
    "#sourcecode[```python\n",
    "for i in range(0,10):\n",
    "  print(i)\n",
    "```]\n",
    "\"\"\"\n",
    "\n",
    "typst_file.write_text(file_content)\n",
    "typst.compile(typst_file, format=\"svg\", output=str(svg_file))\n",
    "\n",
    "bpy.ops.import_curve.svg(filepath=str(svg_file))\n",
    "col = bpy.context.scene.collection.children['hello.svg']\n",
    "col.name = \"Formula\""
   ]
  },
  {
   "cell_type": "code",
   "execution_count": null,
   "metadata": {},
   "outputs": [],
   "source": []
  }
 ],
 "metadata": {
  "kernelspec": {
   "display_name": ".venv",
   "language": "python",
   "name": "python3"
  },
  "language_info": {
   "codemirror_mode": {
    "name": "ipython",
    "version": 3
   },
   "file_extension": ".py",
   "mimetype": "text/x-python",
   "name": "python",
   "nbconvert_exporter": "python",
   "pygments_lexer": "ipython3",
   "version": "3.12.6"
  }
 },
 "nbformat": 4,
 "nbformat_minor": 2
}
