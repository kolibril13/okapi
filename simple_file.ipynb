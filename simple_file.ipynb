{
 "cells": [
  {
   "cell_type": "code",
   "execution_count": 1,
   "metadata": {},
   "outputs": [],
   "source": [
    "from pathlib import Path\n",
    "import typst\n",
    "\n",
    "temp_dir = Path.cwd()\n",
    "typst_file = temp_dir / \"hello.typ\"\n",
    "svg_file = temp_dir / \"hello.svg\"\n",
    "\n",
    "file_content = \"$ sum_(k=1)^n k = (n(n+1)) / 2 $\"\n",
    "\n",
    "\n",
    "typst_file.write_text(file_content)\n",
    "typst.compile(typst_file, format=\"svg\", output=str(svg_file))"
   ]
  },
  {
   "cell_type": "code",
   "execution_count": null,
   "metadata": {},
   "outputs": [],
   "source": []
  },
  {
   "cell_type": "code",
   "execution_count": 1,
   "metadata": {},
   "outputs": [],
   "source": [
    "from pathlib import Path\n",
    "import typst\n",
    "\n",
    "temp_dir = Path.cwd()\n",
    "typst_file = temp_dir / \"hello.typ\"\n",
    "svg_file = temp_dir / \"hello.svg\"\n",
    "\n",
    "file_content = \"\"\"\n",
    "#set page(width: auto, height: auto, margin: 0cm, fill: none)\n",
    "#set text(size: 80pt)\n",
    "$ sum_(k=1)^n k = (n(n+1)) / 2 $\n",
    "\"\"\"\n",
    "\n",
    "\n",
    "typst_file.write_text(file_content)\n",
    "typst.compile(typst_file, format=\"svg\", output=str(svg_file))"
   ]
  },
  {
   "cell_type": "code",
   "execution_count": 4,
   "metadata": {},
   "outputs": [],
   "source": [
    "from pathlib import Path\n",
    "import typst\n",
    "\n",
    "temp_dir = Path.cwd()\n",
    "typst_file = temp_dir / \"hello.typ\"\n",
    "png_file = temp_dir / \"hello.png\"\n",
    "\n",
    "file_content = \"\"\"\n",
    "#set page(width: auto, height: auto, margin: 0cm, fill: none)\n",
    "#set text(size: 80pt)\n",
    "$ sum_(k=1)^n k = (n(n+1)) / 2 $\n",
    "\"\"\"\n",
    "\n",
    "\n",
    "typst_file.write_text(file_content)\n",
    "typst.compile(typst_file, format=\"png\", output=str(png_file))"
   ]
  },
  {
   "cell_type": "code",
   "execution_count": 1,
   "metadata": {},
   "outputs": [],
   "source": [
    "from pathlib import Path\n",
    "import typst\n",
    "\n",
    "temp_dir = Path.home() / \"Desktop\"\n",
    "typst_file = temp_dir / \"simple.typ\"\n",
    "svg_file = temp_dir / \"hello.svg\"\n",
    "\n",
    "file_content = \"\"\"\n",
    "#set page(width: auto, height: auto, margin: 0cm, fill: none)\n",
    "#set text(size: 80pt)\n",
    "$ a+b=c $\n",
    "\"\"\"\n",
    "\n",
    "\n",
    "typst_file.write_text(file_content)\n",
    "typst.compile(typst_file, format=\"svg\", output=str(svg_file))"
   ]
  },
  {
   "cell_type": "code",
   "execution_count": 1,
   "metadata": {},
   "outputs": [],
   "source": [
    "from pathlib import Path\n",
    "import typst\n",
    "\n",
    "temp_dir = Path.cwd()\n",
    "typst_file = temp_dir / \"hello.typ\"\n",
    "png_file = temp_dir / \"hello.png\"\n",
    "\n",
    "file_content = \"\"\"\n",
    "#set page(width: auto, height: auto, margin: 1cm, fill: none)\n",
    "#set text(size: 80pt)\n",
    "$ sum$\n",
    "\"\"\"\n",
    "\n",
    "\n",
    "typst_file.write_text(file_content)\n",
    "typst.compile(typst_file, format=\"png\", output=str(png_file))"
   ]
  },
  {
   "cell_type": "code",
   "execution_count": null,
   "metadata": {},
   "outputs": [],
   "source": []
  }
 ],
 "metadata": {
  "kernelspec": {
   "display_name": ".venv",
   "language": "python",
   "name": "python3"
  },
  "language_info": {
   "codemirror_mode": {
    "name": "ipython",
    "version": 3
   },
   "file_extension": ".py",
   "mimetype": "text/x-python",
   "name": "python",
   "nbconvert_exporter": "python",
   "pygments_lexer": "ipython3",
   "version": "3.12.6"
  }
 },
 "nbformat": 4,
 "nbformat_minor": 2
}
