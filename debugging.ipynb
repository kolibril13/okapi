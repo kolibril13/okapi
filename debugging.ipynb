{
 "cells": [
  {
   "cell_type": "code",
   "execution_count": 2,
   "metadata": {},
   "outputs": [
    {
     "data": {
      "text/plain": [
       "(polars.series.series.Series,\n",
       " shape: (2, 2)\n",
       " ┌─────────────────────────┬─────────────────────────┐\n",
       " │ Dino                    ┆ Star                    │\n",
       " │ ---                     ┆ ---                     │\n",
       " │ list[f64]               ┆ list[f64]               │\n",
       " ╞═════════════════════════╪═════════════════════════╡\n",
       " │ [55.3846, 97.1795, 0.0] ┆ [58.2136, 91.8819, 0.0] │\n",
       " │ [51.5385, 96.0256, 0.0] ┆ [58.1961, 92.215, 0.0]  │\n",
       " └─────────────────────────┴─────────────────────────┘)"
      ]
     },
     "execution_count": 2,
     "metadata": {},
     "output_type": "execute_result"
    }
   ],
   "source": [
    "import polars as pl\n",
    "from io import StringIO\n",
    "\n",
    "\n",
    "# 1. Create test data\n",
    "json_file = StringIO(\"\"\"\n",
    "{\n",
    "  \"Dino\": [\n",
    "    [55.3846, 97.1795, 0.0],\n",
    "    [51.5385, 96.0256, 0.0]\n",
    "  ],\n",
    "  \"Star\": [\n",
    "    [58.2136, 91.8819, 0.0],\n",
    "    [58.1961, 92.215, 0.0]\n",
    "  ]\n",
    "}\n",
    "\"\"\")\n",
    "\n",
    "df = pl.read_json(json_file)\n",
    "    \n",
    "# 2. Convert JSON to DataFrame with List[3] schema\n",
    "columns_to_explode = [col for col in df.columns if df[col].dtype == pl.List(pl.List)]\n",
    "df = df.explode(columns_to_explode)\n",
    "type(df[\"Dino\"] [0]) , df"
   ]
  },
  {
   "cell_type": "code",
   "execution_count": 3,
   "metadata": {},
   "outputs": [
    {
     "data": {
      "text/plain": [
       "polars.series.series.Series"
      ]
     },
     "execution_count": 3,
     "metadata": {},
     "output_type": "execute_result"
    }
   ],
   "source": [
    "import polars as pl\n",
    "\n",
    "# Read the JSON file\n",
    "df = pl.read_json(\"/Users/jan-hendrik/projects/blender_csv_import/generate_data/dino_star_vectors_3d_vector.json\")\n",
    "# Identify columns with list[list] values\n",
    "columns_to_explode = [col for col in df.columns if df[col].dtype == pl.List(pl.List)]\n",
    "# Explode all identified columns\n",
    "df = df.explode(columns_to_explode)\n",
    "\n",
    "\n",
    "type(df[\"Dino\"] [0])"
   ]
  },
  {
   "cell_type": "code",
   "execution_count": null,
   "metadata": {},
   "outputs": [],
   "source": []
  }
 ],
 "metadata": {
  "kernelspec": {
   "display_name": ".venv",
   "language": "python",
   "name": "python3"
  },
  "language_info": {
   "codemirror_mode": {
    "name": "ipython",
    "version": 3
   },
   "file_extension": ".py",
   "mimetype": "text/x-python",
   "name": "python",
   "nbconvert_exporter": "python",
   "pygments_lexer": "ipython3",
   "version": "3.12.6"
  }
 },
 "nbformat": 4,
 "nbformat_minor": 2
}
