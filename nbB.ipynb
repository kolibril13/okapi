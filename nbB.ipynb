{
 "cells": [
  {
   "cell_type": "code",
   "execution_count": 1,
   "id": "fdc150fa-254e-4c69-a090-e36ebf9f17ca",
   "metadata": {},
   "outputs": [
    {
     "data": {
      "application/vnd.jupyter.widget-view+json": {
       "model_id": "827bb5787d1446b3a8d9672a359f7daa",
       "version_major": 2,
       "version_minor": 0
      },
      "text/plain": [
       "Counter()"
      ]
     },
     "execution_count": 1,
     "metadata": {},
     "output_type": "execute_result"
    }
   ],
   "source": [
    "import anywidget\n",
    "import traitlets\n",
    "\n",
    "class Counter(anywidget.AnyWidget):\n",
    "    _esm =  \"widget.js\"\n",
    "\n",
    "c = Counter()\n",
    "c"
   ]
  },
  {
   "cell_type": "code",
   "execution_count": null,
   "id": "ce118e7a-aa9c-4bf9-8b71-1bd5b0f6fa31",
   "metadata": {},
   "outputs": [],
   "source": []
  }
 ],
 "metadata": {
  "kernelspec": {
   "display_name": "Python 3 (ipykernel)",
   "language": "python",
   "name": "python3"
  },
  "language_info": {
   "codemirror_mode": {
    "name": "ipython",
    "version": 3
   },
   "file_extension": ".py",
   "mimetype": "text/x-python",
   "name": "python",
   "nbconvert_exporter": "python",
   "pygments_lexer": "ipython3",
   "version": "3.11.8"
  },
  "widgets": {
   "application/vnd.jupyter.widget-state+json": {
    "state": {
     "32a923bfd17e46609ecc8213ec9c4eca": {
      "model_module": "@jupyter-widgets/base",
      "model_module_version": "2.0.0",
      "model_name": "LayoutModel",
      "state": {}
     },
     "827bb5787d1446b3a8d9672a359f7daa": {
      "model_module": "anywidget",
      "model_module_version": "0.9.3",
      "model_name": "AnyModel",
      "state": {
       "_anywidget_id": "__main__.Counter",
       "_esm": "\nfunction render({ model, el }) {\n  let btn = document.createElement(\"button\");\n  el.appendChild(btn);\n  btn.innerHTML = \"Hello World!\"\n\n  btn.classList.add(\"anywidget_instructions-counter-button\");\n} \n\nexport default { render };",
       "_model_module": "anywidget",
       "_model_module_version": "0.9.3",
       "_model_name": "AnyModel",
       "_view_module": "anywidget",
       "_view_module_version": "0.9.3",
       "_view_name": "AnyView",
       "layout": "IPY_MODEL_32a923bfd17e46609ecc8213ec9c4eca"
      }
     }
    },
    "version_major": 2,
    "version_minor": 0
   }
  }
 },
 "nbformat": 4,
 "nbformat_minor": 5
}
