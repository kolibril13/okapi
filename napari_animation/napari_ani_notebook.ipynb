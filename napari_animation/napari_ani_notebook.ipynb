{
 "cells": [
  {
   "cell_type": "code",
   "execution_count": 9,
   "metadata": {},
   "outputs": [],
   "source": [
    "import napari\n",
    "from skimage import data\n",
    "\n",
    "viewer = napari.view_image(data.cells3d(), channel_axis=1, ndisplay=3)\n",
    "\n",
    "def jupyter_napari_animation(animation,**kwargs):\n",
    "    from IPython.display import Video\n",
    "    from pathlib import Path\n",
    "    from datetime import datetime\n",
    "    dir = Path.cwd() / \"media\"\n",
    "    dir.mkdir(exist_ok=True)\n",
    "    mov_name =  \"napari_video\" + \"@\" + datetime.now().strftime(\"%Y-%m-%d@%H-%M-%S\") + \".mp4\"\n",
    "    path = dir / mov_name\n",
    "    animation.animate(path, **kwargs)\n",
    "    vid = Video(path, width=600, html_attributes=f\"controls autoplay loop\")\n",
    "    display(vid)"
   ]
  },
  {
   "cell_type": "code",
   "execution_count": 10,
   "metadata": {},
   "outputs": [
    {
     "name": "stdout",
     "output_type": "stream",
     "text": [
      "Rendering frames...\n"
     ]
    },
    {
     "name": "stderr",
     "output_type": "stream",
     "text": [
      "  0%|          | 0/361 [00:00<?, ?it/s]IMAGEIO FFMPEG_WRITER WARNING: input image is not divisible by macro_block_size=16, resizing from (1586, 1086) to (1600, 1088) to ensure video compatibility with most codecs and players. To prevent resizing, make your input image divisible by the macro_block_size or set the macro_block_size to 1 (risking incompatibility).\n",
      "[swscaler @ 0x7f8680008000] Warning: data is not aligned! This can lead to a speed loss\n",
      "100%|██████████| 361/361 [00:15<00:00, 23.94it/s]\n"
     ]
    },
    {
     "data": {
      "text/html": [
       "<video src=\"/Users/jan-hendrik/projects/okapi/napari_animation/media/napari_video@2023-03-02@12-50-57.mp4\" controls autoplay loop  width=\"600\" >\n",
       "      Your browser does not support the <code>video</code> element.\n",
       "    </video>"
      ],
      "text/plain": [
       "<IPython.core.display.Video object>"
      ]
     },
     "metadata": {},
     "output_type": "display_data"
    }
   ],
   "source": [
    "from napari_animation import Animation\n",
    "from napari_animation.easing import Easing\n",
    "\n",
    "img = viewer.layers[1]\n",
    "img.opacity =1\n",
    "viewer.camera.angles = (0, 0, 90)\n",
    "\n",
    "animation = Animation(viewer)\n",
    "viewer.camera.zoom = 1\n",
    "animation.capture_keyframe(steps=30)\n",
    "\n",
    "viewer.camera.zoom = 2\n",
    "animation.capture_keyframe(steps=60, ease=Easing.QUADRATIC)\n",
    "\n",
    "\n",
    "viewer.camera.angles = (20, -25, 140)\n",
    "animation.capture_keyframe(steps=60, ease=Easing.QUADRATIC)\n",
    "\n",
    "img.opacity = 0 # <- why is this not fading out, but disappearing suddenly?\n",
    "animation.capture_keyframe(steps=60, ease=Easing.QUADRATIC)\n",
    "\n",
    "img.opacity =1\n",
    "animation.capture_keyframe(steps=60, ease=Easing.QUADRATIC)\n",
    "\n",
    "\n",
    "viewer.camera.zoom = 1\n",
    "animation.capture_keyframe(steps=60, ease=Easing.QUADRATIC)\n",
    "\n",
    "viewer.camera.angles = (0, 0, 90)\n",
    "animation.capture_keyframe(steps=60, ease=Easing.QUADRATIC)\n",
    "\n",
    "\n",
    "jupyter_napari_animation(animation, canvas_only=True, fps=60)"
   ]
  },
  {
   "cell_type": "code",
   "execution_count": 37,
   "metadata": {},
   "outputs": [],
   "source": []
  },
  {
   "cell_type": "code",
   "execution_count": 33,
   "metadata": {},
   "outputs": [],
   "source": [
    "a"
   ]
  },
  {
   "cell_type": "code",
   "execution_count": null,
   "metadata": {},
   "outputs": [],
   "source": []
  }
 ],
 "metadata": {
  "kernelspec": {
   "display_name": "napari-env2",
   "language": "python",
   "name": "python3"
  },
  "language_info": {
   "codemirror_mode": {
    "name": "ipython",
    "version": 3
   },
   "file_extension": ".py",
   "mimetype": "text/x-python",
   "name": "python",
   "nbconvert_exporter": "python",
   "pygments_lexer": "ipython3",
   "version": "3.9.15"
  },
  "orig_nbformat": 4
 },
 "nbformat": 4,
 "nbformat_minor": 2
}
