{
 "cells": [
  {
   "cell_type": "code",
   "execution_count": 1,
   "metadata": {},
   "outputs": [],
   "source": [
    "import napari\n",
    "from skimage import data\n",
    "\n",
    "from IPython.display import Video\n",
    "\n",
    "viewer = napari.view_image(data.cells3d(), channel_axis=1, ndisplay=3)\n",
    "viewer.camera.angles = (0, 0, 90)\n",
    "\n",
    "i = 0"
   ]
  },
  {
   "cell_type": "code",
   "execution_count": 4,
   "metadata": {},
   "outputs": [
    {
     "name": "stdout",
     "output_type": "stream",
     "text": [
      "Rendering frames...\n"
     ]
    },
    {
     "name": "stderr",
     "output_type": "stream",
     "text": [
      "  0%|          | 0/325 [00:00<?, ?it/s]IMAGEIO FFMPEG_WRITER WARNING: input image is not divisible by macro_block_size=16, resizing from (1624, 1254) to (1632, 1264) to ensure video compatibility with most codecs and players. To prevent resizing, make your input image divisible by the macro_block_size or set the macro_block_size to 1 (risking incompatibility).\n",
      "100%|██████████| 325/325 [00:14<00:00, 22.70it/s]\n"
     ]
    },
    {
     "data": {
      "text/html": [
       "<video src=\"/Users/jan-hendrik/projects/okapi/napari_animation/demo3.mov\" controls  width=\"600\" >\n",
       "      Your browser does not support the <code>video</code> element.\n",
       "    </video>"
      ],
      "text/plain": [
       "<IPython.core.display.Video object>"
      ]
     },
     "execution_count": 4,
     "metadata": {},
     "output_type": "execute_result"
    }
   ],
   "source": [
    "from napari_animation import Animation\n",
    "from pathlib import Path\n",
    "i += 1\n",
    "p = Path.cwd() / f'demo{i}.mov'\n",
    "\n",
    "animation = Animation(viewer)\n",
    "viewer.camera.zoom = 1\n",
    "viewer.camera.angles = (0.0, 0.0, 90.0)\n",
    "animation.capture_keyframe(steps=0) # init first keyframe\n",
    "\n",
    "viewer.camera.zoom = 2\n",
    "animation.capture_keyframe(steps=60) # zoom in for one second\n",
    "\n",
    "animation.capture_keyframe(steps=int(60*0.2)) # wait for 0.2 seconds\n",
    "\n",
    "\n",
    "viewer.camera.angles = (20, -25, 140)\n",
    "animation.capture_keyframe(steps=60) \n",
    "\n",
    "\n",
    "# viewer.layers[0].gamma = 0.4 # <- this would throw an error!\n",
    "animation.capture_keyframe(steps=30)\n",
    "animation.capture_keyframe(steps=int(60*0.2)) # wait for 0.2 seconds\n",
    "\n",
    "# viewer.layers[0].gamma = 1\n",
    "animation.capture_keyframe(steps=30)\n",
    "\n",
    "viewer.camera.zoom = 1\n",
    "animation.capture_keyframe(steps=60)\n",
    "\n",
    "viewer.camera.angles = (0.0, 0.0, 90.0)\n",
    "animation.capture_keyframe(steps=60)\n",
    "\n",
    "animation.animate(p, canvas_only=True, fps=60)\n",
    "Video(p,width=600) \n"
   ]
  }
 ],
 "metadata": {
  "kernelspec": {
   "display_name": "napari-env2",
   "language": "python",
   "name": "python3"
  },
  "language_info": {
   "codemirror_mode": {
    "name": "ipython",
    "version": 3
   },
   "file_extension": ".py",
   "mimetype": "text/x-python",
   "name": "python",
   "nbconvert_exporter": "python",
   "pygments_lexer": "ipython3",
   "version": "3.9.15"
  },
  "orig_nbformat": 4,
  "vscode": {
   "interpreter": {
    "hash": "2cd3521c81e0b58e855fc40c9ffefac9da8aff771d002e690402370a277b49ba"
   }
  }
 },
 "nbformat": 4,
 "nbformat_minor": 2
}
