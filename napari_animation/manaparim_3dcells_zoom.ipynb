{
 "cells": [
  {
   "cell_type": "code",
   "execution_count": 1,
   "metadata": {},
   "outputs": [
    {
     "data": {
      "text/html": [
       "<pre style=\"white-space:pre;overflow-x:auto;line-height:normal;font-family:Menlo,'DejaVu Sans Mono',consolas,'Courier New',monospace\">Manim Community <span style=\"color: #008000; text-decoration-color: #008000\">v0.17.2</span>\n",
       "\n",
       "</pre>\n"
      ],
      "text/plain": [
       "Manim Community \u001b[32mv0.\u001b[0m\u001b[32m17.2\u001b[0m\n",
       "\n"
      ]
     },
     "metadata": {},
     "output_type": "display_data"
    },
    {
     "data": {
      "text/html": [
       "<video src=\"media/jupyter/Example@2023-03-06@21-48-45.mp4\" controls autoplay loop style=\"max-width: 60%;\"  >\n",
       "      Your browser does not support the <code>video</code> element.\n",
       "    </video>"
      ],
      "text/plain": [
       "<IPython.core.display.Video object>"
      ]
     },
     "metadata": {},
     "output_type": "display_data"
    }
   ],
   "source": [
    "import napari\n",
    "from skimage import data\n",
    "import numpy as np\n",
    "from manim import * \n",
    "\n",
    "viewer = napari.view_image(data.cells3d(), channel_axis=1, ndisplay=3)\n",
    "viewer.camera.angles = (0, 0, 90)\n",
    "\n",
    "class Example(Scene):\n",
    "    def construct(self):\n",
    "        self.camera.background_color = BLUE_A\n",
    "        img = viewer.screenshot(canvas_only=True, flash=False)\n",
    "        t = ImageMobject(img)\n",
    "        t.time = 0\n",
    "        self.add(t)\n",
    "\n",
    "        tr_zoom = ValueTracker(1)\n",
    "        contrast_tracker = ValueTracker(65535) # dark limit\n",
    "\n",
    "        def foo(mob,dt):\n",
    "            mob.time += dt\n",
    "\n",
    "        SECOND = 1\n",
    "\n",
    "        def bar(mob):\n",
    "            viewer.camera.angles = (0, 30*np.sin((mob.time*PI/11*2)), 50)\n",
    "            viewer.camera.zoom = tr_zoom.get_value()\n",
    "\n",
    "            viewer.layers[0].contrast_limits = (0, contrast_tracker.get_value())\n",
    "            img = viewer.screenshot(canvas_only=True, flash=False)\n",
    "            new_mob = ImageMobject(img)\n",
    "            mob.become(new_mob)\n",
    "\n",
    "        t.add_updater(foo)\n",
    "        t.add_updater(bar)\n",
    "\n",
    "        viewer.layers[1].opacity = 1\n",
    "        self.play(tr_zoom.animate.set_value(2), rate_func=smooth, run_time=SECOND)\n",
    "        self.play(contrast_tracker.animate.set_value(19500), rate_func=smooth, run_time=SECOND) #bright limit\n",
    "        self.wait(SECOND)\n",
    "        viewer.layers[1].opacity = 0\n",
    "        self.play(tr_zoom.animate.set_value(4), rate_func=smooth, run_time=SECOND)\n",
    "        self.wait(SECOND)\n",
    "        self.wait(SECOND)\n",
    "        self.play(tr_zoom.animate.set_value(2), rate_func=smooth, run_time=SECOND)\n",
    "        self.wait(SECOND)\n",
    "        viewer.layers[1].opacity = 1\n",
    "        self.wait(SECOND)\n",
    "        self.play(contrast_tracker.animate.set_value( 65535 ), rate_func=smooth, run_time=SECOND) #dark limit\n",
    "\n",
    "        self.play(tr_zoom.animate.set_value(1), rate_func=smooth, run_time=SECOND)\n",
    "        t.remove_updater(foo)\n",
    "        self.wait(SECOND)\n",
    "\n",
    "%manim -v WARNING -qh --disable_caching --progress_bar None Example"
   ]
  },
  {
   "cell_type": "code",
   "execution_count": null,
   "metadata": {},
   "outputs": [],
   "source": []
  }
 ],
 "metadata": {
  "kernelspec": {
   "display_name": "napari-env2",
   "language": "python",
   "name": "python3"
  },
  "language_info": {
   "codemirror_mode": {
    "name": "ipython",
    "version": 3
   },
   "file_extension": ".py",
   "mimetype": "text/x-python",
   "name": "python",
   "nbconvert_exporter": "python",
   "pygments_lexer": "ipython3",
   "version": "3.9.15"
  },
  "orig_nbformat": 4,
  "vscode": {
   "interpreter": {
    "hash": "2cd3521c81e0b58e855fc40c9ffefac9da8aff771d002e690402370a277b49ba"
   }
  }
 },
 "nbformat": 4,
 "nbformat_minor": 2
}
