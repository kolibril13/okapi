{
 "cells": [
  {
   "cell_type": "code",
   "execution_count": 1,
   "metadata": {},
   "outputs": [
    {
     "name": "stdout",
     "output_type": "stream",
     "text": [
      "Rendering frames...\n"
     ]
    },
    {
     "name": "stderr",
     "output_type": "stream",
     "text": [
      "  0%|          | 0/151 [00:00<?, ?it/s]IMAGEIO FFMPEG_WRITER WARNING: input image is not divisible by macro_block_size=16, resizing from (1624, 1258) to (1632, 1264) to ensure video compatibility with most codecs and players. To prevent resizing, make your input image divisible by the macro_block_size or set the macro_block_size to 1 (risking incompatibility).\n",
      "100%|██████████| 151/151 [00:04<00:00, 33.28it/s]\n"
     ]
    }
   ],
   "source": [
    "import napari\n",
    "from skimage import data\n",
    "from napari_animation import Animation\n",
    "from napari_animation.easing import Easing\n",
    "\n",
    "cat = data.cat()\n",
    "viewer = napari.view_image(cat, rgb=True)\n",
    "\n",
    "\n",
    "animation = Animation(viewer)\n",
    "viewer.camera.zoom = 1\n",
    "animation.capture_keyframe(steps=0)\n",
    "animation.capture_keyframe(steps=60)\n",
    "viewer.camera.zoom = 1.5\n",
    "animation.capture_keyframe(steps=30, ease=Easing.QUADRATIC)\n",
    "\n",
    "animation.capture_keyframe(steps=60)\n",
    "\n",
    "animation.animate(\"hello.mp4\",  canvas_only=True, fps=60)"
   ]
  },
  {
   "cell_type": "code",
   "execution_count": null,
   "metadata": {},
   "outputs": [],
   "source": []
  }
 ],
 "metadata": {
  "kernelspec": {
   "display_name": "napari-env2",
   "language": "python",
   "name": "python3"
  },
  "language_info": {
   "codemirror_mode": {
    "name": "ipython",
    "version": 3
   },
   "file_extension": ".py",
   "mimetype": "text/x-python",
   "name": "python",
   "nbconvert_exporter": "python",
   "pygments_lexer": "ipython3",
   "version": "3.9.15"
  },
  "orig_nbformat": 4,
  "vscode": {
   "interpreter": {
    "hash": "2cd3521c81e0b58e855fc40c9ffefac9da8aff771d002e690402370a277b49ba"
   }
  }
 },
 "nbformat": 4,
 "nbformat_minor": 2
}
