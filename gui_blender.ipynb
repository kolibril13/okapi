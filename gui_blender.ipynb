{
 "cells": [
  {
   "cell_type": "code",
   "execution_count": 3,
   "id": "0c3b280f-6ea3-45df-b2c2-f1e95b32b3c7",
   "metadata": {},
   "outputs": [
    {
     "data": {
      "application/vnd.jupyter.widget-view+json": {
       "model_id": "b36f599fc9f7400ab4ea69781b13a3a0",
       "version_major": 2,
       "version_minor": 0
      },
      "text/plain": [
       "FloatSlider(value=0.0, description='Rotation:', max=1.0, step=0.01)"
      ]
     },
     "metadata": {},
     "output_type": "display_data"
    }
   ],
   "source": [
    "import bpy\n",
    "import ipywidgets as widgets\n",
    "from IPython.display import display, clear_output\n",
    "\n",
    "slider = widgets.FloatSlider(value=0.0, min=0.0, max=1, step=0.01, \n",
    "                             description='Rotation:', continuous_update=True)\n",
    "display(slider)\n"
   ]
  },
  {
   "cell_type": "code",
   "execution_count": 4,
   "id": "611c316c-1ece-45d6-9e23-8fadcade6b58",
   "metadata": {},
   "outputs": [],
   "source": [
    "def update_cube_rotation(rotation_value):\n",
    "    cube = bpy.data.objects['Cube']  \n",
    "    cube.rotation_euler.z = rotation_value\n",
    "    bpy.context.view_layer.update()\n",
    "\n",
    "# Function to handle slider value changes\n",
    "def on_slider_change(change):\n",
    "    update_cube_rotation(change['new'])\n",
    "\n",
    "# Observe the slider\n",
    "slider.observe(on_slider_change, names='value')\n",
    "\n",
    "# Initial update of the cube's rotation\n",
    "update_cube_rotation(slider.value)"
   ]
  },
  {
   "cell_type": "code",
   "execution_count": null,
   "id": "781cf88e-47fe-4a4c-9478-9ce130d45531",
   "metadata": {},
   "outputs": [],
   "source": []
  }
 ],
 "metadata": {
  "kernelspec": {
   "display_name": "blender",
   "language": "python",
   "name": "blender"
  },
  "language_info": {
   "codemirror_mode": {
    "name": "ipython",
    "version": 3
   },
   "file_extension": ".py",
   "mimetype": "text/x-python",
   "name": "python",
   "nbconvert_exporter": "python",
   "pygments_lexer": "ipython3",
   "version": "3.11.7"
  },
  "widgets": {
   "application/vnd.jupyter.widget-state+json": {
    "state": {
     "17e469f8deec4f518b3188d1c7427da9": {
      "model_module": "@jupyter-widgets/base",
      "model_module_version": "2.0.0",
      "model_name": "LayoutModel",
      "state": {}
     },
     "593d17f22c3a416cbcf36eac107546b4": {
      "model_module": "@jupyter-widgets/controls",
      "model_module_version": "2.0.0",
      "model_name": "SliderStyleModel",
      "state": {
       "description_width": ""
      }
     },
     "71f2b0ed08d44eb6bcb0572cf6ec32bc": {
      "model_module": "@jupyter-widgets/base",
      "model_module_version": "2.0.0",
      "model_name": "LayoutModel",
      "state": {}
     },
     "92dba664eed04bf7a9de809dc975a457": {
      "model_module": "@jupyter-widgets/controls",
      "model_module_version": "2.0.0",
      "model_name": "FloatSliderModel",
      "state": {
       "behavior": "drag-tap",
       "description": "Rotation:",
       "layout": "IPY_MODEL_71f2b0ed08d44eb6bcb0572cf6ec32bc",
       "max": 1,
       "step": 0.01,
       "style": "IPY_MODEL_593d17f22c3a416cbcf36eac107546b4"
      }
     },
     "b36f599fc9f7400ab4ea69781b13a3a0": {
      "model_module": "@jupyter-widgets/controls",
      "model_module_version": "2.0.0",
      "model_name": "FloatSliderModel",
      "state": {
       "behavior": "drag-tap",
       "description": "Rotation:",
       "layout": "IPY_MODEL_17e469f8deec4f518b3188d1c7427da9",
       "max": 1,
       "step": 0.01,
       "style": "IPY_MODEL_bd92665dbcef4f1d9c79d7ca59747d78",
       "value": 1
      }
     },
     "bd92665dbcef4f1d9c79d7ca59747d78": {
      "model_module": "@jupyter-widgets/controls",
      "model_module_version": "2.0.0",
      "model_name": "SliderStyleModel",
      "state": {
       "description_width": ""
      }
     }
    },
    "version_major": 2,
    "version_minor": 0
   }
  }
 },
 "nbformat": 4,
 "nbformat_minor": 5
}
