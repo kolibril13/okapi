{
 "cells": [
  {
   "cell_type": "code",
   "execution_count": 1,
   "metadata": {},
   "outputs": [
    {
     "data": {
      "text/plain": [
       "(polars.series.series.Series,\n",
       " shape: (2, 2)\n",
       " ┌─────────────────────────┬─────────────────────────┐\n",
       " │ Dino                    ┆ Star                    │\n",
       " │ ---                     ┆ ---                     │\n",
       " │ list[f64]               ┆ list[f64]               │\n",
       " ╞═════════════════════════╪═════════════════════════╡\n",
       " │ [55.3846, 97.1795, 0.0] ┆ [58.2136, 91.8819, 0.0] │\n",
       " │ [51.5385, 96.0256, 0.0] ┆ [58.1961, 92.215, 0.0]  │\n",
       " └─────────────────────────┴─────────────────────────┘)"
      ]
     },
     "execution_count": 1,
     "metadata": {},
     "output_type": "execute_result"
    }
   ],
   "source": [
    "import polars as pl\n",
    "from io import StringIO\n",
    "\n",
    "\n",
    "# 1. Create test data\n",
    "json_file = StringIO(\"\"\"\n",
    "{\n",
    "  \"Dino\": [\n",
    "    [55.3846, 97.1795, 0.0],\n",
    "    [51.5385, 96.0256, 0.0]\n",
    "  ],\n",
    "  \"Star\": [\n",
    "    [58.2136, 91.8819, 0.0],\n",
    "    [58.1961, 92.215, 0.0]\n",
    "  ]\n",
    "}\n",
    "\"\"\")\n",
    "\n",
    "df = pl.read_json(json_file)\n",
    "    \n",
    "# 2. Convert JSON to DataFrame with List[3] schema\n",
    "columns_to_explode = [col for col in df.columns if df[col].dtype == pl.List(pl.List)]\n",
    "df = df.explode(columns_to_explode)\n",
    "type(df[\"Dino\"] [0]) , df"
   ]
  },
  {
   "cell_type": "code",
   "execution_count": 2,
   "metadata": {},
   "outputs": [
    {
     "data": {
      "text/plain": [
       "polars.series.series.Series"
      ]
     },
     "execution_count": 2,
     "metadata": {},
     "output_type": "execute_result"
    }
   ],
   "source": [
    "import polars as pl\n",
    "\n",
    "# Read the JSON file\n",
    "df = pl.read_json(\"/Users/jan-hendrik/projects/blender_csv_import/generate_data/dino_star_vectors_3d_vector.json\")\n",
    "# Identify columns with list[list] values\n",
    "columns_to_explode = [col for col in df.columns if df[col].dtype == pl.List(pl.List)]\n",
    "# Explode all identified columns\n",
    "df = df.explode(columns_to_explode)\n",
    "\n",
    "\n",
    "type(df[\"Dino\"] [0])"
   ]
  },
  {
   "cell_type": "code",
   "execution_count": 23,
   "metadata": {},
   "outputs": [
    {
     "name": "stdout",
     "output_type": "stream",
     "text": [
      "Loading JSON data into DataFrame...\n",
      "DataFrame loaded successfully:\n",
      "shape: (3, 2)\n",
      "┌─────────────────────────┬─────────────────────────┐\n",
      "│ Dino                    ┆ Star                    │\n",
      "│ ---                     ┆ ---                     │\n",
      "│ list[f64]               ┆ list[f64]               │\n",
      "╞═════════════════════════╪═════════════════════════╡\n",
      "│ [55.3846, 97.1795, 0.0] ┆ [58.2136, 91.8819, 0.0] │\n",
      "│ [51.5385, 96.0256, 0.0] ┆ [58.1961, 92.215, 0.0]  │\n",
      "│ [46.1538, 94.4872, 0.0] ┆ [58.7182, 90.3105, 0.0] │\n",
      "└─────────────────────────┴─────────────────────────┘\n",
      "Creating Blender mesh and object...\n",
      "Mesh 'PointCloud.018' and Object 'PointCloudObj.004' created.\n",
      "Initializing vertices...\n",
      "Vertices initialized with 3 points.\n",
      "Processing column 'Dino' with shape (3, 3)...\n",
      "Adding attribute 'Dino'...\n",
      "Attribute 'Dino' added successfully.\n",
      "Processing column 'Star' with shape (3, 3)...\n",
      "Adding attribute 'Star'...\n",
      "Attribute 'Star' added successfully.\n",
      "Import process completed successfully.\n"
     ]
    }
   ],
   "source": [
    "import bpy\n",
    "import numpy as np\n",
    "import polars as pl\n",
    "from io import StringIO\n",
    "\n",
    "# Create DataFrame from JSON string\n",
    "print(\"Loading JSON data into DataFrame...\")\n",
    "json_file = StringIO(\"\"\"\n",
    "{\n",
    "  \"Dino\": [\n",
    "    [55.3846, 97.1795, 0.0],\n",
    "    [51.5385, 96.0256, 0.0]\n",
    "  ],\n",
    "  \"Star\": [\n",
    "    [58.2136, 91.8819, 0.0],\n",
    "    [58.1961, 92.215, 0.0]\n",
    "  ]\n",
    "}\n",
    "\"\"\")\n",
    "\n",
    "json_file = \"/Users/jan-hendrik/projects/blender_csv_import/generate_data/dino_star_vectors_3d_vector.json\"\n",
    "df = pl.read_json(json_file)\n",
    "\n",
    "# Identify columns with list[list] values\n",
    "columns_to_explode = [col for col in df.columns if df[col].dtype == pl.List(pl.List)]\n",
    "# Explode all identified columns\n",
    "df = df.explode(columns_to_explode)\n",
    "\n",
    "print(\"DataFrame loaded successfully:\")\n",
    "print(df)\n",
    "\n",
    "# Create Blender mesh and object\n",
    "print(\"Creating Blender mesh and object...\")\n",
    "mesh = bpy.data.meshes.new(\"PointCloud\")\n",
    "obj = bpy.data.objects.new(\"PointCloudObj\", mesh)\n",
    "bpy.context.collection.objects.link(obj)\n",
    "print(f\"Mesh '{mesh.name}' and Object '{obj.name}' created.\")\n",
    "\n",
    "# Initialize vertices\n",
    "print(\"Initializing vertices...\")\n",
    "vertices = [(0, 0, 0)] * len(df)\n",
    "mesh.from_pydata(vertices, [], [])\n",
    "mesh.update()\n",
    "print(f\"Vertices initialized with {len(vertices)} points.\")\n",
    "\n",
    "# Add attributes directly\n",
    "for col in df.columns:\n",
    "    data = np.array(df[col].to_list(), dtype=np.float32)\n",
    "    print(f\"Processing column '{col}' with shape {data.shape}...\")\n",
    "    \n",
    "    # Ensure the data is a 2D array with exactly 3 elements per row (X, Y, Z) to match Blender's FLOAT_VECTOR attribute type\n",
    "    if data.ndim == 2 and data.shape[1] == 3: \n",
    "        print(f\"Adding attribute '{col}'...\")\n",
    "        attr = mesh.attributes.new(col, \"FLOAT_VECTOR\", \"POINT\")\n",
    "        attr.data.foreach_set(\"vector\", data.flatten().tolist())\n",
    "        print(f\"Attribute '{col}' added successfully.\")\n",
    "    else:\n",
    "        print(f\"Skipping column '{col}' - not a valid float vector.\")\n",
    "\n",
    "print(\"Import process completed successfully.\")"
   ]
  },
  {
   "cell_type": "code",
   "execution_count": null,
   "metadata": {},
   "outputs": [],
   "source": []
  }
 ],
 "metadata": {
  "kernelspec": {
   "display_name": "blender",
   "language": "python",
   "name": "blender"
  },
  "language_info": {
   "codemirror_mode": {
    "name": "ipython",
    "version": 3
   },
   "file_extension": ".py",
   "mimetype": "text/x-python",
   "name": "python",
   "nbconvert_exporter": "python",
   "pygments_lexer": "ipython3",
   "version": "3.11.9"
  }
 },
 "nbformat": 4,
 "nbformat_minor": 4
}
