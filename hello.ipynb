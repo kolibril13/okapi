{
 "cells": [
  {
   "cell_type": "code",
   "execution_count": 2,
   "metadata": {},
   "outputs": [
    {
     "data": {
      "text/plain": [
       "polars.series.series.Series"
      ]
     },
     "execution_count": 2,
     "metadata": {},
     "output_type": "execute_result"
    }
   ],
   "source": [
    "import polars as pl\n",
    "\n",
    "# Read the JSON file\n",
    "df = pl.read_json(\"/Users/jan-hendrik/projects/blender_csv_import/generate_data/dino_star_vectors_3d_vector.json\")\n",
    "# Identify columns with list[list] values\n",
    "columns_to_explode = [col for col in df.columns if df[col].dtype == pl.List(pl.List)]\n",
    "# Explode all identified columns\n",
    "df = df.explode(columns_to_explode)\n",
    "\n",
    "\n",
    "type(df[\"Dino\"] [0])"
   ]
  },
  {
   "cell_type": "code",
   "execution_count": 3,
   "metadata": {},
   "outputs": [
    {
     "data": {
      "text/html": [
       "<div><style>\n",
       ".dataframe > thead > tr,\n",
       ".dataframe > tbody > tr {\n",
       "  text-align: right;\n",
       "  white-space: pre-wrap;\n",
       "}\n",
       "</style>\n",
       "<small>shape: (3, 2)</small><table border=\"1\" class=\"dataframe\"><thead><tr><th>foo</th><th>bar</th></tr><tr><td>i64</td><td>i64</td></tr></thead><tbody><tr><td>1</td><td>6</td></tr><tr><td>2</td><td>7</td></tr><tr><td>3</td><td>8</td></tr></tbody></table></div>"
      ],
      "text/plain": [
       "shape: (3, 2)\n",
       "┌─────┬─────┐\n",
       "│ foo ┆ bar │\n",
       "│ --- ┆ --- │\n",
       "│ i64 ┆ i64 │\n",
       "╞═════╪═════╡\n",
       "│ 1   ┆ 6   │\n",
       "│ 2   ┆ 7   │\n",
       "│ 3   ┆ 8   │\n",
       "└─────┴─────┘"
      ]
     },
     "execution_count": 3,
     "metadata": {},
     "output_type": "execute_result"
    }
   ],
   "source": [
    "from io import StringIO\n",
    "json_str = '[{\"foo\":1,\"bar\":6},{\"foo\":2,\"bar\":7},{\"foo\":3,\"bar\":8}]'\n",
    "pl.read_json(StringIO(json_str))"
   ]
  },
  {
   "cell_type": "code",
   "execution_count": 4,
   "metadata": {},
   "outputs": [
    {
     "data": {
      "text/html": [
       "<div><style>\n",
       ".dataframe > thead > tr,\n",
       ".dataframe > tbody > tr {\n",
       "  text-align: right;\n",
       "  white-space: pre-wrap;\n",
       "}\n",
       "</style>\n",
       "<small>shape: (3, 2)</small><table border=\"1\" class=\"dataframe\"><thead><tr><th>foo</th><th>bar</th></tr><tr><td>i64</td><td>f64</td></tr></thead><tbody><tr><td>1</td><td>6.0</td></tr><tr><td>2</td><td>7.0</td></tr><tr><td>3</td><td>8.0</td></tr></tbody></table></div>"
      ],
      "text/plain": [
       "shape: (3, 2)\n",
       "┌─────┬─────┐\n",
       "│ foo ┆ bar │\n",
       "│ --- ┆ --- │\n",
       "│ i64 ┆ f64 │\n",
       "╞═════╪═════╡\n",
       "│ 1   ┆ 6.0 │\n",
       "│ 2   ┆ 7.0 │\n",
       "│ 3   ┆ 8.0 │\n",
       "└─────┴─────┘"
      ]
     },
     "execution_count": 4,
     "metadata": {},
     "output_type": "execute_result"
    }
   ],
   "source": [
    "pl.read_json(StringIO(json_str), schema={\"foo\": pl.Int64, \"bar\": pl.Float64})"
   ]
  },
  {
   "cell_type": "code",
   "execution_count": 14,
   "metadata": {},
   "outputs": [],
   "source": [
    "import polars as pl\n",
    "from io import StringIO\n",
    "\n",
    "# Input JSON string with nested structure\n",
    "json_file = StringIO(\"\"\"\n",
    "{\n",
    "  \"Dino\": [\n",
    "    [55.3846, 97.1795, 0.0],\n",
    "    [51.5385, 96.0256, 0.0]\n",
    "  ],\n",
    "  \"Star\": [\n",
    "    [58.2136, 91.8819, 0.0],\n",
    "    [58.1961, 92.215, 0.0]\n",
    "  ]\n",
    "}\n",
    "\"\"\")\n",
    "\n",
    "# Read JSON with correct schema for nested lists\n",
    "df = pl.read_json(\n",
    "    json_file, \n",
    "    schema={\n",
    "        \"Dino\": pl.List(pl.List(pl.Float64)), \n",
    "        \"Star\": pl.List(pl.List(pl.Float64))\n",
    "    }\n",
    ")\n"
   ]
  },
  {
   "cell_type": "code",
   "execution_count": 17,
   "metadata": {},
   "outputs": [
    {
     "data": {
      "text/html": [
       "<div><style>\n",
       ".dataframe > thead > tr,\n",
       ".dataframe > tbody > tr {\n",
       "  text-align: right;\n",
       "  white-space: pre-wrap;\n",
       "}\n",
       "</style>\n",
       "<small>shape: (6, 2)</small><table border=\"1\" class=\"dataframe\"><thead><tr><th>Dino</th><th>Star</th></tr><tr><td>f64</td><td>f64</td></tr></thead><tbody><tr><td>55.3846</td><td>58.2136</td></tr><tr><td>97.1795</td><td>91.8819</td></tr><tr><td>0.0</td><td>0.0</td></tr><tr><td>51.5385</td><td>58.1961</td></tr><tr><td>96.0256</td><td>92.215</td></tr><tr><td>0.0</td><td>0.0</td></tr></tbody></table></div>"
      ],
      "text/plain": [
       "shape: (6, 2)\n",
       "┌─────────┬─────────┐\n",
       "│ Dino    ┆ Star    │\n",
       "│ ---     ┆ ---     │\n",
       "│ f64     ┆ f64     │\n",
       "╞═════════╪═════════╡\n",
       "│ 55.3846 ┆ 58.2136 │\n",
       "│ 97.1795 ┆ 91.8819 │\n",
       "│ 0.0     ┆ 0.0     │\n",
       "│ 51.5385 ┆ 58.1961 │\n",
       "│ 96.0256 ┆ 92.215  │\n",
       "│ 0.0     ┆ 0.0     │\n",
       "└─────────┴─────────┘"
      ]
     },
     "execution_count": 17,
     "metadata": {},
     "output_type": "execute_result"
    }
   ],
   "source": [
    "df = df.explode([\"Dino\", \"Star\"])\n",
    "df"
   ]
  },
  {
   "cell_type": "code",
   "execution_count": 21,
   "metadata": {},
   "outputs": [
    {
     "ename": "TypeError",
     "evalue": "List.__init__() takes 2 positional arguments but 3 were given",
     "output_type": "error",
     "traceback": [
      "\u001b[0;31m---------------------------------------------------------------------------\u001b[0m",
      "\u001b[0;31mTypeError\u001b[0m                                 Traceback (most recent call last)",
      "Cell \u001b[0;32mIn[21], line 22\u001b[0m\n\u001b[1;32m      5\u001b[0m json_file \u001b[38;5;241m=\u001b[39m StringIO(\u001b[38;5;124m\"\"\"\u001b[39m\n\u001b[1;32m      6\u001b[0m \u001b[38;5;124m{\u001b[39m\n\u001b[1;32m      7\u001b[0m \u001b[38;5;124m  \u001b[39m\u001b[38;5;124m\"\u001b[39m\u001b[38;5;124mDino\u001b[39m\u001b[38;5;124m\"\u001b[39m\u001b[38;5;124m: [\u001b[39m\n\u001b[0;32m   (...)\u001b[0m\n\u001b[1;32m     15\u001b[0m \u001b[38;5;124m}\u001b[39m\n\u001b[1;32m     16\u001b[0m \u001b[38;5;124m\"\"\"\u001b[39m)\n\u001b[1;32m     18\u001b[0m \u001b[38;5;66;03m# Read JSON with List[3] schema\u001b[39;00m\n\u001b[1;32m     19\u001b[0m df \u001b[38;5;241m=\u001b[39m pl\u001b[38;5;241m.\u001b[39mread_json(\n\u001b[1;32m     20\u001b[0m     json_file,\n\u001b[1;32m     21\u001b[0m     schema\u001b[38;5;241m=\u001b[39m{\n\u001b[0;32m---> 22\u001b[0m         \u001b[38;5;124m\"\u001b[39m\u001b[38;5;124mDino\u001b[39m\u001b[38;5;124m\"\u001b[39m: \u001b[43mpl\u001b[49m\u001b[38;5;241;43m.\u001b[39;49m\u001b[43mList\u001b[49m\u001b[43m(\u001b[49m\u001b[43mpl\u001b[49m\u001b[38;5;241;43m.\u001b[39;49m\u001b[43mFloat64\u001b[49m\u001b[43m,\u001b[49m\u001b[43m \u001b[49m\u001b[38;5;241;43m3\u001b[39;49m\u001b[43m)\u001b[49m,\n\u001b[1;32m     23\u001b[0m         \u001b[38;5;124m\"\u001b[39m\u001b[38;5;124mStar\u001b[39m\u001b[38;5;124m\"\u001b[39m: pl\u001b[38;5;241m.\u001b[39mList(pl\u001b[38;5;241m.\u001b[39mFloat64, \u001b[38;5;241m3\u001b[39m)\n\u001b[1;32m     24\u001b[0m     }\n\u001b[1;32m     25\u001b[0m )\n\u001b[1;32m     27\u001b[0m \u001b[38;5;66;03m# Verify data\u001b[39;00m\n\u001b[1;32m     28\u001b[0m \u001b[38;5;28mprint\u001b[39m(df)\n",
      "\u001b[0;31mTypeError\u001b[0m: List.__init__() takes 2 positional arguments but 3 were given"
     ]
    }
   ],
   "source": [
    "import polars as pl\n",
    "from io import StringIO\n",
    "\n",
    "# Input JSON string\n",
    "json_file = StringIO(\"\"\"\n",
    "{\n",
    "  \"Dino\": [\n",
    "    [55.3846, 97.1795, 0.0],\n",
    "    [51.5385, 96.0256, 0.0]\n",
    "  ],\n",
    "  \"Star\": [\n",
    "    [58.2136, 91.8819, 0.0],\n",
    "    [58.1961, 92.215, 0.0]\n",
    "  ]\n",
    "}\n",
    "\"\"\")\n",
    "\n",
    "# Read JSON with List[3] schema\n",
    "df = pl.read_json(\n",
    "    json_file,\n",
    "    schema={\n",
    "        \"Dino\": pl.List(pl.Float64, 3),\n",
    "        \"Star\": pl.List(pl.Float64, 3)\n",
    "    }\n",
    ")\n",
    "\n",
    "# Verify data\n",
    "print(df)\n",
    "print(\"Type of first Dino element:\", type(df[\"Dino\"][0]))"
   ]
  },
  {
   "cell_type": "code",
   "execution_count": 28,
   "metadata": {},
   "outputs": [
    {
     "data": {
      "text/plain": [
       "polars.series.series.Series"
      ]
     },
     "execution_count": 28,
     "metadata": {},
     "output_type": "execute_result"
    }
   ],
   "source": [
    "import polars as pl\n",
    "from io import StringIO\n",
    "\n",
    "\n",
    "# 1. Create test data\n",
    "json_file = StringIO(\"\"\"\n",
    "{\n",
    "  \"Dino\": [\n",
    "    [55.3846, 97.1795, 0.0],\n",
    "    [51.5385, 96.0256, 0.0]\n",
    "  ],\n",
    "  \"Star\": [\n",
    "    [58.2136, 91.8819, 0.0],\n",
    "    [58.1961, 92.215, 0.0]\n",
    "  ]\n",
    "}\n",
    "\"\"\")\n",
    "\n",
    "df = pl.read_json(json_file)\n",
    "    \n",
    "# 2. Convert JSON to DataFrame with List[3] schema\n",
    "columns_to_explode = [col for col in df.columns if df[col].dtype == pl.List(pl.List)]\n",
    "df = df.explode(columns_to_explode)\n",
    "type(df[\"Dino\"] [0])"
   ]
  },
  {
   "cell_type": "code",
   "execution_count": 30,
   "metadata": {},
   "outputs": [
    {
     "data": {
      "text/html": [
       "<div><style>\n",
       ".dataframe > thead > tr,\n",
       ".dataframe > tbody > tr {\n",
       "  text-align: right;\n",
       "  white-space: pre-wrap;\n",
       "}\n",
       "</style>\n",
       "<small>shape: (2, 2)</small><table border=\"1\" class=\"dataframe\"><thead><tr><th>Dino</th><th>Star</th></tr><tr><td>list[f64]</td><td>list[f64]</td></tr></thead><tbody><tr><td>[55.3846, 97.1795, 0.0]</td><td>[58.2136, 91.8819, 0.0]</td></tr><tr><td>[51.5385, 96.0256, 0.0]</td><td>[58.1961, 92.215, 0.0]</td></tr></tbody></table></div>"
      ],
      "text/plain": [
       "shape: (2, 2)\n",
       "┌─────────────────────────┬─────────────────────────┐\n",
       "│ Dino                    ┆ Star                    │\n",
       "│ ---                     ┆ ---                     │\n",
       "│ list[f64]               ┆ list[f64]               │\n",
       "╞═════════════════════════╪═════════════════════════╡\n",
       "│ [55.3846, 97.1795, 0.0] ┆ [58.2136, 91.8819, 0.0] │\n",
       "│ [51.5385, 96.0256, 0.0] ┆ [58.1961, 92.215, 0.0]  │\n",
       "└─────────────────────────┴─────────────────────────┘"
      ]
     },
     "execution_count": 30,
     "metadata": {},
     "output_type": "execute_result"
    }
   ],
   "source": [
    "import polars as pl\n",
    "\n",
    "# Create the DataFrame using pandas\n",
    "data = {\n",
    "    \"Dino\": [[55.3846, 97.1795, 0.0], [51.5385, 96.0256, 0.0]],\n",
    "    \"Star\": [[58.2136, 91.8819, 0.0], [58.1961, 92.215, 0.0]]\n",
    "}\n",
    "\n",
    "df = pl.DataFrame(data)\n",
    "df"
   ]
  },
  {
   "cell_type": "code",
   "execution_count": 34,
   "metadata": {},
   "outputs": [
    {
     "data": {
      "text/plain": [
       "(55.3846, 97.1795, 0.0)"
      ]
     },
     "execution_count": 34,
     "metadata": {},
     "output_type": "execute_result"
    }
   ],
   "source": [
    "tuple(df[\"Dino\"][0])"
   ]
  },
  {
   "cell_type": "code",
   "execution_count": null,
   "metadata": {},
   "outputs": [],
   "source": [
    "import polars as pl\n",
    "\n",
    "# Read JSON and print initial structure\n",
    "df = pl.read_json(\"/Users/jan-hendrik/projects/blender_csv_import/generate_data/dino_star_vectors_3d_vector.json\")\n",
    "print(\"Initial DataFrame structure:\", df.dtypes)\n",
    "\n",
    "# Identify columns with list[list] values\n",
    "columns_to_explode = [col for col in df.columns if df[col].dtype == pl.List(pl.List)]\n",
    "\n",
    "# Explode all identified columns\n",
    "df = df.explode(columns_to_explode)\n",
    "\n",
    "df"
   ]
  }
 ],
 "metadata": {
  "kernelspec": {
   "display_name": ".venv",
   "language": "python",
   "name": "python3"
  },
  "language_info": {
   "codemirror_mode": {
    "name": "ipython",
    "version": 3
   },
   "file_extension": ".py",
   "mimetype": "text/x-python",
   "name": "python",
   "nbconvert_exporter": "python",
   "pygments_lexer": "ipython3",
   "version": "3.12.6"
  }
 },
 "nbformat": 4,
 "nbformat_minor": 2
}
