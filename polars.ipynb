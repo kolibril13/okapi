{
 "cells": [
  {
   "cell_type": "code",
   "execution_count": 1,
   "metadata": {},
   "outputs": [
    {
     "name": "stdout",
     "output_type": "stream",
     "text": [
      "shape: (127, 9)\n",
      "┌────────────┬─────────┬─────────┬─────────┬───┬──────────────┬─────────┬────────────┬─────────────┐\n",
      "│ city       ┆ lat     ┆ lng     ┆ country ┆ … ┆ admin_name   ┆ capital ┆ population ┆ population_ │\n",
      "│ ---        ┆ ---     ┆ ---     ┆ ---     ┆   ┆ ---          ┆ ---     ┆ ---        ┆ proper      │\n",
      "│ str        ┆ f64     ┆ f64     ┆ str     ┆   ┆ str          ┆ str     ┆ i64        ┆ ---         │\n",
      "│            ┆         ┆         ┆         ┆   ┆              ┆         ┆            ┆ i64         │\n",
      "╞════════════╪═════════╪═════════╪═════════╪═══╪══════════════╪═════════╪════════════╪═════════════╡\n",
      "│ Berlin     ┆ 52.52   ┆ 13.405  ┆ Germany ┆ … ┆ Berlin       ┆ primary ┆ 4890363    ┆ 3755251     │\n",
      "│ Stuttgart  ┆ 48.7775 ┆ 9.18    ┆ Germany ┆ … ┆ Baden-Württe ┆ admin   ┆ 2787724    ┆ 632865      │\n",
      "│            ┆         ┆         ┆         ┆   ┆ mberg        ┆         ┆            ┆             │\n",
      "│ Munich     ┆ 48.1375 ┆ 11.575  ┆ Germany ┆ … ┆ Bavaria      ┆ admin   ┆ 2606021    ┆ 1512491     │\n",
      "│ Hamburg    ┆ 53.55   ┆ 10.0    ┆ Germany ┆ … ┆ Hamburg      ┆ admin   ┆ 2484800    ┆ 1892122     │\n",
      "│ Cologne    ┆ 50.9364 ┆ 6.9528  ┆ Germany ┆ … ┆ North Rhine- ┆ null    ┆ 1084831    ┆ 1084831     │\n",
      "│            ┆         ┆         ┆         ┆   ┆ Westphalia   ┆         ┆            ┆             │\n",
      "│ …          ┆ …       ┆ …       ┆ …       ┆ … ┆ …            ┆ …       ┆ …          ┆ …           │\n",
      "│ Neulußheim ┆ 49.2933 ┆ 8.5219  ┆ Germany ┆ … ┆ Baden-Württe ┆ null    ┆ 7128       ┆ 7128        │\n",
      "│            ┆         ┆         ┆         ┆   ┆ mberg        ┆         ┆            ┆             │\n",
      "│ Eichwalde  ┆ 52.3667 ┆ 13.6167 ┆ Germany ┆ … ┆ Brandenburg  ┆ null    ┆ 6475       ┆ 6475        │\n",
      "│ Altbach    ┆ 48.7239 ┆ 9.3797  ┆ Germany ┆ … ┆ Baden-Württe ┆ null    ┆ 6422       ┆ 6422        │\n",
      "│            ┆         ┆         ┆         ┆   ┆ mberg        ┆         ┆            ┆             │\n",
      "│ Merzhausen ┆ 47.9664 ┆ 7.8286  ┆ Germany ┆ … ┆ Baden-Württe ┆ null    ┆ 5347       ┆ 5347        │\n",
      "│            ┆         ┆         ┆         ┆   ┆ mberg        ┆         ┆            ┆             │\n",
      "│ Buckenhof  ┆ 49.5939 ┆ 11.05   ┆ Germany ┆ … ┆ Bavaria      ┆ null    ┆ 3157       ┆ 3157        │\n",
      "└────────────┴─────────┴─────────┴─────────┴───┴──────────────┴─────────┴────────────┴─────────────┘\n"
     ]
    }
   ],
   "source": [
    "import polars as pl\n",
    "import requests\n",
    "from pathlib import Path\n",
    "\n",
    "# Define the URL and the file path\n",
    "url = 'https://simplemaps.com/static/data/country-cities/de/de.csv'\n",
    "file_path = Path('de.csv')\n",
    "\n",
    "# Download and save the CSV file\n",
    "file_path.write_bytes(requests.get(url).content)\n",
    "\n",
    "# Read the CSV file into a Polars DataFrame\n",
    "df = pl.read_csv(file_path)\n",
    "\n",
    "# Drop rows where population_proper is NaN\n",
    "df = df.drop_nulls(subset=['population_proper'])\n",
    "\n",
    "\n",
    "# Display the DataFrame\n",
    "print(df)"
   ]
  },
  {
   "cell_type": "code",
   "execution_count": 2,
   "metadata": {},
   "outputs": [
    {
     "name": "stdout",
     "output_type": "stream",
     "text": [
      "Columns not included (unsupported data types): ['city', 'country', 'iso2', 'admin_name', 'capital']\n",
      "Columns added to the mesh: ['lat', 'lng', 'population', 'population_proper']\n"
     ]
    }
   ],
   "source": [
    "from hi import PolarsMesh\n",
    "blender_mesh = PolarsMesh(dataframe=df, object_name=\"ImportedMesh\")"
   ]
  },
  {
   "cell_type": "code",
   "execution_count": null,
   "metadata": {},
   "outputs": [],
   "source": []
  }
 ],
 "metadata": {
  "kernelspec": {
   "display_name": "blender",
   "language": "python",
   "name": "blender"
  },
  "language_info": {
   "codemirror_mode": {
    "name": "ipython",
    "version": 3
   },
   "file_extension": ".py",
   "mimetype": "text/x-python",
   "name": "python",
   "nbconvert_exporter": "python",
   "pygments_lexer": "ipython3",
   "version": "3.11.9"
  }
 },
 "nbformat": 4,
 "nbformat_minor": 2
}
