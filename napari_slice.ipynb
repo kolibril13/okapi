{
 "cells": [
  {
   "cell_type": "code",
   "execution_count": 4,
   "id": "46e49d87-ccdc-40f2-958d-2fd3a3350cf0",
   "metadata": {},
   "outputs": [
    {
     "data": {
      "text/plain": [
       "<Image layer 'blobs' at 0x16acab670>"
      ]
     },
     "execution_count": 4,
     "metadata": {},
     "output_type": "execute_result"
    }
   ],
   "source": [
    "\n",
    "from skimage import data\n",
    "import napari\n",
    "\n",
    "\n",
    "blobs = data.binary_blobs(length=64, volume_fraction=0.1, n_dim=3).astype(\n",
    "    float\n",
    ")\n",
    "viewer = napari.Viewer(ndisplay=3)\n",
    "# add the volume\n",
    "viewer.add_image(blobs, scale=[3, 1, 1])"
   ]
  },
  {
   "cell_type": "code",
   "execution_count": 3,
   "id": "94b2a9fe-3e99-4ced-8fe6-eec4a8c30c61",
   "metadata": {},
   "outputs": [
    {
     "name": "stderr",
     "output_type": "stream",
     "text": [
      "/Users/jan-hendrik/projects/manimenv2/lib/python3.9/site-packages/napari/_vispy/layers/surface.py:90: UserWarning: Alternative shading modes are only available in 3D, defaulting to none\n",
      "  warnings.warn(\n"
     ]
    }
   ],
   "source": [
    "import numpy as np\n",
    "import napari\n",
    "\n",
    "\n",
    "# create the viewer and window\n",
    "viewer = napari.Viewer(ndisplay=3)\n",
    "\n",
    "data = np.array([[0, 0, 0], [0, 20, 10], [10, 0, -10], [10, 10, -10]])\n",
    "faces = np.array([[0, 1, 2], [1, 2, 3]])\n",
    "values = np.linspace(0, 1, len(data))\n",
    "\n",
    "# add the surface\n",
    "layer = viewer.add_surface((data, faces, values))\n",
    "\n",
    "napari.run()"
   ]
  },
  {
   "cell_type": "code",
   "execution_count": null,
   "id": "3067924c-6ab0-47bc-b3b2-bce97f6c911e",
   "metadata": {},
   "outputs": [],
   "source": []
  }
 ],
 "metadata": {
  "kernelspec": {
   "display_name": "Python 3",
   "language": "python",
   "name": "python3"
  },
  "language_info": {
   "codemirror_mode": {
    "name": "ipython",
    "version": 3
   },
   "file_extension": ".py",
   "mimetype": "text/x-python",
   "name": "python",
   "nbconvert_exporter": "python",
   "pygments_lexer": "ipython3",
   "version": "3.9.5"
  }
 },
 "nbformat": 4,
 "nbformat_minor": 5
}
