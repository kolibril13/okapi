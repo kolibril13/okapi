{
 "cells": [
  {
   "cell_type": "code",
   "execution_count": 1,
   "id": "e4ba2c91-b12e-4d60-98e6-7e51046d5745",
   "metadata": {},
   "outputs": [
    {
     "data": {
      "text/html": [
       "<pre style=\"white-space:pre;overflow-x:auto;line-height:normal;font-family:Menlo,'DejaVu Sans Mono',consolas,'Courier New',monospace\">Manim Community <span style=\"color: #008000; text-decoration-color: #008000\">v0.13.0</span>\n",
       "\n",
       "</pre>\n"
      ],
      "text/plain": [
       "Manim Community \u001b[32mv0.\u001b[0m\u001b[32m13.0\u001b[0m\n",
       "\n"
      ]
     },
     "metadata": {},
     "output_type": "display_data"
    }
   ],
   "source": [
    "import json\n",
    "import os\n",
    "import shutil\n",
    "import time\n",
    "from base64 import b64decode\n",
    "from io import BytesIO\n",
    "from pathlib import Path\n",
    "\n",
    "import PIL\n",
    "from IPython import get_ipython\n",
    "from IPython.core.magic import register_cell_magic\n",
    "from manim import *\n",
    "\n",
    "params = \" -v WARNING -r 80,40 -s  --disable_caching Example\"\n",
    "params = f\" -v WARNING -r {80*4},{40*4} -s  --disable_caching Example\"\n",
    "\n",
    "name_snippet_pairs = {}\n",
    "\n",
    "@register_cell_magic\n",
    "def capture_png(line, cell):\n",
    "    get_ipython().run_cell_magic(\n",
    "        'capture',\n",
    "        ' --no-stderr --no-stdout result',\n",
    "        cell\n",
    "    )\n",
    "    out_paths = line.strip().split(' ')\n",
    "    for output in result.outputs:\n",
    "        display(output)\n",
    "        data = output.data\n",
    "        if 'image/png' in data:\n",
    "            path = out_paths.pop(0)\n",
    "            path = path.split(\".png\")[0] + str(time.time_ns()) + \".png\"\n",
    "            if not path:\n",
    "                raise ValueError('Too few paths given!')\n",
    "            png_bytes = data['image/png']\n",
    "            if isinstance(png_bytes, str):\n",
    "                png_bytes = b64decode(png_bytes)\n",
    "            assert isinstance(png_bytes, bytes)\n",
    "            bytes_io = BytesIO(png_bytes)\n",
    "            image = PIL.Image.open(bytes_io)\n",
    "            image.save(path, 'png')\n",
    "        \n",
    "temp_path = Path.cwd() / \"temp\"\n",
    "temp_path.mkdir(parents=False, exist_ok=True)"
   ]
  },
  {
   "cell_type": "code",
   "execution_count": 2,
   "id": "0fd61567-423c-4c00-a242-1ab6c8dd9787",
   "metadata": {},
   "outputs": [
    {
     "data": {
      "image/png": "[encoded data removed]",
      "text/plain": [
       "<IPython.core.display.Image object>"
      ]
     },
     "metadata": {},
     "output_type": "display_data"
    }
   ],
   "source": [
    "%%capture_png temp/example.png\n",
    "%%manim $params\n",
    "class Example(ZoomedScene):\n",
    "    def construct(self):\n",
    "        mob = Text(\"Hello\", color=WHITE)\n",
    "        self.add(mob)\n",
    "        self.camera.frame.scale(1/8)\n",
    "\n",
    "###******        \n",
    "image_full_name = \"Text1.png\"\n",
    "snippet = 'mob = Text(\"Hello\", color=WHITE)'\n",
    "name_snippet_pairs[image_full_name] = snippet"
   ]
  },
  {
   "cell_type": "code",
   "execution_count": 3,
   "id": "83dea982-bd01-4677-8f52-c0c0cc03b294",
   "metadata": {},
   "outputs": [
    {
     "data": {
      "image/png": "[encoded data removed]",
      "text/plain": [
       "<IPython.core.display.Image object>"
      ]
     },
     "metadata": {},
     "output_type": "display_data"
    }
   ],
   "source": [
    "%%capture_png temp/example.png\n",
    "%%manim $params\n",
    "class Example(ZoomedScene):\n",
    "    def construct(self):\n",
    "        mob = Text(\"World\", color=YELLOW,slant=ITALIC)\n",
    "        self.add(mob)\n",
    "        self.camera.frame.scale(1/8)\n",
    "###******       \n",
    "image_full_name = \"Text2.png\"\n",
    "snippet = 'mob = Text(\"World\", color=YELLOW,slant=ITALIC)'\n",
    "name_snippet_pairs[image_full_name] = snippet"
   ]
  },
  {
   "cell_type": "code",
   "execution_count": 4,
   "id": "6b947937-3554-42af-95d5-cc07a958b0bc",
   "metadata": {},
   "outputs": [
    {
     "data": {
      "image/png": "[encoded data removed]",
      "text/plain": [
       "<IPython.core.display.Image object>"
      ]
     },
     "metadata": {},
     "output_type": "display_data"
    }
   ],
   "source": [
    "%%capture_png temp/example.png\n",
    "%%manim $params\n",
    "class Example(ZoomedScene):\n",
    "    def construct(self):\n",
    "        t = Tex(\"YES\")\n",
    "        ul = Underline(t, color=YELLOW)\n",
    "        self.add(t, ul)\n",
    "        self.camera.frame.scale(1/8)\n",
    "###******        \n",
    "image_full_name = \"Underline.png\"\n",
    "snippet = 't = Tex(\"YES\")\\nul = Underline(t, color=YELLOW)'\n",
    "name_snippet_pairs[image_full_name] = snippet"
   ]
  },
  {
   "cell_type": "code",
   "execution_count": 5,
   "id": "3d6c9d9f-d32d-4811-8b47-2d768d062624",
   "metadata": {},
   "outputs": [
    {
     "data": {
      "image/png": "[encoded data removed]",
      "text/plain": [
       "<IPython.core.display.Image object>"
      ]
     },
     "metadata": {},
     "output_type": "display_data"
    }
   ],
   "source": [
    "%%capture_png temp/example.png\n",
    "%%manim $params\n",
    "class Example(ZoomedScene):\n",
    "    def construct(self):\n",
    "        mob = Text(\"NO\", color=YELLOW,weight=BOLD)\n",
    "        self.add(mob)\n",
    "        self.camera.frame.scale(1/8)\n",
    "###******       \n",
    "image_full_name = \"Bold.png\"\n",
    "snippet = 'mob = Text(\"NO\", color=YELLOW,weight=BOLD)'\n",
    "name_snippet_pairs[image_full_name] = snippet"
   ]
  },
  {
   "cell_type": "code",
   "execution_count": 6,
   "id": "38447001-be94-4df2-b101-645036c6c3a1",
   "metadata": {},
   "outputs": [
    {
     "data": {
      "image/png": "[encoded data removed]",
      "text/plain": [
       "<IPython.core.display.Image object>"
      ]
     },
     "metadata": {},
     "output_type": "display_data"
    }
   ],
   "source": [
    "%%capture_png temp/example.png\n",
    "%%manim $params\n",
    "class Example(ZoomedScene):\n",
    "    def construct(self):\n",
    "        mob = MathTex(r\"\\Psi(x)\", color=WHITE)\n",
    "        self.add(mob)\n",
    "        self.camera.frame.scale(1/8)\n",
    "###******        \n",
    "image_full_name = \"MathTex.png\"\n",
    "snippet = 'mob = MathTex(r\"\\Psi(x)\", color=WHITE)'\n",
    "name_snippet_pairs[image_full_name] = snippet"
   ]
  },
  {
   "cell_type": "code",
   "execution_count": 7,
   "id": "0e138520-2111-459b-801a-a074c36587d2",
   "metadata": {},
   "outputs": [
    {
     "data": {
      "image/png": "[encoded data removed]",
      "text/plain": [
       "<IPython.core.display.Image object>"
      ]
     },
     "metadata": {},
     "output_type": "display_data"
    }
   ],
   "source": [
    "%%capture_png temp/example.png\n",
    "%%manim $params\n",
    "\n",
    "class Example(ZoomedScene):\n",
    "    def construct(self):\n",
    "        stix2 = TexTemplate()\n",
    "        stix2.add_to_preamble(r\"\\usepackage{stix2}\", prepend= True)\n",
    "        MathTex.set_default(tex_template=stix2)\n",
    "        mob = MathTex(r\"\\Psi(x)\", color=WHITE)\n",
    "        self.add(mob)\n",
    "        self.camera.frame.scale(1/8)\n",
    "        \n",
    "###******        \n",
    "image_full_name = \"MathTex_stix2.png\"\n",
    "snippet = r\"\"\"\n",
    "stix2 = TexTemplate()\n",
    "stix2.add_to_preamble(r\"\\usepackage{stix2}\", prepend= True)\n",
    "MathTex.set_default(tex_template=stix2)\n",
    "mob = MathTex(r\"\\Psi(x)\", color=WHITE)\n",
    "\"\"\"\n",
    "name_snippet_pairs[image_full_name] = snippet"
   ]
  },
  {
   "cell_type": "code",
   "execution_count": 8,
   "id": "f5c9059c-f2dc-4219-b5bb-f8bcea454323",
   "metadata": {},
   "outputs": [
    {
     "data": {
      "image/png": "[encoded data removed]",
      "text/plain": [
       "<IPython.core.display.Image object>"
      ]
     },
     "metadata": {},
     "output_type": "display_data"
    }
   ],
   "source": [
    "%%capture_png temp/example.png\n",
    "%%manim $params\n",
    "MathTex.set_default()\n",
    "class Example(ZoomedScene):\n",
    "    def construct(self):\n",
    "        mob = MathTex(r\"e^x\",substrings_to_isolate=\"x\")\n",
    "        mob.set_color_by_tex(\"x\", YELLOW)\n",
    "        self.add(mob)\n",
    "        self.camera.frame.scale(1/10)\n",
    "###******\n",
    "\n",
    "image_full_name = \"MathTex2.png\"\n",
    "snippet = \"\"\"\n",
    "mob = MathTex(r\"e^x\",substrings_to_isolate=\"x\")\n",
    "mob.set_color_by_tex(\"x\", YELLOW)\n",
    "\"\"\"\n",
    "name_snippet_pairs[image_full_name] = snippet"
   ]
  },
  {
   "cell_type": "code",
   "execution_count": 9,
   "id": "91267955-c0a4-4184-8149-6b71e6c3158a",
   "metadata": {},
   "outputs": [
    {
     "data": {
      "image/png": "[encoded data removed]",
      "text/plain": [
       "<IPython.core.display.Image object>"
      ]
     },
     "metadata": {},
     "output_type": "display_data"
    }
   ],
   "source": [
    "%%capture_png temp/example.png\n",
    "%%manim $params\n",
    "class Example(ZoomedScene):\n",
    "    def construct(self):\n",
    "        check= Tex(r\"\\checkmark\", color= GREEN, stroke_width=8).scale(3)\n",
    "        check.stretch(0.8, dim = 1)\n",
    "        check.stretch(1.1, dim = 0)\n",
    "        self.camera.frame.scale(1/7)\n",
    "        self.add(check)\n",
    "image_full_name = \"Check.png\"\n",
    "snippet = \"\"\"\n",
    "check= Tex(r\"\\checkmark\", color= GREEN, stroke_width=8).scale(3)\n",
    "check.stretch(0.8, dim = 1)\n",
    "check.stretch(1.1, dim = 0)\n",
    "\"\"\"\n",
    "name_snippet_pairs[image_full_name] = snippet"
   ]
  },
  {
   "cell_type": "code",
   "execution_count": 10,
   "id": "e5e50a51-796e-4f0d-8091-d932740aaf6b",
   "metadata": {},
   "outputs": [
    {
     "data": {
      "text/plain": [
       "{'Mobjects_Text_000_Text1.png': 'mob = Text(\"Hello\", color=WHITE)\\n',\n",
       " 'Mobjects_Text_001_Text2.png': 'mob = Text(\"World\", color=YELLOW,slant=ITALIC)\\n',\n",
       " 'Mobjects_Text_002_Underline.png': 't = Tex(\"YES\")\\nul = Underline(t, color=YELLOW)\\n',\n",
       " 'Mobjects_Text_003_Bold.png': 'mob = Text(\"NO\", color=YELLOW,weight=BOLD)\\n',\n",
       " 'Mobjects_Text_004_MathTex.png': 'mob = MathTex(r\"\\\\Psi(x)\", color=WHITE)\\n',\n",
       " 'Mobjects_Text_005_MathTex_stix2.png': 'stix2 = TexTemplate()\\nstix2.add_to_preamble(r\"\\\\usepackage{stix2}\", prepend= True)\\nMathTex.set_default(tex_template=stix2)\\nmob = MathTex(r\"\\\\Psi(x)\", color=WHITE)\\n',\n",
       " 'Mobjects_Text_006_MathTex2.png': 'mob = MathTex(r\"e^x\",substrings_to_isolate=\"x\")\\nmob.set_color_by_tex(\"x\", YELLOW)\\n',\n",
       " 'Mobjects_Text_007_Check.png': 'check= Tex(r\"\\\\checkmark\", color= GREEN, stroke_width=8).scale(3)\\ncheck.stretch(0.8, dim = 1)\\ncheck.stretch(1.1, dim = 0)\\n'}"
      ]
     },
     "metadata": {},
     "output_type": "display_data"
    }
   ],
   "source": [
    "# save here\n",
    "file_name = \"Mobjects_Text\"\n",
    "base_directory = temp_path\n",
    "target_directory = Path.cwd() / \"imgs\"\n",
    "target_directory.mkdir(parents=True, exist_ok=True)\n",
    "\n",
    "prefix = file_name # delete files that where created in the past \n",
    "for file in target_directory.rglob(\"*\"):\n",
    "    if (prefix in file.name):\n",
    "        file.unlink() \n",
    "\n",
    "paths = sorted(Path(base_directory).iterdir(), key=os.path.getmtime)\n",
    "dest_names = list(name_snippet_pairs.keys())\n",
    "new_keys = []\n",
    "for num, (p,des) in enumerate(zip(paths,dest_names)):\n",
    "    to_path = target_directory /  f\"{file_name}_{num:03}_{des}\"   \n",
    "    shutil.copy(p,  to_path)\n",
    "    new_keys.append(to_path.name)\n",
    "new_name_snippet_pairs ={} \n",
    "new_values = list(name_snippet_pairs.values())\n",
    "\n",
    "for key, value in zip(new_keys,new_values):\n",
    "    if value.startswith(\"\\n\"):\n",
    "        value = value[1:]\n",
    "    if value.endswith(\"\\n\"):\n",
    "        value = value[:-1]\n",
    "    value += \"\\n\"\n",
    "    new_name_snippet_pairs[key]=value\n",
    "with open(f'imgs/{file_name}.json', 'w') as fp:\n",
    "    json.dump(new_name_snippet_pairs, fp,indent=2)\n",
    "display(new_name_snippet_pairs)\n",
    "!rm -r $base_directory\n",
    "!git add ."
   ]
  },
  {
   "cell_type": "code",
   "execution_count": null,
   "id": "22b4ecd9-bdaa-448c-bbf2-578e0ca4ad97",
   "metadata": {},
   "outputs": [],
   "source": []
  }
 ],
 "metadata": {
  "interpreter": {
   "hash": "956ae1017c005de10cf980548dc93247cd70ec3257bcb31b6a6c2783ea7553f4"
  },
  "kernelspec": {
   "display_name": "Python 3",
   "language": "python",
   "name": "python3"
  },
  "language_info": {
   "codemirror_mode": {
    "name": "ipython",
    "version": 3
   },
   "file_extension": ".py",
   "mimetype": "text/x-python",
   "name": "python",
   "nbconvert_exporter": "python",
   "pygments_lexer": "ipython3",
   "version": "3.9.5"
  }
 },
 "nbformat": 4,
 "nbformat_minor": 5
}
