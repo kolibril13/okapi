{
 "cells": [
  {
   "cell_type": "code",
   "execution_count": 10,
   "id": "08900f4c",
   "metadata": {},
   "outputs": [],
   "source": [
    "import json\n",
    "import os\n",
    "import shutil\n",
    "import time\n",
    "from base64 import b64decode\n",
    "from io import BytesIO\n",
    "from IPython import get_ipython\n",
    "from IPython.core.magic import register_cell_magic\n",
    "\n",
    "from pathlib import Path\n",
    "import matplotlib.pyplot as plt\n",
    "import numpy as np\n",
    "import PIL\n",
    "import seaborn as sns\n",
    "#%config InlineBackend.figure_format = 'svg'  \n",
    "\n",
    "@register_cell_magic\n",
    "def capture_png(line, cell):\n",
    "    get_ipython().run_cell_magic(\n",
    "        'capture',\n",
    "        ' --no-stderr --no-stdout result',\n",
    "        cell\n",
    "    )\n",
    "\n",
    "\n",
    "    out_paths = line.strip().split(' ')\n",
    "    for output in result.outputs:\n",
    "        display(output)\n",
    "        \n",
    "        data = output.data\n",
    "        if 'image/png' in data:\n",
    "            path = out_paths.pop(0)\n",
    "            path = path.split(\".png\")[0] + str(time.time_ns()) + \".png\"\n",
    "            if not path:\n",
    "                raise ValueError('Too few paths given!')\n",
    "            png_bytes = data['image/png']\n",
    "            if isinstance(png_bytes, str):\n",
    "                png_bytes = b64decode(png_bytes)\n",
    "            assert isinstance(png_bytes, bytes)\n",
    "            bytes_io = BytesIO(png_bytes)\n",
    "            image = PIL.Image.open(bytes_io)\n",
    "            image.save(path, 'png')\n",
    "            \n",
    "        code =cell\n",
    "\n",
    "        with open(\"imgs/structuring_elements.json\", \"r\") as jsonFile:\n",
    "            data = json.load(jsonFile)\n",
    "\n",
    "        data[path[5:]] = code\n",
    "\n",
    "        with open(\"imgs/structuring_elements.json\", \"w\") as jsonFile:\n",
    "            json.dump(data, jsonFile, indent=2)\n",
    "\n",
    "\n",
    "\n",
    "\n",
    "    \n",
    "def disp(x, sep='.0f', annot=False,  figsize=(5,5)): \n",
    "    plt.figure(figsize =figsize)\n",
    "    plt.axis(\"off\")\n",
    "    sns.heatmap(x,annot=annot,fmt=sep, cmap=\"YlGnBu\", cbar=False); # Change range with: vmin=0, vmax=1\n",
    "        \n",
    "temp_path = Path.cwd() / \"temp_images\"\n",
    "temp_path.mkdir(parents=False, exist_ok=True)"
   ]
  },
  {
   "cell_type": "code",
   "execution_count": 11,
   "id": "9c683ef2-8517-4919-8de8-23ffc01da281",
   "metadata": {
    "tags": []
   },
   "outputs": [],
   "source": [
    "import matplotlib.pyplot as plt\n",
    "import numpy as np\n",
    "import scipy\n",
    "from skimage.morphology import ball, cube, octahedron\n",
    "\n",
    "def plot_voxels(varray, ax= None, title= None, linewidth=0.8):\n",
    "    cmap = plt.get_cmap(\"YlGnBu\")\n",
    "\n",
    "    if ax == None:\n",
    "        fig = plt.figure(figsize=(16/2, 9/2))\n",
    "        ax = fig.add_subplot(1, 1,1, projection=\"3d\")\n",
    "    ax.view_init(20, 200)\n",
    "    colors = cmap(varray)\n",
    "    ax.voxels(varray, facecolors=colors, edgecolor=\"black\", linewidth=linewidth)\n",
    "\n",
    "    ax.axis('off')\n",
    "    if title != None:\n",
    "        ax.set_title(title, fontsize=30)\n",
    "\n",
    "\n",
    "\n",
    "\n",
    "\n",
    "def structuring_element(array, structure, position=None, alignment_to_index=\"center\"):\n",
    "    \"\"\"Draw a structuring element.\n",
    "\n",
    "    Parameters\n",
    "    ----------\n",
    "    array: ndarray\n",
    "        An array where the structuring element will be placed.\n",
    "    structure: ndarray\n",
    "        A structuring element.\n",
    "    position: array_like, optional\n",
    "        The position of the structuring element in the output image.\n",
    "        When no position is given, the stucuting element will be drawn in the center of the array.\n",
    "        If one or more array axis haven an even count of total elements and therefore no integer as center index,\n",
    "        the center index is rounded down to the next integer.\n",
    "    alignment_to_index: string, optional\n",
    "        Can be either \"center\" or \"corner\".\n",
    "    \"\"\"\n",
    "    if position == None:\n",
    "        i, j, k = array.shape\n",
    "        position = np.array(\n",
    "            [int(np.ceil(i / 2)), int(np.ceil(j / 2)), int(np.ceil(k / 2))]\n",
    "        )\n",
    "    x = position[0]\n",
    "    y = position[1]\n",
    "    z = position[2]\n",
    "    strulen_x = structure.shape[0]\n",
    "    strulen_y = structure.shape[1]\n",
    "    strulen_z = structure.shape[2]\n",
    "    if alignment_to_index == \"center\":\n",
    "        halfxA = int(np.floor(strulen_x / 2))\n",
    "        halfxB = int(np.ceil(strulen_x / 2))\n",
    "        halfyA = int(np.floor(strulen_y / 2))\n",
    "        halfyB = int(np.ceil(strulen_y / 2))\n",
    "        halfzA = int(np.floor(strulen_z / 2))\n",
    "        halfzB = int(np.ceil(strulen_z / 2))\n",
    "        array[\n",
    "            x - halfxA : x + halfxB, y - halfyA : y + halfyB, z - halfzA : z + halfzB\n",
    "        ] = structure\n",
    "    if alignment_to_index == \"corner\":\n",
    "        array[x : x + strulen_x, y : y + strulen_y, z : z + strulen_z] = structure\n",
    "\n",
    "    return array"
   ]
  },
  {
   "cell_type": "markdown",
   "id": "d31d7b4b-9068-4a04-8f4c-d458d8441f5c",
   "metadata": {},
   "source": [
    "# Structuing elements"
   ]
  },
  {
   "cell_type": "code",
   "execution_count": null,
   "id": "9794cdc4-c517-48b0-9060-0033fb4ece93",
   "metadata": {},
   "outputs": [],
   "source": [
    "%%capture_png imgs/example.png\n",
    "arrray = scipy.ndimage.generate_binary_structure(3, 1)\n",
    "plot_voxels(arrray)"
   ]
  },
  {
   "cell_type": "code",
   "execution_count": null,
   "id": "b8b9ff64-c5f1-438a-86e5-2c9d2c4895dd",
   "metadata": {},
   "outputs": [],
   "source": [
    "%%capture_png imgs/example.png\n",
    "arrray = scipy.ndimage.generate_binary_structure(3, 2)\n",
    "plot_voxels(arrray)"
   ]
  },
  {
   "cell_type": "code",
   "execution_count": null,
   "id": "58255fdd-11bf-4cd9-b2ae-ee24354797cc",
   "metadata": {},
   "outputs": [],
   "source": [
    "%%capture_png imgs/example.png\n",
    "arrray = scipy.ndimage.generate_binary_structure(3, 3)\n",
    "plot_voxels(arrray)"
   ]
  },
  {
   "cell_type": "code",
   "execution_count": null,
   "id": "49fc6172-86be-47e5-ad97-3682a6843108",
   "metadata": {},
   "outputs": [],
   "source": [
    "%%capture_png imgs/example.png\n",
    "arrray = cube(5)\n",
    "plot_voxels(arrray)"
   ]
  },
  {
   "cell_type": "code",
   "execution_count": null,
   "id": "5ba3fc0b-49e1-4cda-b756-167763135679",
   "metadata": {},
   "outputs": [],
   "source": [
    "%%capture_png imgs/example.png\n",
    "arrray = octahedron(3)\n",
    "plot_voxels(arrray)"
   ]
  },
  {
   "cell_type": "code",
   "execution_count": null,
   "id": "e3a8da42-2b2f-4923-8783-d71fd736a094",
   "metadata": {},
   "outputs": [],
   "source": [
    "%%capture_png imgs/example.png\n",
    "arrray = ball(3)\n",
    "plot_voxels(arrray)"
   ]
  },
  {
   "cell_type": "code",
   "execution_count": null,
   "id": "346702f6-8d67-4653-ae01-5b4aa69050b3",
   "metadata": {},
   "outputs": [],
   "source": [
    "%%capture_png imgs/example.png\n",
    "import matplotlib.pyplot as plt\n",
    "import numpy as np\n",
    "from scipy.ndimage import gaussian_filter\n",
    "\n",
    "grids = 2\n",
    "boxs = 5\n",
    "\n",
    "voxelarray = np.zeros((boxs * grids, boxs * grids, boxs * grids))\n",
    "\n",
    "i = 1\n",
    "for xi in range(0, 2):\n",
    "    for yi in range(0, 2):\n",
    "        for zi in range(0, 2):\n",
    "            voxelarray[\n",
    "                xi * boxs: xi * boxs + boxs,\n",
    "                yi * boxs: yi * boxs + boxs,\n",
    "                zi * boxs: zi * boxs + boxs,\n",
    "            ] = i\n",
    "            i += 1\n",
    "\n",
    "voxelarray = np.uint8(voxelarray*255/i)\n",
    "\n",
    "plot_voxels(voxelarray)"
   ]
  },
  {
   "cell_type": "code",
   "execution_count": null,
   "id": "e3a0a141-d9ce-43fc-945c-a3327ac1f2ff",
   "metadata": {},
   "outputs": [],
   "source": [
    "from skimage import data\n",
    "voxelarray = data.binary_blobs(length=110, volume_fraction=0.1, n_dim=3, seed=9)\n",
    "voxelarray= voxelarray[90:,90:,90:]\n",
    "#plt.imshow(voxelarray[:,:,3])\n",
    "plot_voxels(voxelarray, linewidth=0.1)"
   ]
  }
 ],
 "metadata": {
  "interpreter": {
   "hash": "7ebf924f33491c921954fca832147f8f5cb2261a32d05c905747d88e8d31766a"
  },
  "kernelspec": {
   "display_name": "Python 3",
   "language": "python",
   "name": "python3"
  },
  "language_info": {
   "codemirror_mode": {
    "name": "ipython",
    "version": 3
   },
   "file_extension": ".py",
   "mimetype": "text/x-python",
   "name": "python",
   "nbconvert_exporter": "python",
   "pygments_lexer": "ipython3",
   "version": "3.9.5"
  }
 },
 "nbformat": 4,
 "nbformat_minor": 5
}
