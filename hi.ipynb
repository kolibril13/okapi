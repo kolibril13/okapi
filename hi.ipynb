{
 "cells": [
  {
   "cell_type": "markdown",
   "metadata": {},
   "source": [
    "efsdf"
   ]
  },
  {
   "cell_type": "code",
   "execution_count": 13,
   "metadata": {},
   "outputs": [
    {
     "name": "stdout",
     "output_type": "stream",
     "text": [
      "Info: No new files have been packed\n",
      "Plane is named: MapPlane\n",
      "Final mesh dims: 10.000 × 7.900\n",
      "Image packed? True\n"
     ]
    }
   ],
   "source": [
    "import bpy\n",
    "import urllib.request, os\n",
    "from mathutils import Matrix\n",
    "\n",
    "# 1) Download your map PNG\n",
    "def download_image(url, fname):\n",
    "    dest = os.path.join(bpy.app.tempdir, fname)\n",
    "    urllib.request.urlretrieve(url, dest)\n",
    "    return dest\n",
    "\n",
    "url = \"https://raw.githubusercontent.com/Octoframes/bpy-workshop/refs/heads/main/Germany_location_map.png\"\n",
    "fname = \"Germany_location_map.png\"\n",
    "image_path = download_image(url, fname)\n",
    "\n",
    "# 2) Compute extents + center\n",
    "north, south = 55.1, 47.2\n",
    "west,  east  = 5.5, 15.5\n",
    "width  = east  - west    # 10.0\n",
    "height = north - south   #  7.9\n",
    "center_x = (east + west) / 2.0   # 10.5\n",
    "center_y = (north + south) / 2.0 # 51.15\n",
    "\n",
    "# 3) Add a unit plane at the origin\n",
    "bpy.ops.object.select_all(action='DESELECT')\n",
    "bpy.ops.mesh.primitive_plane_add(size=1, location=(0, 0, 0))\n",
    "obj = bpy.context.active_object\n",
    "obj.name = \"MapPlane\"\n",
    "obj.select_set(True)\n",
    "bpy.context.view_layer.objects.active = obj\n",
    "\n",
    "# 4) Recenter its origin to its own geometry\n",
    "bpy.ops.object.origin_set(type='ORIGIN_GEOMETRY', center='BOUNDS')\n",
    "\n",
    "# 5) Build and apply a 4×4 scale matrix on the mesh data\n",
    "m_x = Matrix.Scale(width,  4, (1, 0, 0))\n",
    "m_y = Matrix.Scale(height, 4, (0, 1, 0))\n",
    "obj.data.transform(m_x @ m_y)\n",
    "\n",
    "# 6) Move the whole object to its geographic center\n",
    "obj.location = (center_x, center_y, 0)\n",
    "\n",
    "# 7) Create + assign the image‑texture material\n",
    "mat = bpy.data.materials.new(name=\"MapMaterial\")\n",
    "mat.use_nodes = True\n",
    "nodes = mat.node_tree.nodes\n",
    "links = mat.node_tree.links\n",
    "\n",
    "bsdf = nodes.get(\"Principled BSDF\") or nodes.new(\"ShaderNodeBsdfPrincipled\")\n",
    "tex  = nodes.new(\"ShaderNodeTexImage\")\n",
    "# Load and pack the image into the .blend\n",
    "img = bpy.data.images.load(image_path)\n",
    "img.pack()\n",
    "tex.image = img\n",
    "\n",
    "# Link texture to BSDF\n",
    "links.new(tex.outputs[\"Color\"], bsdf.inputs[\"Base Color\"])\n",
    "\n",
    "# Assign material\n",
    "obj.data.materials.clear()\n",
    "obj.data.materials.append(mat)\n",
    "\n",
    "# 8) Optional: pack all external data (including the image)\n",
    "bpy.ops.file.pack_all()\n",
    "\n",
    "# 9) Sanity‑check\n",
    "print(\"Plane is named:\", obj.name)\n",
    "print(f\"Final mesh dims: {obj.dimensions.x:.3f} × {obj.dimensions.y:.3f}\")\n",
    "print(\"Image packed?\", img.packed_file is not None)\n"
   ]
  },
  {
   "cell_type": "code",
   "execution_count": 15,
   "metadata": {},
   "outputs": [
    {
     "data": {
      "text/plain": [
       "(10.5, 51.150000000000006)"
      ]
     },
     "execution_count": 15,
     "metadata": {},
     "output_type": "execute_result"
    }
   ],
   "source": [
    "center_x, center_y"
   ]
  },
  {
   "cell_type": "code",
   "execution_count": null,
   "metadata": {},
   "outputs": [],
   "source": []
  }
 ],
 "metadata": {
  "kernelspec": {
   "display_name": "Python 3 (ipykernel)",
   "language": "python",
   "name": "python3"
  },
  "language_info": {
   "codemirror_mode": {
    "name": "ipython",
    "version": 3
   },
   "file_extension": ".py",
   "mimetype": "text/x-python",
   "name": "python",
   "nbconvert_exporter": "python",
   "pygments_lexer": "ipython3",
   "version": "3.11.11"
  }
 },
 "nbformat": 4,
 "nbformat_minor": 2
}
