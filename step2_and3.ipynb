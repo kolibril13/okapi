{
 "cells": [
  {
   "cell_type": "code",
   "execution_count": 3,
   "id": "5a59424d",
   "metadata": {},
   "outputs": [
    {
     "data": {
      "text/html": [
       "<div><style>\n",
       ".dataframe > thead > tr,\n",
       ".dataframe > tbody > tr {\n",
       "  text-align: right;\n",
       "  white-space: pre-wrap;\n",
       "}\n",
       "</style>\n",
       "<small>shape: (2_059, 13)</small><table border=\"1\" class=\"dataframe\"><thead><tr><th>Lfd. Nr.</th><th>Land</th><th>RB</th><th>Kreis</th><th>Verb</th><th>Gem</th><th>Stadt</th><th>Postleitzahl</th><th>Fläche in km2</th><th>insgesamt</th><th>männlich</th><th>weiblich</th><th>je km2</th></tr><tr><td>i64</td><td>str</td><td>str</td><td>str</td><td>str</td><td>str</td><td>str</td><td>str</td><td>f64</td><td>i64</td><td>i64</td><td>i64</td><td>i64</td></tr></thead><tbody><tr><td>1</td><td>&quot;11&quot;</td><td>&quot;0&quot;</td><td>&quot;00&quot;</td><td>&quot;0000&quot;</td><td>&quot;000&quot;</td><td>&quot;Berlin, Stadt&quot;</td><td>&quot;10178&quot;</td><td>891.12</td><td>3782202</td><td>1860115</td><td>1922087</td><td>4244</td></tr><tr><td>2</td><td>&quot;02&quot;</td><td>&quot;0&quot;</td><td>&quot;00&quot;</td><td>&quot;0000&quot;</td><td>&quot;000&quot;</td><td>&quot;Hamburg, Freie und Hansestadt&quot;</td><td>&quot;20038&quot;</td><td>755.09</td><td>1910160</td><td>936740</td><td>973420</td><td>2530</td></tr><tr><td>3</td><td>&quot;09&quot;</td><td>&quot;1&quot;</td><td>&quot;62&quot;</td><td>&quot;0000&quot;</td><td>&quot;000&quot;</td><td>&quot;München, Landeshauptstadt&quot;</td><td>&quot;80313&quot;</td><td>310.7</td><td>1510378</td><td>734925</td><td>775453</td><td>4861</td></tr><tr><td>4</td><td>&quot;05&quot;</td><td>&quot;3&quot;</td><td>&quot;15&quot;</td><td>&quot;0000&quot;</td><td>&quot;000&quot;</td><td>&quot;Köln, Stadt&quot;</td><td>&quot;50667&quot;</td><td>405.02</td><td>1087353</td><td>527728</td><td>559625</td><td>2685</td></tr><tr><td>5</td><td>&quot;06&quot;</td><td>&quot;4&quot;</td><td>&quot;12&quot;</td><td>&quot;0000&quot;</td><td>&quot;000&quot;</td><td>&quot;Frankfurt am Main, Stadt&quot;</td><td>&quot;60311&quot;</td><td>248.31</td><td>775790</td><td>382226</td><td>393564</td><td>3124</td></tr><tr><td>&hellip;</td><td>&hellip;</td><td>&hellip;</td><td>&hellip;</td><td>&hellip;</td><td>&hellip;</td><td>&hellip;</td><td>&hellip;</td><td>&hellip;</td><td>&hellip;</td><td>&hellip;</td><td>&hellip;</td><td>&hellip;</td></tr><tr><td>2055</td><td>&quot;16&quot;</td><td>&quot;0&quot;</td><td>&quot;75&quot;</td><td>&quot;5013&quot;</td><td>&quot;127&quot;</td><td>&quot;Ziegenrück, Stadt&quot;</td><td>&quot;07924&quot;</td><td>8.25</td><td>615</td><td>303</td><td>312</td><td>75</td></tr><tr><td>2056</td><td>&quot;03&quot;</td><td>&quot;3&quot;</td><td>&quot;54&quot;</td><td>&quot;5403&quot;</td><td>&quot;021&quot;</td><td>&quot;Schnackenburg, Stadt&quot;</td><td>&quot;29493&quot;</td><td>23.7</td><td>521</td><td>259</td><td>262</td><td>22</td></tr><tr><td>2057</td><td>&quot;16&quot;</td><td>&quot;0&quot;</td><td>&quot;71&quot;</td><td>&quot;5053&quot;</td><td>&quot;061&quot;</td><td>&quot;Neumark, Stadt&quot;</td><td>&quot;99439&quot;</td><td>8.67</td><td>482</td><td>253</td><td>229</td><td>56</td></tr><tr><td>2058</td><td>&quot;16&quot;</td><td>&quot;0&quot;</td><td>&quot;69&quot;</td><td>&quot;5004&quot;</td><td>&quot;052&quot;</td><td>&quot;Ummerstadt, Stadt&quot;</td><td>&quot;98663&quot;</td><td>15.73</td><td>463</td><td>237</td><td>226</td><td>29</td></tr><tr><td>2059</td><td>&quot;01&quot;</td><td>&quot;0&quot;</td><td>&quot;59&quot;</td><td>&quot;5920&quot;</td><td>&quot;002&quot;</td><td>&quot;Arnis, Stadt&quot;</td><td>&quot;24399&quot;</td><td>0.45</td><td>254</td><td>125</td><td>129</td><td>564</td></tr></tbody></table></div>"
      ],
      "text/plain": [
       "shape: (2_059, 13)\n",
       "┌──────────┬──────┬─────┬───────┬───┬───────────┬──────────┬──────────┬────────┐\n",
       "│ Lfd. Nr. ┆ Land ┆ RB  ┆ Kreis ┆ … ┆ insgesamt ┆ männlich ┆ weiblich ┆ je km2 │\n",
       "│ ---      ┆ ---  ┆ --- ┆ ---   ┆   ┆ ---       ┆ ---      ┆ ---      ┆ ---    │\n",
       "│ i64      ┆ str  ┆ str ┆ str   ┆   ┆ i64       ┆ i64      ┆ i64      ┆ i64    │\n",
       "╞══════════╪══════╪═════╪═══════╪═══╪═══════════╪══════════╪══════════╪════════╡\n",
       "│ 1        ┆ 11   ┆ 0   ┆ 00    ┆ … ┆ 3782202   ┆ 1860115  ┆ 1922087  ┆ 4244   │\n",
       "│ 2        ┆ 02   ┆ 0   ┆ 00    ┆ … ┆ 1910160   ┆ 936740   ┆ 973420   ┆ 2530   │\n",
       "│ 3        ┆ 09   ┆ 1   ┆ 62    ┆ … ┆ 1510378   ┆ 734925   ┆ 775453   ┆ 4861   │\n",
       "│ 4        ┆ 05   ┆ 3   ┆ 15    ┆ … ┆ 1087353   ┆ 527728   ┆ 559625   ┆ 2685   │\n",
       "│ 5        ┆ 06   ┆ 4   ┆ 12    ┆ … ┆ 775790    ┆ 382226   ┆ 393564   ┆ 3124   │\n",
       "│ …        ┆ …    ┆ …   ┆ …     ┆ … ┆ …         ┆ …        ┆ …        ┆ …      │\n",
       "│ 2055     ┆ 16   ┆ 0   ┆ 75    ┆ … ┆ 615       ┆ 303      ┆ 312      ┆ 75     │\n",
       "│ 2056     ┆ 03   ┆ 3   ┆ 54    ┆ … ┆ 521       ┆ 259      ┆ 262      ┆ 22     │\n",
       "│ 2057     ┆ 16   ┆ 0   ┆ 71    ┆ … ┆ 482       ┆ 253      ┆ 229      ┆ 56     │\n",
       "│ 2058     ┆ 16   ┆ 0   ┆ 69    ┆ … ┆ 463       ┆ 237      ┆ 226      ┆ 29     │\n",
       "│ 2059     ┆ 01   ┆ 0   ┆ 59    ┆ … ┆ 254       ┆ 125      ┆ 129      ┆ 564    │\n",
       "└──────────┴──────┴─────┴───────┴───┴───────────┴──────────┴──────────┴────────┘"
      ]
     },
     "execution_count": 3,
     "metadata": {},
     "output_type": "execute_result"
    }
   ],
   "source": [
    "from pathlib import Path\n",
    "import polars as pl\n",
    "\n",
    "file_path = Path.home() / \"projects\" / \"okapi\" / \"towns\" / \"towns_step2_original_frame.xlsx\"\n",
    "file_path.exists()\n",
    "\n",
    "df = pl.read_excel(file_path)\n",
    "df"
   ]
  },
  {
   "cell_type": "code",
   "execution_count": null,
   "id": "3bd4d5fa",
   "metadata": {},
   "outputs": [
    {
     "data": {
      "text/html": [
       "<div><style>\n",
       ".dataframe > thead > tr,\n",
       ".dataframe > tbody > tr {\n",
       "  text-align: right;\n",
       "  white-space: pre-wrap;\n",
       "}\n",
       "</style>\n",
       "<small>shape: (2_059, 6)</small><table border=\"1\" class=\"dataframe\"><thead><tr><th>flaeche_km2</th><th>pop_insgesamt</th><th>pop_maennlich</th><th>pop_weiblich</th><th>pop_density</th><th>stadt_name</th></tr><tr><td>f64</td><td>i64</td><td>i64</td><td>i64</td><td>i64</td><td>str</td></tr></thead><tbody><tr><td>891.12</td><td>3782202</td><td>1860115</td><td>1922087</td><td>4244</td><td>&quot;Berlin&quot;</td></tr><tr><td>755.09</td><td>1910160</td><td>936740</td><td>973420</td><td>2530</td><td>&quot;Hamburg&quot;</td></tr><tr><td>310.7</td><td>1510378</td><td>734925</td><td>775453</td><td>4861</td><td>&quot;München&quot;</td></tr><tr><td>405.02</td><td>1087353</td><td>527728</td><td>559625</td><td>2685</td><td>&quot;Köln&quot;</td></tr><tr><td>248.31</td><td>775790</td><td>382226</td><td>393564</td><td>3124</td><td>&quot;Frankfurt am Main&quot;</td></tr><tr><td>&hellip;</td><td>&hellip;</td><td>&hellip;</td><td>&hellip;</td><td>&hellip;</td><td>&hellip;</td></tr><tr><td>8.25</td><td>615</td><td>303</td><td>312</td><td>75</td><td>&quot;Ziegenrück&quot;</td></tr><tr><td>23.7</td><td>521</td><td>259</td><td>262</td><td>22</td><td>&quot;Schnackenburg&quot;</td></tr><tr><td>8.67</td><td>482</td><td>253</td><td>229</td><td>56</td><td>&quot;Neumark&quot;</td></tr><tr><td>15.73</td><td>463</td><td>237</td><td>226</td><td>29</td><td>&quot;Ummerstadt&quot;</td></tr><tr><td>0.45</td><td>254</td><td>125</td><td>129</td><td>564</td><td>&quot;Arnis&quot;</td></tr></tbody></table></div>"
      ],
      "text/plain": [
       "shape: (2_059, 6)\n",
       "┌─────────────┬───────────────┬───────────────┬──────────────┬─────────────┬───────────────────┐\n",
       "│ flaeche_km2 ┆ pop_insgesamt ┆ pop_maennlich ┆ pop_weiblich ┆ pop_density ┆ stadt_name        │\n",
       "│ ---         ┆ ---           ┆ ---           ┆ ---          ┆ ---         ┆ ---               │\n",
       "│ f64         ┆ i64           ┆ i64           ┆ i64          ┆ i64         ┆ str               │\n",
       "╞═════════════╪═══════════════╪═══════════════╪══════════════╪═════════════╪═══════════════════╡\n",
       "│ 891.12      ┆ 3782202       ┆ 1860115       ┆ 1922087      ┆ 4244        ┆ Berlin            │\n",
       "│ 755.09      ┆ 1910160       ┆ 936740        ┆ 973420       ┆ 2530        ┆ Hamburg           │\n",
       "│ 310.7       ┆ 1510378       ┆ 734925        ┆ 775453       ┆ 4861        ┆ München           │\n",
       "│ 405.02      ┆ 1087353       ┆ 527728        ┆ 559625       ┆ 2685        ┆ Köln              │\n",
       "│ 248.31      ┆ 775790        ┆ 382226        ┆ 393564       ┆ 3124        ┆ Frankfurt am Main │\n",
       "│ …           ┆ …             ┆ …             ┆ …            ┆ …           ┆ …                 │\n",
       "│ 8.25        ┆ 615           ┆ 303           ┆ 312          ┆ 75          ┆ Ziegenrück        │\n",
       "│ 23.7        ┆ 521           ┆ 259           ┆ 262          ┆ 22          ┆ Schnackenburg     │\n",
       "│ 8.67        ┆ 482           ┆ 253           ┆ 229          ┆ 56          ┆ Neumark           │\n",
       "│ 15.73       ┆ 463           ┆ 237           ┆ 226          ┆ 29          ┆ Ummerstadt        │\n",
       "│ 0.45        ┆ 254           ┆ 125           ┆ 129          ┆ 564         ┆ Arnis             │\n",
       "└─────────────┴───────────────┴───────────────┴──────────────┴─────────────┴───────────────────┘"
      ]
     },
     "execution_count": 10,
     "metadata": {},
     "output_type": "execute_result"
    }
   ],
   "source": [
    "import pandas as pd\n",
    "\n",
    "# 1. Read the Excel file (header row at line 0 by default)\n",
    "df = pd.read_excel(file_path, header=0)\n",
    "\n",
    "# 2. Cast selected columns to pandas’ nullable integer dtype “Int64”\n",
    "int_cols = [\n",
    "    \"Lfd. Nr.\",       # index\n",
    "    \"Land\",           # state code\n",
    "    \"RB\",             # region code\n",
    "    \"Kreis\",          # district code\n",
    "    \"Verb\",           # administrative union code\n",
    "    \"Gem\",            # municipality code\n",
    "    \"Postleitzahl\"    # postal code\n",
    "]\n",
    "df[int_cols] = df[int_cols].astype(\"Int64\")\n",
    "\n",
    "# 3. Rename columns\n",
    "df = df.rename(columns={\n",
    "    \"Lfd. Nr.\":      \"lfd_nr\",\n",
    "    \"Land\":          \"land\",\n",
    "    \"RB\":            \"rb\",\n",
    "    \"Kreis\":         \"kreis\",\n",
    "    \"Verb\":          \"verb\",\n",
    "    \"Gem\":           \"gem\",\n",
    "    \"Stadt\":         \"stadt\",\n",
    "    \"Postleitzahl\":  \"plz\",\n",
    "    \"Fläche in km2\": \"flaeche_km2\",\n",
    "    \"insgesamt\":     \"pop_insgesamt\",\n",
    "    \"männlich\":      \"pop_maennlich\",\n",
    "    \"weiblich\":      \"pop_weiblich\",\n",
    "    \"je km2\":        \"pop_density\"\n",
    "})\n",
    "\n",
    "df[[\"stadt_name\", \"stadt_typ\"]] = df[\"stadt\"].str.split(\", \", n=1, expand=True)\n",
    "\n",
    "# 2. Drop the original column\n",
    "df = df.drop(columns=[\"stadt\"])\n",
    "df = df.drop(columns=[\"stadt_typ\"])\n",
    "\n",
    "df = df.drop(columns=[\"lfd_nr\", \"land\", \"rb\", \"kreis\", \"verb\", \"gem\", \"plz\"])\n",
    "\n",
    "df = pl.from_pandas(df)\n",
    "df"
   ]
  },
  {
   "cell_type": "code",
   "execution_count": 12,
   "id": "d1d634fa",
   "metadata": {},
   "outputs": [],
   "source": [
    "p = Path.home() / \"projects\" / \"okapi\" / \"towns\" / \"towns_step3.csv\"\n",
    "df.write_csv(p, include_header=True)"
   ]
  }
 ],
 "metadata": {
  "kernelspec": {
   "display_name": ".venv",
   "language": "python",
   "name": "python3"
  },
  "language_info": {
   "codemirror_mode": {
    "name": "ipython",
    "version": 3
   },
   "file_extension": ".py",
   "mimetype": "text/x-python",
   "name": "python",
   "nbconvert_exporter": "python",
   "pygments_lexer": "ipython3",
   "version": "3.13.0"
  }
 },
 "nbformat": 4,
 "nbformat_minor": 5
}
