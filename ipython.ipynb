{
 "cells": [
  {
   "cell_type": "code",
   "execution_count": 15,
   "id": "29f35270-9a77-40ee-bfd6-74104aaa4813",
   "metadata": {},
   "outputs": [],
   "source": [
    "def iterate_run(lines):\n",
    "    # for line in lines:\n",
    "    #     new_lines.append(line)\n",
    "    #     if \"# @modify \" in line:\n",
    "    #         new_lines.append(line)\n",
    "    return lines\n",
    "\n",
    "ip = get_ipython()\n",
    "ip.input_transformers_cleanup.append(iterate_run)"
   ]
  },
  {
   "cell_type": "code",
   "execution_count": 16,
   "id": "178fde18",
   "metadata": {},
   "outputs": [
    {
     "name": "stdout",
     "output_type": "stream",
     "text": [
      "x = 11\n",
      "x = 12\n",
      "x = 13\n",
      "x = 4\n"
     ]
    },
    {
     "data": {
      "text/plain": [
       "['x = 11', 'x = 12', 'x = 13', 'x = 4']"
      ]
     },
     "execution_count": 16,
     "metadata": {},
     "output_type": "execute_result"
    }
   ],
   "source": [
    "import re\n",
    "\n",
    "def trim_whitespace(s):\n",
    "    s = s.lstrip(\" \")\n",
    "    s = s.rstrip(\" \")\n",
    "    return s\n",
    "\n",
    "\n",
    "def create_modified_variable_list(originial_string):\n",
    "    string = originial_string.rstrip(\"\\n\") \n",
    "    string = trim_whitespace(string)\n",
    "\n",
    "    part1, part2 = string.split(\"# @modify\")\n",
    "\n",
    "    part1 = trim_whitespace(part1)\n",
    "    part2 = trim_whitespace(part2)\n",
    "\n",
    "    # in part 1, find everything before the equal sign\n",
    "    match1 = re.search(r'(.+)\\s*=', part1)\n",
    "    if match1:\n",
    "        before_equal1 = match1.group(1)\n",
    "        before_equal1 = trim_whitespace(before_equal1)\n",
    "        # print(before_equal1)\n",
    "\n",
    "    # in part 2, find everything before the equal sign\n",
    "    match2a = re.search(r'(.+)\\s*=', part1)\n",
    "    if match2a:\n",
    "        before_equal2 = match2a.group(1)\n",
    "        before_equal2 = trim_whitespace(before_equal2)\n",
    "        # print(before_equal2)\n",
    "\n",
    "    # in part 2, find everything after the equal sign and in the square brackes\n",
    "    match2b = re.search(r'=\\s*\\[(.+)\\]', string)\n",
    "    if match2b:\n",
    "        inside_brackets = match2b.group(1)\n",
    "        inside_brackets = inside_brackets.split(\",\")\n",
    "        inside_brackets = [trim_whitespace(s) for s in inside_brackets]\n",
    "    else:\n",
    "        print('No match found.')\n",
    "\n",
    "    # check the variable that should be replaced\n",
    "    modified_lines = []\n",
    "    if before_equal1 == before_equal2:\n",
    "        for param in inside_brackets:\n",
    "            print(f\"{before_equal1} = {param}\")\n",
    "            modified_lines.append(f\"{before_equal1} = {param}\")\n",
    "\n",
    "    return modified_lines\n",
    "\n",
    "string = 'x = 10 # @modify x = [11,12 ,13,4] \\n'\n",
    "create_modified_variable_list(string)"
   ]
  },
  {
   "cell_type": "code",
   "execution_count": 17,
   "id": "5fb0a108",
   "metadata": {},
   "outputs": [
    {
     "name": "stdout",
     "output_type": "stream",
     "text": [
      "20\n"
     ]
    }
   ],
   "source": [
    "# 1. Run code\n",
    "code_to_execute = \"\".join(my_lines) \n",
    "exec(code_to_execute)"
   ]
  },
  {
   "cell_type": "code",
   "execution_count": 18,
   "id": "8d67e2fa",
   "metadata": {},
   "outputs": [
    {
     "data": {
      "text/plain": [
       "['x = 10 # @modify x = [11,12,13,14]\\n',\n",
       " 'x = 10 # @modify x = [11,12,13,14]\\n',\n",
       " 'y = x+x\\n',\n",
       " 'print(y)\\n']"
      ]
     },
     "execution_count": 18,
     "metadata": {},
     "output_type": "execute_result"
    }
   ],
   "source": [
    "def iterate_run(lines):\n",
    "    ref_lines = lines.copy()\n",
    "    new_lines= []\n",
    "    for line in lines:\n",
    "        new_lines.append(line)\n",
    "        if \"# @modify \" in line:\n",
    "            new_lines.append(line)\n",
    "    return new_lines\n",
    "iterate_run(my_lines)"
   ]
  },
  {
   "cell_type": "code",
   "execution_count": 19,
   "id": "47396fdc",
   "metadata": {},
   "outputs": [],
   "source": [
    "my_lines = [\n",
    "'x = 10 # @modify x = [11,12,13,14]\\n', \n",
    "'y = x+x\\n', \n",
    "'print(y)\\n'\n",
    "];"
   ]
  },
  {
   "cell_type": "code",
   "execution_count": null,
   "id": "567a05fa",
   "metadata": {},
   "outputs": [],
   "source": []
  }
 ],
 "metadata": {
  "kernelspec": {
   "display_name": "Python 3 (ipykernel)",
   "language": "python",
   "name": "python3"
  },
  "language_info": {
   "codemirror_mode": {
    "name": "ipython",
    "version": 3
   },
   "file_extension": ".py",
   "mimetype": "text/x-python",
   "name": "python",
   "nbconvert_exporter": "python",
   "pygments_lexer": "ipython3",
   "version": "3.11.1"
  }
 },
 "nbformat": 4,
 "nbformat_minor": 5
}
