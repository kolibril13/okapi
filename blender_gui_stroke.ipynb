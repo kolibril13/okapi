{
 "cells": [
  {
   "cell_type": "code",
   "execution_count": 1,
   "id": "f7d09942-1ce9-47c4-8efe-a88e8ba409e9",
   "metadata": {},
   "outputs": [
    {
     "data": {
      "application/vnd.jupyter.widget-view+json": {
       "model_id": "2786fcdca1c649348070779a1d30de1d",
       "version_major": 2,
       "version_minor": 1
      },
      "text/plain": [
       "TldrawWidgetCoordinates()"
      ]
     },
     "execution_count": 1,
     "metadata": {},
     "output_type": "execute_result"
    }
   ],
   "source": [
    "from tldraw import TldrawWidgetCoordinates\n",
    "widget = TldrawWidgetCoordinates()\n",
    "widget"
   ]
  },
  {
   "cell_type": "code",
   "execution_count": 2,
   "id": "dcba4d7d-4b5c-4bf7-b822-a7a420c3dff7",
   "metadata": {},
   "outputs": [
    {
     "data": {
      "application/vnd.jupyter.widget-view+json": {
       "model_id": "e9516ca396d345a193d7bf2a1af88277",
       "version_major": 2,
       "version_minor": 0
      },
      "text/plain": [
       "Output()"
      ]
     },
     "metadata": {},
     "output_type": "display_data"
    }
   ],
   "source": [
    "import bpy\n",
    "import ipywidgets as widgets\n",
    "from IPython.display import display\n",
    "\n",
    "# Function to scale down the coordinates\n",
    "def scale_down_points(points, scale_factor=0.01):\n",
    "    scaled_points = [(x * scale_factor, y * scale_factor) for x, y in points]\n",
    "    return scaled_points\n",
    "\n",
    "# Function to create the curve\n",
    "def create_curve_from_points(points):\n",
    "    # Create a new curve object\n",
    "    curve_data = bpy.data.curves.new(name='Curve', type='CURVE')\n",
    "    curve_data.dimensions = '3D'\n",
    "    curve_data.fill_mode = 'FULL'\n",
    "    \n",
    "    # Create a new spline in that curve\n",
    "    polyline = curve_data.splines.new('POLY')\n",
    "    polyline.points.add(len(points) - 1)\n",
    "    \n",
    "    # Assign points to the spline\n",
    "    for i, coord in enumerate(points):\n",
    "        x, y = coord\n",
    "        polyline.points[i].co = (x, y, 0, 1)  # Z-axis is set to 0, W to 1\n",
    "    \n",
    "    # Create an object with the curve data\n",
    "    curve_obj = bpy.data.objects.new('CurveObject', curve_data)\n",
    "    \n",
    "    # Link the object to the main collection\n",
    "    main_collection = bpy.context.scene.collection\n",
    "    main_collection.objects.link(curve_obj)\n",
    "    \n",
    "    # Apply the Geometry Nodes modifier\n",
    "    modifier = curve_obj.modifiers.new(name=\"GeometryNodes\", type='NODES')\n",
    "    modifier.node_group = bpy.data.node_groups[\"dna_node_setup\"]\n",
    "    \n",
    "    return curve_obj\n",
    "\n",
    "# Widget setup\n",
    "output = widgets.Output()\n",
    "\n",
    "def on_color_change(change):\n",
    "    output.clear_output(wait=True)\n",
    "    with output:\n",
    "        # Extracting and scaling coordinates\n",
    "        coord_data = change['new']  # assuming 'coord' is the observed property\n",
    "        points = [(item['x'], -item['y']) for item in coord_data]\n",
    "        \n",
    "        # Scale down points by 0.01\n",
    "        scaled_points = scale_down_points(points, 0.01)\n",
    "        \n",
    "        # Create the curve in Blender\n",
    "        create_curve_from_points(scaled_points)\n",
    "        \n",
    "        # Display the scaled coordinates for verification\n",
    "        print(\"Scaled Coordinates:\", scaled_points)\n",
    "\n",
    "# Assuming the widget has been instantiated and the observed property is 'coord'\n",
    "widget.observe(on_color_change, names='coord')\n",
    "\n",
    "display(output)"
   ]
  }
 ],
 "metadata": {
  "kernelspec": {
   "display_name": "blender",
   "language": "python",
   "name": "blender"
  },
  "language_info": {
   "codemirror_mode": {
    "name": "ipython",
    "version": 3
   },
   "file_extension": ".py",
   "mimetype": "text/x-python",
   "name": "python",
   "nbconvert_exporter": "python",
   "pygments_lexer": "ipython3",
   "version": "3.11.7"
  }
 },
 "nbformat": 4,
 "nbformat_minor": 5
}
