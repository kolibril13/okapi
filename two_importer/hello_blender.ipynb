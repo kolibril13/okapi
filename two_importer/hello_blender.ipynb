{
 "cells": [
  {
   "cell_type": "code",
   "execution_count": 6,
   "metadata": {},
   "outputs": [
    {
     "name": "stdout",
     "output_type": "stream",
     "text": [
      "register_class(...):\n",
      "Info: Registering operator class: 'TextImport', bl_idname 'curve.text_import' has been registered before, unregistering previous\n",
      "register_class(...):\n",
      "Warning: 'curve.text_import' does not contain '_FH_' with prefix and suffix\n"
     ]
    }
   ],
   "source": [
    "import bpy\n",
    "\n",
    "\n",
    "class TextImport(bpy.types.Operator):\n",
    "    bl_idname = \"curve.text_import\"\n",
    "    bl_label = \"Import a text file\"\n",
    "    filepath: bpy.props.StringProperty(subtype='FILE_PATH', options={'SKIP_SAVE'})\n",
    "\n",
    "    @classmethod\n",
    "    def poll(cls, context):\n",
    "        return context.area\n",
    "\n",
    "    def execute(self, context):\n",
    "        if not self.filepath or not self.filepath.endswith(\".md\"):\n",
    "            return {'CANCELLED'}\n",
    "\n",
    "        with open(self.filepath) as file:\n",
    "            text_curve = bpy.data.curves.new(type=\"FONT\", name=\"Text\")\n",
    "            text_curve.body = ''.join(file.readlines())\n",
    "            text_object = bpy.data.objects.new(name=\"Text\", object_data=text_curve)\n",
    "            bpy.context.scene.collection.objects.link(text_object)\n",
    "        return {'FINISHED'}\n",
    "\n",
    "    def invoke(self, context, event):\n",
    "        if self.filepath:\n",
    "            return self.execute(context)\n",
    "        context.window_manager.fileselect_add(self)\n",
    "        return {'RUNNING_MODAL'}\n",
    "\n",
    "\n",
    "class FH_text_import(bpy.types.FileHandler):\n",
    "    bl_idname = \"curve.text_import\"\n",
    "    bl_label = \"File handler for text object import\"\n",
    "    bl_import_operator = \"curve.text_import\"\n",
    "    bl_file_extensions = \".md\"\n",
    "\n",
    "    @classmethod\n",
    "    def poll_drop(cls, context):\n",
    "        return context.area\n",
    "\n",
    "\n",
    "bpy.utils.register_class(TextImport)\n",
    "bpy.utils.register_class(FH_text_import)\n"
   ]
  },
  {
   "cell_type": "code",
   "execution_count": 7,
   "metadata": {},
   "outputs": [
    {
     "name": "stdout",
     "output_type": "stream",
     "text": [
      "register_class(...):\n",
      "Info: Registering operator class: 'TextImport', bl_idname 'curve.text_import' has been registered before, unregistering previous\n",
      "register_class(...):\n",
      "Warning: 'curve.text_import' does not contain '_FH_' with prefix and suffix\n"
     ]
    }
   ],
   "source": [
    "import bpy\n",
    "\n",
    "\n",
    "class TextImport(bpy.types.Operator):\n",
    "    bl_idname = \"curve.text_import\"\n",
    "    bl_label = \"Import a text file\"\n",
    "    filepath: bpy.props.StringProperty(subtype='FILE_PATH', options={'SKIP_SAVE'})\n",
    "\n",
    "    @classmethod\n",
    "    def poll(cls, context):\n",
    "        return context.area\n",
    "\n",
    "    def execute(self, context):\n",
    "        if not self.filepath or not self.filepath.endswith(\".txt\"):\n",
    "            return {'CANCELLED'}\n",
    "\n",
    "        with open(self.filepath) as file:\n",
    "            text_curve = bpy.data.curves.new(type=\"FONT\", name=\"Text\")\n",
    "            text_curve.body = ''.join(file.readlines())\n",
    "            text_object = bpy.data.objects.new(name=\"Text\", object_data=text_curve)\n",
    "            bpy.context.scene.collection.objects.link(text_object)\n",
    "        return {'FINISHED'}\n",
    "\n",
    "    def invoke(self, context, event):\n",
    "        if self.filepath:\n",
    "            return self.execute(context)\n",
    "        context.window_manager.fileselect_add(self)\n",
    "        return {'RUNNING_MODAL'}\n",
    "\n",
    "\n",
    "class FH_text_import(bpy.types.FileHandler):\n",
    "    bl_idname = \"curve.text_import\"\n",
    "    bl_label = \"File handler for text object import\"\n",
    "    bl_import_operator = \"curve.text_import\"\n",
    "    bl_file_extensions = \".txt\"\n",
    "\n",
    "    @classmethod\n",
    "    def poll_drop(cls, context):\n",
    "        return context.area\n",
    "\n",
    "\n",
    "bpy.utils.register_class(TextImport)\n",
    "bpy.utils.register_class(FH_text_import)\n"
   ]
  },
  {
   "cell_type": "code",
   "execution_count": 1,
   "metadata": {},
   "outputs": [],
   "source": [
    "import bpy"
   ]
  },
  {
   "cell_type": "code",
   "execution_count": null,
   "metadata": {},
   "outputs": [],
   "source": []
  }
 ],
 "metadata": {
  "kernelspec": {
   "display_name": "Python 3 (ipykernel)",
   "language": "python",
   "name": "python3"
  },
  "language_info": {
   "codemirror_mode": {
    "name": "ipython",
    "version": 3
   },
   "file_extension": ".py",
   "mimetype": "text/x-python",
   "name": "python",
   "nbconvert_exporter": "python",
   "pygments_lexer": "ipython3",
   "version": "3.11.9"
  }
 },
 "nbformat": 4,
 "nbformat_minor": 2
}
