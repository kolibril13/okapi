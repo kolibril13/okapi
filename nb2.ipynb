{
 "cells": [
  {
   "cell_type": "code",
   "execution_count": 8,
   "id": "4295b4c3",
   "metadata": {},
   "outputs": [
    {
     "data": {
      "application/vnd.jupyter.widget-view+json": {
       "model_id": "b4fc8cc7f469412092ef853788e43186",
       "version_major": 2,
       "version_minor": 0
      },
      "text/plain": [
       "CounterWidget()"
      ]
     },
     "execution_count": 8,
     "metadata": {},
     "output_type": "execute_result"
    }
   ],
   "source": [
    "import anywidget\n",
    "from traitlets import Int, observe\n",
    "\n",
    "class CounterWidget(anywidget.AnyWidget):\n",
    "    _esm = \"\"\"\n",
    "    export function render({ model, el }) {\n",
    "      let button = document.createElement(\"button\");\n",
    "      button.innerHTML = `count is ${model.get(\"value\")}`;\n",
    "      button.addEventListener(\"click\", () => {\n",
    "        model.set(\"value\", model.get(\"value\") + 1);\n",
    "        model.save_changes();\n",
    "      });\n",
    "      model.on(\"change:value\", () => {\n",
    "        button.innerHTML = `count is ${model.get(\"value\")}`;\n",
    "      });\n",
    "      el.appendChild(button);\n",
    "    }\n",
    "    \"\"\"\n",
    "\n",
    "    value = Int(0).tag(sync=True)\n",
    "\n",
    "    @observe(\"value\")\n",
    "    def _observe_count(self, change):\n",
    "        text = f\"'Hello world, count is {change.new}' And here's the image ![cute_dog.jpg](attachment:cute_dog.jpg)\"\n",
    "        from ipylab import JupyterFrontEnd\n",
    "        app = JupyterFrontEnd()\n",
    "        # see all commands here for reference https://github.com/jupyterlab/jupyterlab/blob/main/galata/test/documentation/commands.test.ts-snapshots/commandsList-documentation-linux.json#L992\n",
    "        app.commands.execute('notebook:insert-cell-below')\n",
    "        app.commands.execute('notebook:replace-selection', { 'text': text})\n",
    "        app.commands.execute('notebook:change-cell-to-markdown')\n",
    "        app.commands.execute('notebook:render-all-markdown')\n",
    "\n",
    "CounterWidget()\n",
    "\n",
    "\n",
    "attachments"
   ]
  },
  {
   "cell_type": "markdown",
   "id": "893f84fb-96c3-4707-ad4f-33dca2af75ba",
   "metadata": {},
   "source": [
    "'Hello world, count is 4' And here's the image ![cute_dog.jpg](attachment:cute_dog.jpg)"
   ]
  },
  {
   "cell_type": "markdown",
   "id": "632918cd-de0f-4f35-a968-ee07bad2070e",
   "metadata": {},
   "source": [
    "'Hello world, count is 3' And here's the image ![cute_dog.jpg](attachment:cute_dog.jpg)"
   ]
  },
  {
   "cell_type": "markdown",
   "id": "2872bafc-d590-4523-b9c4-ebde6ecf145d",
   "metadata": {},
   "source": [
    "'Hello world, count is 2' And here's the image ![cute_dog.jpg](attachment:cute_dog.jpg)"
   ]
  },
  {
   "cell_type": "markdown",
   "id": "1e765532-0497-43b7-8916-ccb79f023400",
   "metadata": {},
   "source": [
    "'Hello world, count is 1' And here's the image ![cute_dog.jpg](attachment:cute_dog.jpg)"
   ]
  }
 ],
 "metadata": {
  "kernelspec": {
   "display_name": "Python 3 (ipykernel)",
   "language": "python",
   "name": "python3"
  },
  "language_info": {
   "codemirror_mode": {
    "name": "ipython",
    "version": 3
   },
   "file_extension": ".py",
   "mimetype": "text/x-python",
   "name": "python",
   "nbconvert_exporter": "python",
   "pygments_lexer": "ipython3",
   "version": "3.11.7"
  }
 },
 "nbformat": 4,
 "nbformat_minor": 5
}
