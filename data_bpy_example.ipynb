{
 "cells": [
  {
   "cell_type": "code",
   "execution_count": 12,
   "metadata": {
    "vscode": {
     "languageId": "plaintext"
    }
   },
   "outputs": [
    {
     "ename": "TypeError",
     "evalue": "must be real number, not str",
     "output_type": "error",
     "traceback": [
      "\u001b[0;31m---------------------------------------------------------------------------\u001b[0m",
      "\u001b[0;31mTypeError\u001b[0m                                 Traceback (most recent call last)",
      "\u001b[0;31mTypeError\u001b[0m: must be real number, not str"
     ]
    },
    {
     "ename": "TypeError",
     "evalue": "couldn't access the py sequence",
     "output_type": "error",
     "traceback": [
      "\u001b[0;31m---------------------------------------------------------------------------\u001b[0m",
      "\u001b[0;31mTypeError\u001b[0m                                 Traceback (most recent call last)",
      "Cell \u001b[0;32mIn[12], line 46\u001b[0m\n\u001b[1;32m     44\u001b[0m     \u001b[38;5;28;01mif\u001b[39;00m df[col]\u001b[38;5;241m.\u001b[39mdtype \u001b[38;5;241m==\u001b[39m pl\u001b[38;5;241m.\u001b[39mList:\n\u001b[1;32m     45\u001b[0m         data \u001b[38;5;241m=\u001b[39m np\u001b[38;5;241m.\u001b[39mvstack(data)\n\u001b[0;32m---> 46\u001b[0m     \u001b[43mbob\u001b[49m\u001b[38;5;241;43m.\u001b[39;49m\u001b[43mstore_named_attribute\u001b[49m\u001b[43m(\u001b[49m\u001b[43mdata\u001b[49m\u001b[43m,\u001b[49m\u001b[43m \u001b[49m\u001b[43mcol\u001b[49m\u001b[43m)\u001b[49m\n\u001b[1;32m     48\u001b[0m \u001b[38;5;66;03m# Check one of the named attributes\u001b[39;00m\n\u001b[1;32m     49\u001b[0m bob\u001b[38;5;241m.\u001b[39mnamed_attribute(\u001b[38;5;124m\"\u001b[39m\u001b[38;5;124mDino\u001b[39m\u001b[38;5;124m\"\u001b[39m)\n",
      "File \u001b[0;32m/Applications/Blender.app/Contents/Resources/4.3/python/lib/python3.11/site-packages/databpy/object.py:305\u001b[0m, in \u001b[0;36mBlenderObject.store_named_attribute\u001b[0;34m(self, data, name, atype, domain)\u001b[0m\n\u001b[1;32m    284\u001b[0m \u001b[38;5;250m\u001b[39m\u001b[38;5;124;03m\"\"\"\u001b[39;00m\n\u001b[1;32m    285\u001b[0m \u001b[38;5;124;03mStore a named attribute on the Blender object.\u001b[39;00m\n\u001b[1;32m    286\u001b[0m \n\u001b[0;32m   (...)\u001b[0m\n\u001b[1;32m    302\u001b[0m \u001b[38;5;124;03mself\u001b[39;00m\n\u001b[1;32m    303\u001b[0m \u001b[38;5;124;03m\"\"\"\u001b[39;00m\n\u001b[1;32m    304\u001b[0m \u001b[38;5;28mself\u001b[39m\u001b[38;5;241m.\u001b[39m_check_obj()\n\u001b[0;32m--> 305\u001b[0m \u001b[43mattr\u001b[49m\u001b[38;5;241;43m.\u001b[39;49m\u001b[43mstore_named_attribute\u001b[49m\u001b[43m(\u001b[49m\n\u001b[1;32m    306\u001b[0m \u001b[43m    \u001b[49m\u001b[38;5;28;43mself\u001b[39;49m\u001b[38;5;241;43m.\u001b[39;49m\u001b[43mobject\u001b[49m\u001b[43m,\u001b[49m\u001b[43m \u001b[49m\u001b[43mdata\u001b[49m\u001b[38;5;241;43m=\u001b[39;49m\u001b[43mdata\u001b[49m\u001b[43m,\u001b[49m\u001b[43m \u001b[49m\u001b[43mname\u001b[49m\u001b[38;5;241;43m=\u001b[39;49m\u001b[43mname\u001b[49m\u001b[43m,\u001b[49m\u001b[43m \u001b[49m\u001b[43matype\u001b[49m\u001b[38;5;241;43m=\u001b[39;49m\u001b[43matype\u001b[49m\u001b[43m,\u001b[49m\u001b[43m \u001b[49m\u001b[43mdomain\u001b[49m\u001b[38;5;241;43m=\u001b[39;49m\u001b[43mdomain\u001b[49m\n\u001b[1;32m    307\u001b[0m \u001b[43m\u001b[49m\u001b[43m)\u001b[49m\n\u001b[1;32m    308\u001b[0m \u001b[38;5;28;01mreturn\u001b[39;00m \u001b[38;5;28mself\u001b[39m\n",
      "File \u001b[0;32m/Applications/Blender.app/Contents/Resources/4.3/python/lib/python3.11/site-packages/databpy/attribute.py:278\u001b[0m, in \u001b[0;36mstore_named_attribute\u001b[0;34m(obj, data, name, atype, domain, overwrite)\u001b[0m\n\u001b[1;32m    272\u001b[0m     \u001b[38;5;28;01mraise\u001b[39;00m AttributeMismatchError(\n\u001b[1;32m    273\u001b[0m         \u001b[38;5;124mf\u001b[39m\u001b[38;5;124m\"\u001b[39m\u001b[38;5;124mData length \u001b[39m\u001b[38;5;132;01m{\u001b[39;00m\u001b[38;5;28mlen\u001b[39m(data)\u001b[38;5;132;01m}\u001b[39;00m\u001b[38;5;124m, dimensions \u001b[39m\u001b[38;5;132;01m{\u001b[39;00mdata\u001b[38;5;241m.\u001b[39mshape\u001b[38;5;132;01m}\u001b[39;00m\u001b[38;5;124m does not equal the size of the target domain \u001b[39m\u001b[38;5;132;01m{\u001b[39;00mdomain\u001b[38;5;132;01m}\u001b[39;00m\u001b[38;5;124m, len=\u001b[39m\u001b[38;5;132;01m{\u001b[39;00m\u001b[38;5;28mlen\u001b[39m(attribute\u001b[38;5;241m.\u001b[39mdata)\u001b[38;5;132;01m=}\u001b[39;00m\u001b[38;5;124m\"\u001b[39m\n\u001b[1;32m    274\u001b[0m     )\n\u001b[1;32m    276\u001b[0m \u001b[38;5;66;03m# the 'foreach_set' requires a 1D array, regardless of the shape of the attribute\u001b[39;00m\n\u001b[1;32m    277\u001b[0m \u001b[38;5;66;03m# so we have to flatten it first\u001b[39;00m\n\u001b[0;32m--> 278\u001b[0m \u001b[43mattribute\u001b[49m\u001b[38;5;241;43m.\u001b[39;49m\u001b[43mdata\u001b[49m\u001b[38;5;241;43m.\u001b[39;49m\u001b[43mforeach_set\u001b[49m\u001b[43m(\u001b[49m\u001b[43matype\u001b[49m\u001b[38;5;241;43m.\u001b[39;49m\u001b[43mvalue\u001b[49m\u001b[38;5;241;43m.\u001b[39;49m\u001b[43mvalue_name\u001b[49m\u001b[43m,\u001b[49m\u001b[43m \u001b[49m\u001b[43mdata\u001b[49m\u001b[38;5;241;43m.\u001b[39;49m\u001b[43mreshape\u001b[49m\u001b[43m(\u001b[49m\u001b[38;5;241;43m-\u001b[39;49m\u001b[38;5;241;43m1\u001b[39;49m\u001b[43m)\u001b[49m\u001b[43m)\u001b[49m\n\u001b[1;32m    280\u001b[0m \u001b[38;5;66;03m# attribute bug is fixed in 4.3+\u001b[39;00m\n\u001b[1;32m    281\u001b[0m \u001b[38;5;28;01mif\u001b[39;00m bpy\u001b[38;5;241m.\u001b[39mapp\u001b[38;5;241m.\u001b[39mversion_string\u001b[38;5;241m.\u001b[39mstartswith(\u001b[38;5;124m\"\u001b[39m\u001b[38;5;124m4.2\u001b[39m\u001b[38;5;124m\"\u001b[39m):\n\u001b[1;32m    282\u001b[0m     \u001b[38;5;66;03m# TODO remove in later updates\u001b[39;00m\n\u001b[1;32m    283\u001b[0m     \u001b[38;5;66;03m# The updating of data doesn't work 100% of the time (see:\u001b[39;00m\n\u001b[0;32m   (...)\u001b[0m\n\u001b[1;32m    287\u001b[0m     \u001b[38;5;66;03m# is the case For now we will set a single vert to it's own position, which triggers a\u001b[39;00m\n\u001b[1;32m    288\u001b[0m     \u001b[38;5;66;03m# proper refresh of the object data.\u001b[39;00m\n",
      "\u001b[0;31mTypeError\u001b[0m: couldn't access the py sequence"
     ]
    }
   ],
   "source": [
    "import polars as pl\n",
    "import databpy as db\n",
    "import numpy as np\n",
    "from io import StringIO\n",
    "\n",
    "# Updated JSON data\n",
    "json_file = StringIO(\"\"\"\n",
    "{\n",
    "  \"Dino\": [\n",
    "    [55.3846, 97.1795, 0.0],\n",
    "    [51.5385, 96.0256, 0.0]\n",
    "  ],\n",
    "  \"Star\": [\n",
    "    [58.2136, 91.8819, 0.0],\n",
    "    [58.1961, 92.215, 0.0]\n",
    "  ],\n",
    "  \"Is_Visible\": [\n",
    "    [true],\n",
    "    [false]\n",
    "  ],\n",
    "  \"Intensity\": [\n",
    "    [10],\n",
    "    [20]\n",
    "  ],\n",
    "  \"Category\": [\n",
    "    [\"A\"],\n",
    "    [\"B\"]\n",
    "  ]\n",
    "}\n",
    "\"\"\")\n",
    "\n",
    "# Load data into Polars DataFrame\n",
    "df = pl.read_json(json_file)\n",
    "columns_to_explode = [col for col in df.columns if df[col].dtype == pl.List(pl.List)]\n",
    "df = df.explode(columns_to_explode)\n",
    "\n",
    "# Create Bob object\n",
    "vertices = np.zeros((len(df), 3), dtype=np.float32)\n",
    "bob = db.create_bob(vertices, name=\"DinoStar\")\n",
    "\n",
    "# Store named attributes\n",
    "for col in df.columns:\n",
    "    data = df[col].to_numpy()\n",
    "    if df[col].dtype == pl.List:\n",
    "        data = np.vstack(data)\n",
    "    bob.store_named_attribute(data, col)\n",
    "\n",
    "# Check one of the named attributes\n",
    "bob.named_attribute(\"Dino\")"
   ]
  },
  {
   "cell_type": "code",
   "execution_count": null,
   "metadata": {},
   "outputs": [],
   "source": []
  }
 ],
 "metadata": {
  "kernelspec": {
   "display_name": "blender",
   "language": "python",
   "name": "blender"
  },
  "language_info": {
   "codemirror_mode": {
    "name": "ipython",
    "version": 3
   },
   "file_extension": ".py",
   "mimetype": "text/x-python",
   "name": "python",
   "nbconvert_exporter": "python",
   "pygments_lexer": "ipython3",
   "version": "3.11.9"
  }
 },
 "nbformat": 4,
 "nbformat_minor": 4
}
