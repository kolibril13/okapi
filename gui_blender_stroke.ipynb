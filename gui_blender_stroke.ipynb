{
 "cells": [
  {
   "cell_type": "code",
   "execution_count": 1,
   "id": "611c316c-1ece-45d6-9e23-8fadcade6b58",
   "metadata": {},
   "outputs": [
    {
     "data": {
      "application/vnd.jupyter.widget-view+json": {
       "model_id": "523a10532b694f9481d93845376b2a41",
       "version_major": 2,
       "version_minor": 1
      },
      "text/plain": [
       "TldrawWidgetCoordinates()"
      ]
     },
     "execution_count": 1,
     "metadata": {},
     "output_type": "execute_result"
    }
   ],
   "source": [
    "from tldraw import TldrawWidgetCoordinates\n",
    "widget = TldrawWidgetCoordinates()\n",
    "widget"
   ]
  },
  {
   "cell_type": "code",
   "execution_count": 2,
   "id": "781cf88e-47fe-4a4c-9478-9ce130d45531",
   "metadata": {},
   "outputs": [
    {
     "data": {
      "application/vnd.jupyter.widget-view+json": {
       "model_id": "2b70e6a0d9da4c6dab54cb141fc9dbc7",
       "version_major": 2,
       "version_minor": 0
      },
      "text/plain": [
       "Output()"
      ]
     },
     "metadata": {},
     "output_type": "display_data"
    }
   ],
   "source": [
    "import ipywidgets as widgets\n",
    "from IPython.display import display\n",
    "output = widgets.Output()\n",
    "def on_color_change(change):\n",
    "    output.clear_output(wait=True)\n",
    "    with output:\n",
    "        print(widget.coord)\n",
    "\n",
    "widget.observe(on_color_change, names='coord')\n",
    "display(output)"
   ]
  },
  {
   "cell_type": "code",
   "execution_count": null,
   "id": "3d84f3f6",
   "metadata": {},
   "outputs": [],
   "source": []
  }
 ],
 "metadata": {
  "kernelspec": {
   "display_name": ".venv",
   "language": "python",
   "name": "python3"
  },
  "language_info": {
   "codemirror_mode": {
    "name": "ipython",
    "version": 3
   },
   "file_extension": ".py",
   "mimetype": "text/x-python",
   "name": "python",
   "nbconvert_exporter": "python",
   "pygments_lexer": "ipython3",
   "version": "3.11.9"
  },
  "widgets": {
   "application/vnd.jupyter.widget-state+json": {
    "state": {
     "17e469f8deec4f518b3188d1c7427da9": {
      "model_module": "@jupyter-widgets/base",
      "model_module_version": "2.0.0",
      "model_name": "LayoutModel",
      "state": {}
     },
     "593d17f22c3a416cbcf36eac107546b4": {
      "model_module": "@jupyter-widgets/controls",
      "model_module_version": "2.0.0",
      "model_name": "SliderStyleModel",
      "state": {
       "description_width": ""
      }
     },
     "71f2b0ed08d44eb6bcb0572cf6ec32bc": {
      "model_module": "@jupyter-widgets/base",
      "model_module_version": "2.0.0",
      "model_name": "LayoutModel",
      "state": {}
     },
     "92dba664eed04bf7a9de809dc975a457": {
      "model_module": "@jupyter-widgets/controls",
      "model_module_version": "2.0.0",
      "model_name": "FloatSliderModel",
      "state": {
       "behavior": "drag-tap",
       "description": "Rotation:",
       "layout": "IPY_MODEL_71f2b0ed08d44eb6bcb0572cf6ec32bc",
       "max": 1,
       "step": 0.01,
       "style": "IPY_MODEL_593d17f22c3a416cbcf36eac107546b4"
      }
     },
     "b36f599fc9f7400ab4ea69781b13a3a0": {
      "model_module": "@jupyter-widgets/controls",
      "model_module_version": "2.0.0",
      "model_name": "FloatSliderModel",
      "state": {
       "behavior": "drag-tap",
       "description": "Rotation:",
       "layout": "IPY_MODEL_17e469f8deec4f518b3188d1c7427da9",
       "max": 1,
       "step": 0.01,
       "style": "IPY_MODEL_bd92665dbcef4f1d9c79d7ca59747d78",
       "value": 1
      }
     },
     "bd92665dbcef4f1d9c79d7ca59747d78": {
      "model_module": "@jupyter-widgets/controls",
      "model_module_version": "2.0.0",
      "model_name": "SliderStyleModel",
      "state": {
       "description_width": ""
      }
     }
    },
    "version_major": 2,
    "version_minor": 0
   }
  }
 },
 "nbformat": 4,
 "nbformat_minor": 5
}
