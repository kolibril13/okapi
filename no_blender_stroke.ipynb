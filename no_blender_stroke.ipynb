{
 "cells": [
  {
   "cell_type": "code",
   "execution_count": 2,
   "id": "b5be317d-67d5-4459-a54c-6294e2d4f8b3",
   "metadata": {},
   "outputs": [
    {
     "data": {
      "application/vnd.jupyter.widget-view+json": {
       "model_id": "b28e1c39e3e744198d03ca8021de7009",
       "version_major": 2,
       "version_minor": 1
      },
      "text/plain": [
       "TldrawWidgetCoordinates()"
      ]
     },
     "execution_count": 2,
     "metadata": {},
     "output_type": "execute_result"
    }
   ],
   "source": [
    "from tldraw import TldrawWidgetCoordinates\n",
    "widget = TldrawWidgetCoordinates()\n",
    "widget"
   ]
  },
  {
   "cell_type": "code",
   "execution_count": 3,
   "id": "f0071e78-3e17-4b92-8066-31f940436a24",
   "metadata": {},
   "outputs": [
    {
     "data": {
      "application/vnd.jupyter.widget-view+json": {
       "model_id": "c7dad0c02fa04145a5defde3179d39aa",
       "version_major": 2,
       "version_minor": 0
      },
      "text/plain": [
       "Output()"
      ]
     },
     "metadata": {},
     "output_type": "display_data"
    }
   ],
   "source": [
    "import ipywidgets as widgets\n",
    "from IPython.display import display\n",
    "output = widgets.Output()\n",
    "def on_color_change(change):\n",
    "    output.clear_output(wait=True)\n",
    "    with output:\n",
    "        print(widget.coord)\n",
    "\n",
    "widget.observe(on_color_change, names='coord')\n",
    "display(output)"
   ]
  },
  {
   "cell_type": "code",
   "execution_count": null,
   "id": "ee764f48-0e1a-4296-9e0d-491be25dbcd4",
   "metadata": {},
   "outputs": [],
   "source": []
  }
 ],
 "metadata": {
  "kernelspec": {
   "display_name": "Python 3 (ipykernel)",
   "language": "python",
   "name": "python3"
  },
  "language_info": {
   "codemirror_mode": {
    "name": "ipython",
    "version": 3
   },
   "file_extension": ".py",
   "mimetype": "text/x-python",
   "name": "python",
   "nbconvert_exporter": "python",
   "pygments_lexer": "ipython3",
   "version": "3.11.9"
  }
 },
 "nbformat": 4,
 "nbformat_minor": 5
}
