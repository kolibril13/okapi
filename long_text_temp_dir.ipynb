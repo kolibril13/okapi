{
 "cells": [
  {
   "cell_type": "code",
   "execution_count": 6,
   "metadata": {},
   "outputs": [
    {
     "ename": "ModuleNotFoundError",
     "evalue": "No module named 'bpy'",
     "output_type": "error",
     "traceback": [
      "\u001b[0;31m---------------------------------------------------------------------------\u001b[0m",
      "\u001b[0;31mModuleNotFoundError\u001b[0m                       Traceback (most recent call last)",
      "Cell \u001b[0;32mIn[6], line 4\u001b[0m\n\u001b[1;32m      2\u001b[0m \u001b[38;5;28;01mimport\u001b[39;00m\u001b[38;5;250m \u001b[39m\u001b[38;5;21;01mtypst\u001b[39;00m\n\u001b[1;32m      3\u001b[0m \u001b[38;5;28;01mimport\u001b[39;00m\u001b[38;5;250m \u001b[39m\u001b[38;5;21;01mtempfile\u001b[39;00m\n\u001b[0;32m----> 4\u001b[0m \u001b[38;5;28;01mimport\u001b[39;00m\u001b[38;5;250m \u001b[39m\u001b[38;5;21;01mbpy\u001b[39;00m\n\u001b[1;32m      6\u001b[0m temp_dir \u001b[38;5;241m=\u001b[39m Path(tempfile\u001b[38;5;241m.\u001b[39mgettempdir())\n\u001b[1;32m      7\u001b[0m typst_file \u001b[38;5;241m=\u001b[39m temp_dir \u001b[38;5;241m/\u001b[39m \u001b[38;5;124m\"\u001b[39m\u001b[38;5;124mhello.typ\u001b[39m\u001b[38;5;124m\"\u001b[39m\n",
      "\u001b[0;31mModuleNotFoundError\u001b[0m: No module named 'bpy'"
     ]
    }
   ],
   "source": [
    "from pathlib import Path\n",
    "import typst\n",
    "import tempfile\n",
    "import bpy\n",
    "\n",
    "temp_dir = Path(tempfile.gettempdir())\n",
    "typst_file = temp_dir / \"hello.typ\"\n",
    "svg_file = temp_dir / \"hello.svg\"\n",
    "\n",
    "file_content = \"\"\"\n",
    "#import \"@preview/unequivocal-ams:0.1.2\": ams-article, theorem, proof\n",
    "\n",
    "\n",
    "\n",
    "Call me Ishmael. Some years ago --- never mind how long precisely ---\n",
    "having little or no money in my purse, and nothing particular to\n",
    "interest me on shore, I thought I would sail about a little and see\n",
    "the watery part of the world. It is a way I have of driving off the\n",
    "spleen, and regulating the circulation.  Whenever I find myself\n",
    "growing grim about the mouth; whenever it is a damp, drizzly November\n",
    "in my soul; whenever I find myself involuntarily pausing before coffin\n",
    "warehouses, and bringing up the rear of every funeral I meet; and\n",
    "especially whenever my hypos get such an upper hand of me, that it\n",
    "requires a strong moral principle to prevent me from deliberately\n",
    "stepping into the street, and methodically knocking people's hats off\n",
    "--- then, I account it high time to get to sea as soon as I can. This\n",
    "is my substitute for pistol and ball. With a philosophical flourish\n",
    "Cato throws himself upon his sword; I quietly take to the ship. There\n",
    "is nothing surprising in this. If they but knew it, almost all men in\n",
    "their degree, some time or other, cherish very nearly the same\n",
    "feelings towards the ocean with me. \n",
    "\n",
    "There now is your insular city of the Manhattoes, belted round by\n",
    "wharves as Indian isles by coral reefs - commerce surrounds it with\n",
    "her surf. Right and left, the streets take you waterward. Its extreme\n",
    "down-town is the battery, where that noble mole is washed by waves,\n",
    "and cooled by breezes, which a few hours previous were out of sight of\n",
    "land. Look at the crowds of water-gazers there.\n",
    "\n",
    "Anyone caught using formulas such as $sqrt(x+y)=sqrt(x)+sqrt(y)$\n",
    "or $1/(x+y) = 1/x + 1/y$ will fail.\n",
    "\n",
    "The binomial theorem is\n",
    "$ (x+y)^n=sum_(k=0)^n binom(n, k) x^k y^(n-k). $\n",
    "\n",
    "A favorite sum of most mathematicians is\n",
    "$ sum_(n=1)^oo 1/n^2 = pi^2 / 6. $\n",
    "\n",
    "\"\"\"\n",
    "typst_file.write_text(file_content)\n",
    "typst.compile(typst_file, format=\"svg\", output=str(svg_file))\n",
    "\n",
    "bpy.ops.import_curve.svg(filepath=str(svg_file))\n",
    "col = bpy.context.scene.collection.children['hello.svg']\n",
    "col.name = \"Formula\"\n"
   ]
  },
  {
   "cell_type": "code",
   "execution_count": null,
   "metadata": {},
   "outputs": [],
   "source": []
  }
 ],
 "metadata": {
  "kernelspec": {
   "display_name": ".venv",
   "language": "python",
   "name": "python3"
  },
  "language_info": {
   "codemirror_mode": {
    "name": "ipython",
    "version": 3
   },
   "file_extension": ".py",
   "mimetype": "text/x-python",
   "name": "python",
   "nbconvert_exporter": "python",
   "pygments_lexer": "ipython3",
   "version": "3.12.6"
  }
 },
 "nbformat": 4,
 "nbformat_minor": 2
}
