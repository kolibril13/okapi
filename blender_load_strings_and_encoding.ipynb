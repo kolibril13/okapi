{
 "cells": [
  {
   "cell_type": "code",
   "execution_count": 10,
   "metadata": {},
   "outputs": [
    {
     "name": "stdout",
     "output_type": "stream",
     "text": [
      "Stored [2 6] as l0\n",
      "Stored [1 4] as l1\n",
      "Stored [3 5] as l2\n",
      "Stored [3 3] as l3\n",
      "Stored [4 0] as l4\n"
     ]
    }
   ],
   "source": [
    "import databpy as db\n",
    "import numpy as np\n",
    "\n",
    "translation_dict = ['d', 'e', 'h', 'l', 'o', 'r', 'w']\n",
    "array = np.array([\n",
    "    np.array([2, 1, 3, 3, 4]), \n",
    "    np.array([6, 4, 5, 3, 0])\n",
    "])\n",
    "\n",
    "# Create Bob object\n",
    "vertices = np.zeros((2, 3), dtype=np.float32)\n",
    "bob = db.create_bob(vertices, name=\"MyObject\")\n",
    "\n",
    "# Store named attributes using entire rows\n",
    "for i, row in enumerate(array.T):  # Transpose the array to iterate over columns\n",
    "    bob.store_named_attribute(row, f\"l{i}\")\n",
    "    print(f\"Stored {row} as l{i}\")"
   ]
  },
  {
   "cell_type": "code",
   "execution_count": 12,
   "metadata": {},
   "outputs": [
    {
     "name": "stdout",
     "output_type": "stream",
     "text": [
      "WARN (bke.modifier): source/blender/blenkernel/intern/modifier.cc:424 BKE_modifier_set_error: Object: \"MyObject.001\", Modifier: \"GeometryNodes\", Node group must have a group output node\n",
      "WARN (bke.modifier): source/blender/blenkernel/intern/modifier.cc:424 BKE_modifier_set_error: Object: \"MyObject.001\", Modifier: \"GeometryNodes.001\", Node group must have a group output node\n"
     ]
    }
   ],
   "source": [
    "import bpy\n",
    "\n",
    "cube = bob.object\n",
    "\n",
    "\n",
    "# Setup geometry nodes\n",
    "geo_nodes = cube.modifiers.new(name=\"GeometryNodes\", type=\"NODES\")\n",
    "node_group = bpy.data.node_groups.new(\"GeometryNodes\", \"GeometryNodeTree\")\n",
    "geo_nodes.node_group = node_group\n",
    "\n",
    "# Create input/output and transformation nodes\n",
    "inNode = node_group.nodes.new(\"NodeGroupInput\")\n",
    "inNode.location = (0, 0)\n",
    "\n",
    "transformNode = node_group.nodes.new(\"GeometryNodeTransform\")\n",
    "transformNode.location = (300, 0)\n",
    "\n",
    "outNode = node_group.nodes.new(\"NodeGroupOutput\")\n",
    "outNode.location = (600, 0)\n",
    "\n",
    "# # Define geometry input/output sockets\n",
    "# node_group.interface.new_socket(name=\"Geometry\", in_out=\"INPUT\", socket_type=\"NodeSocketGeometry\")\n",
    "# node_group.interface.new_socket(name=\"Geometry\", in_out=\"OUTPUT\", socket_type=\"NodeSocketGeometry\")\n",
    "\n",
    "# # Link the nodes together\n",
    "# node_group.links.new(inNode.outputs[\"Geometry\"], transformNode.inputs[\"Geometry\"])\n",
    "# node_group.links.new(transformNode.outputs[\"Geometry\"], outNode.inputs[\"Geometry\"])\n",
    "\n"
   ]
  },
  {
   "cell_type": "code",
   "execution_count": null,
   "metadata": {},
   "outputs": [],
   "source": []
  }
 ],
 "metadata": {
  "kernelspec": {
   "display_name": "blender",
   "language": "python",
   "name": "blender"
  },
  "language_info": {
   "codemirror_mode": {
    "name": "ipython",
    "version": 3
   },
   "file_extension": ".py",
   "mimetype": "text/x-python",
   "name": "python",
   "nbconvert_exporter": "python",
   "pygments_lexer": "ipython3",
   "version": "3.11.9"
  }
 },
 "nbformat": 4,
 "nbformat_minor": 2
}
