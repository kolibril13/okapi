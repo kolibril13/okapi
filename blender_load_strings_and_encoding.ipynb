{
 "cells": [
  {
   "cell_type": "code",
   "execution_count": null,
   "metadata": {},
   "outputs": [],
   "source": []
  },
  {
   "cell_type": "code",
   "execution_count": 12,
   "metadata": {},
   "outputs": [
    {
     "data": {
      "text/plain": [
       "array([[2, 1, 3, 3, 4],\n",
       "       [6, 4, 5, 3, 0]])"
      ]
     },
     "execution_count": 12,
     "metadata": {},
     "output_type": "execute_result"
    }
   ],
   "source": []
  },
  {
   "cell_type": "code",
   "execution_count": 19,
   "metadata": {},
   "outputs": [
    {
     "ename": "AttributeMismatchError",
     "evalue": "Data length 5, dimensions (5,) does not equal the size of the target domain POINT, len=len(attribute.data)=2",
     "output_type": "error",
     "traceback": [
      "\u001b[0;31m---------------------------------------------------------------------------\u001b[0m",
      "\u001b[0;31mAttributeMismatchError\u001b[0m                    Traceback (most recent call last)",
      "Cell \u001b[0;32mIn[19], line 15\u001b[0m\n\u001b[1;32m     13\u001b[0m \u001b[38;5;66;03m# Store named attributes\u001b[39;00m\n\u001b[1;32m     14\u001b[0m \u001b[38;5;28;01mfor\u001b[39;00m col \u001b[38;5;129;01min\u001b[39;00m array:\n\u001b[0;32m---> 15\u001b[0m     \u001b[43mbob\u001b[49m\u001b[38;5;241;43m.\u001b[39;49m\u001b[43mstore_named_attribute\u001b[49m\u001b[43m(\u001b[49m\u001b[43mcol\u001b[49m\u001b[43m,\u001b[49m\u001b[43m \u001b[49m\u001b[38;5;124;43m\"\u001b[39;49m\u001b[38;5;124;43mhi\u001b[39;49m\u001b[38;5;124;43m\"\u001b[39;49m\u001b[43m)\u001b[49m\n",
      "File \u001b[0;32m/Applications/Blender.app/Contents/Resources/4.3/python/lib/python3.11/site-packages/databpy/object.py:305\u001b[0m, in \u001b[0;36mBlenderObject.store_named_attribute\u001b[0;34m(self, data, name, atype, domain)\u001b[0m\n\u001b[1;32m    284\u001b[0m \u001b[38;5;250m\u001b[39m\u001b[38;5;124;03m\"\"\"\u001b[39;00m\n\u001b[1;32m    285\u001b[0m \u001b[38;5;124;03mStore a named attribute on the Blender object.\u001b[39;00m\n\u001b[1;32m    286\u001b[0m \n\u001b[0;32m   (...)\u001b[0m\n\u001b[1;32m    302\u001b[0m \u001b[38;5;124;03mself\u001b[39;00m\n\u001b[1;32m    303\u001b[0m \u001b[38;5;124;03m\"\"\"\u001b[39;00m\n\u001b[1;32m    304\u001b[0m \u001b[38;5;28mself\u001b[39m\u001b[38;5;241m.\u001b[39m_check_obj()\n\u001b[0;32m--> 305\u001b[0m \u001b[43mattr\u001b[49m\u001b[38;5;241;43m.\u001b[39;49m\u001b[43mstore_named_attribute\u001b[49m\u001b[43m(\u001b[49m\n\u001b[1;32m    306\u001b[0m \u001b[43m    \u001b[49m\u001b[38;5;28;43mself\u001b[39;49m\u001b[38;5;241;43m.\u001b[39;49m\u001b[43mobject\u001b[49m\u001b[43m,\u001b[49m\u001b[43m \u001b[49m\u001b[43mdata\u001b[49m\u001b[38;5;241;43m=\u001b[39;49m\u001b[43mdata\u001b[49m\u001b[43m,\u001b[49m\u001b[43m \u001b[49m\u001b[43mname\u001b[49m\u001b[38;5;241;43m=\u001b[39;49m\u001b[43mname\u001b[49m\u001b[43m,\u001b[49m\u001b[43m \u001b[49m\u001b[43matype\u001b[49m\u001b[38;5;241;43m=\u001b[39;49m\u001b[43matype\u001b[49m\u001b[43m,\u001b[49m\u001b[43m \u001b[49m\u001b[43mdomain\u001b[49m\u001b[38;5;241;43m=\u001b[39;49m\u001b[43mdomain\u001b[49m\n\u001b[1;32m    307\u001b[0m \u001b[43m\u001b[49m\u001b[43m)\u001b[49m\n\u001b[1;32m    308\u001b[0m \u001b[38;5;28;01mreturn\u001b[39;00m \u001b[38;5;28mself\u001b[39m\n",
      "File \u001b[0;32m/Applications/Blender.app/Contents/Resources/4.3/python/lib/python3.11/site-packages/databpy/attribute.py:272\u001b[0m, in \u001b[0;36mstore_named_attribute\u001b[0;34m(obj, data, name, atype, domain, overwrite)\u001b[0m\n\u001b[1;32m    269\u001b[0m     attribute \u001b[38;5;241m=\u001b[39m obj\u001b[38;5;241m.\u001b[39mdata\u001b[38;5;241m.\u001b[39mattributes\u001b[38;5;241m.\u001b[39mnew(name, atype\u001b[38;5;241m.\u001b[39mvalue\u001b[38;5;241m.\u001b[39mtype_name, \u001b[38;5;28mstr\u001b[39m(domain))\n\u001b[1;32m    271\u001b[0m \u001b[38;5;28;01mif\u001b[39;00m \u001b[38;5;28mlen\u001b[39m(data) \u001b[38;5;241m!=\u001b[39m \u001b[38;5;28mlen\u001b[39m(attribute\u001b[38;5;241m.\u001b[39mdata):\n\u001b[0;32m--> 272\u001b[0m     \u001b[38;5;28;01mraise\u001b[39;00m AttributeMismatchError(\n\u001b[1;32m    273\u001b[0m         \u001b[38;5;124mf\u001b[39m\u001b[38;5;124m\"\u001b[39m\u001b[38;5;124mData length \u001b[39m\u001b[38;5;132;01m{\u001b[39;00m\u001b[38;5;28mlen\u001b[39m(data)\u001b[38;5;132;01m}\u001b[39;00m\u001b[38;5;124m, dimensions \u001b[39m\u001b[38;5;132;01m{\u001b[39;00mdata\u001b[38;5;241m.\u001b[39mshape\u001b[38;5;132;01m}\u001b[39;00m\u001b[38;5;124m does not equal the size of the target domain \u001b[39m\u001b[38;5;132;01m{\u001b[39;00mdomain\u001b[38;5;132;01m}\u001b[39;00m\u001b[38;5;124m, len=\u001b[39m\u001b[38;5;132;01m{\u001b[39;00m\u001b[38;5;28mlen\u001b[39m(attribute\u001b[38;5;241m.\u001b[39mdata)\u001b[38;5;132;01m=}\u001b[39;00m\u001b[38;5;124m\"\u001b[39m\n\u001b[1;32m    274\u001b[0m     )\n\u001b[1;32m    276\u001b[0m \u001b[38;5;66;03m# the 'foreach_set' requires a 1D array, regardless of the shape of the attribute\u001b[39;00m\n\u001b[1;32m    277\u001b[0m \u001b[38;5;66;03m# so we have to flatten it first\u001b[39;00m\n\u001b[1;32m    278\u001b[0m attribute\u001b[38;5;241m.\u001b[39mdata\u001b[38;5;241m.\u001b[39mforeach_set(atype\u001b[38;5;241m.\u001b[39mvalue\u001b[38;5;241m.\u001b[39mvalue_name, data\u001b[38;5;241m.\u001b[39mreshape(\u001b[38;5;241m-\u001b[39m\u001b[38;5;241m1\u001b[39m))\n",
      "\u001b[0;31mAttributeMismatchError\u001b[0m: Data length 5, dimensions (5,) does not equal the size of the target domain POINT, len=len(attribute.data)=2"
     ]
    }
   ],
   "source": [
    "import databpy as db\n",
    "import numpy as np\n",
    "\n",
    "tanslation_dict = ['d' 'e' 'h' 'l' 'o' 'r' 'w']\n",
    "array = np.array([\n",
    "    np.array([2, 1, 3, 3, 4]), \n",
    "    np.array([6, 4, 5, 3, 0])\n",
    "])\n",
    "# Create Bob object\n",
    "vertices = np.zeros((2, 3), dtype=np.float32)\n",
    "bob = db.create_bob(vertices, name=\"DinoStar\")\n",
    "\n",
    "# Store named attributes\n",
    "for col in array:\n",
    "    bob.store_named_attribute(col, \"my_integers\")"
   ]
  },
  {
   "cell_type": "code",
   "execution_count": null,
   "metadata": {},
   "outputs": [],
   "source": []
  }
 ],
 "metadata": {
  "kernelspec": {
   "display_name": "blender",
   "language": "python",
   "name": "blender"
  },
  "language_info": {
   "codemirror_mode": {
    "name": "ipython",
    "version": 3
   },
   "file_extension": ".py",
   "mimetype": "text/x-python",
   "name": "python",
   "nbconvert_exporter": "python",
   "pygments_lexer": "ipython3",
   "version": "3.11.9"
  }
 },
 "nbformat": 4,
 "nbformat_minor": 2
}
